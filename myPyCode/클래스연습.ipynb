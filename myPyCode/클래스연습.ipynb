{
 "cells": [
  {
   "cell_type": "markdown",
   "metadata": {},
   "source": [
    "###### 예제\n",
    "\n",
    "employee(1111, '홍길동', 100000, ['낚시','여행','운동'])\n",
    "e1.display()\n",
    "\n",
    "결과\n",
    "    사번: 1111\n",
    "    이름: 홍길동\n",
    "    급여: 100000\n",
    "    취미: 여행, 낚시, 운동\n",
    "    \n",
    "e2 = Employee(1112, '홍길동', 1200000, [\"자전거','볼링'])\n",
    "e3 = Employee(1113, '신돌석', 1400000, ['독서'])\n",
    "\n",
    "total = Employee.getCount()\n",
    "print(\"총 직원수: \", total())\n",
    "\n",
    "e3.setSallary(200000)\n",
    "e3.appendHobby([\"피아노\", \"드론\"])\n",
    "e3.display()\n",
    "\n",
    "결과:\n",
    "    사번: 1113\n",
    "    이름: 신돌석\n",
    "    급여: 2000000\n",
    "    취미: 독서, 피아노, 드론"
   ]
  },
  {
   "cell_type": "code",
   "execution_count": 65,
   "metadata": {},
   "outputs": [],
   "source": [
    "class Employee:\n",
    "    \n",
    "    def __init__(self, id, name, salary, hobby):\n",
    "        self.id = id\n",
    "        self.name = name\n",
    "        self.salary = salary\n",
    "        self.hobby = hobby\n",
    "        append = \"n\"\n",
    "        print('\\n------------------------------')\n",
    "    \n",
    "    def setdata(self, id, name, salary, hobby):\n",
    "        self.id = id\n",
    "        self.name = name\n",
    "        self.salary = salary\n",
    "        self.hobby = hobby\n",
    "    \n",
    "    def print_info(self):\n",
    "        print(\"사번: \", self.id)\n",
    "        print(\"이름: \", self.name)\n",
    "        print(\"급여: \", self.salary)\n",
    "        print(\"취미: \", self.hobby)\n",
    "        \n",
    "    def setSalary(self, salary):\n",
    "        print(\"급여: \", self.setsalary)\n",
    "    \n",
    "    def appendHobby(hobby):\n",
    "        append.hobby = n\n",
    "    \n",
    "    @staticmethod\n",
    "    def getCount():\n",
    "        pass"
   ]
  },
  {
   "cell_type": "code",
   "execution_count": 67,
   "metadata": {},
   "outputs": [
    {
     "name": "stdout",
     "output_type": "stream",
     "text": [
      "\n",
      "------------------------------\n",
      "사번:  1111\n",
      "이름:  홍길동\n",
      "급여:  1000000\n",
      "취미:  ['낚시']\n",
      "\n",
      "------------------------------\n",
      "사번:  2222\n",
      "이름:  임꺽정\n",
      "급여:  1200000\n",
      "취미:  ['영화', '음악']\n",
      "\n",
      "------------------------------\n",
      "사번:  3333\n",
      "이름:  신돌석\n",
      "급여:  1400000\n",
      "취미:  ['독서']\n"
     ]
    }
   ],
   "source": [
    "e1 = Employee(1111, \"홍길동\", 1000000, [\"낚시\"])\n",
    "e1.print_info()\n",
    "\n",
    "e2 = Employee(2222, \"임꺽정\", 1200000, [\"영화\", \"음악\"])\n",
    "e2.print_info()\n",
    "  \n",
    "e3 = Employee(3333, \"신돌석\", 1400000, [\"독서\"])\n",
    "e3.print_info()"
   ]
  },
  {
   "cell_type": "code",
   "execution_count": null,
   "metadata": {},
   "outputs": [],
   "source": []
  },
  {
   "cell_type": "code",
   "execution_count": null,
   "metadata": {},
   "outputs": [],
   "source": []
  }
 ],
 "metadata": {
  "kernelspec": {
   "display_name": "Python 3",
   "language": "python",
   "name": "python3"
  },
  "language_info": {
   "codemirror_mode": {
    "name": "ipython",
    "version": 3
   },
   "file_extension": ".py",
   "mimetype": "text/x-python",
   "name": "python",
   "nbconvert_exporter": "python",
   "pygments_lexer": "ipython3",
   "version": "3.8.3"
  }
 },
 "nbformat": 4,
 "nbformat_minor": 4
}
