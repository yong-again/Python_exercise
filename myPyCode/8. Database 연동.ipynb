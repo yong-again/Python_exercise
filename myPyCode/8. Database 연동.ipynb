{
 "cells": [
  {
   "cell_type": "markdown",
   "metadata": {},
   "source": [
    "## 파이썬과 MySQL 활용\n",
    "\n",
    "1. 파이썬과 MySQL을 연결하는 모듈: mysqlclient, PyMySQL\n",
    "    pip install mysqlclient\n",
    "    pip install PyMySQL"
   ]
  },
  {
   "cell_type": "code",
   "execution_count": 9,
   "metadata": {},
   "outputs": [
    {
     "name": "stdout",
     "output_type": "stream",
     "text": [
      "<_mysql.connection open to '127.0.0.1' at 000001676F127588>\n"
     ]
    }
   ],
   "source": [
    "# mysqlclient 모듈 사용\n",
    "import MySQLdb\n",
    "\n",
    "conn=MySQLdb.connect(host=\"127.0.0.1\",user=\"root\", password=\"*dydwjd1412\", database=\"testdb\")\n",
    "print(conn)\n",
    "conn.close()"
   ]
  },
  {
   "cell_type": "code",
   "execution_count": 3,
   "metadata": {},
   "outputs": [],
   "source": [
    "import pymysql"
   ]
  },
  {
   "cell_type": "markdown",
   "metadata": {},
   "source": [
    "## 파이썬과 SQLite\n",
    "\n",
    "1. 로컬 DB로 사용할 수 있는 DBMS\n",
    "    - ACCESS\n",
    "    - SQLite\n",
    "    - Microsoft SQL Sever Compact Edition\n",
    "    - Firebird Embedded Server\n",
    "    - H2\n",
    "    - HSQL\n",
    "    - Apache Derby\n",
    "    ...\n",
    "    \n",
    "2. 특징\n",
    "    - 파일 기반의 DBMS, 저메모리, 빠른 처리속도\n",
    "    - 오픈 소스\n",
    "    - 별도의 DB서버가 없어도 쉽고 편리하게 사용할 수 있는 Embeded SQL DB엔진\n",
    "    - 안드로이드, 아이폰 등의 스마트폰에 기본 내장된 DB\n",
    "    - 파이썬에도 내장\n",
    "    - 표준 SQL 지원\n",
    "    \n",
    "    - 컬럼을 삭제하거나 변경하는 것 등이 제한\n",
    "    - LEFT OUTHER JOIN만 지원\n",
    "    - 읽기 전용 뷰만 제공 \n",
    "    \n",
    "3. 공식사이트\n",
    "    http://sqlite.org\n",
    " \n",
    "4. 클라이언트 툴\n",
    "    http://www.sqliteexpert.com\n",
    "    "
   ]
  },
  {
   "cell_type": "code",
   "execution_count": 2,
   "metadata": {},
   "outputs": [],
   "source": [
    "import sqlite3"
   ]
  },
  {
   "cell_type": "code",
   "execution_count": 3,
   "metadata": {},
   "outputs": [
    {
     "ename": "NameError",
     "evalue": "name 'sqllie3' is not defined",
     "output_type": "error",
     "traceback": [
      "\u001b[1;31m---------------------------------------------------------------------------\u001b[0m",
      "\u001b[1;31mNameError\u001b[0m                                 Traceback (most recent call last)",
      "\u001b[1;32m<ipython-input-3-00d429644822>\u001b[0m in \u001b[0;36m<module>\u001b[1;34m\u001b[0m\n\u001b[1;32m----> 1\u001b[1;33m \u001b[0mprint\u001b[0m\u001b[1;33m(\u001b[0m\u001b[0msqllie3\u001b[0m\u001b[1;33m.\u001b[0m\u001b[0mversion\u001b[0m\u001b[1;33m)\u001b[0m\u001b[1;33m\u001b[0m\u001b[1;33m\u001b[0m\u001b[0m\n\u001b[0m",
      "\u001b[1;31mNameError\u001b[0m: name 'sqllie3' is not defined"
     ]
    }
   ],
   "source": [
    "print(sqllie3.version)"
   ]
  },
  {
   "cell_type": "code",
   "execution_count": 6,
   "metadata": {},
   "outputs": [
    {
     "name": "stdout",
     "output_type": "stream",
     "text": [
      "2.6.0\n",
      "3.31.1\n"
     ]
    }
   ],
   "source": [
    "print(sqlite3.version)\n",
    "print(sqlite3.sqlite_version)"
   ]
  },
  {
   "cell_type": "code",
   "execution_count": 7,
   "metadata": {},
   "outputs": [],
   "source": [
    "conn = sqlite3.connect(\"sqlitetest.db\")\n",
    "cur.close()\n",
    "conn.close()"
   ]
  },
  {
   "cell_type": "code",
   "execution_count": 9,
   "metadata": {},
   "outputs": [
    {
     "name": "stdout",
     "output_type": "stream",
     "text": [
      "<sqlite3.Connection object at 0x0000020888A703B0>\n",
      "<sqlite3.Cursor object at 0x0000020888B14A40>\n"
     ]
    }
   ],
   "source": [
    "print(conn)\n",
    "cur = conn.cursor()\n",
    "print(cur)"
   ]
  },
  {
   "cell_type": "code",
   "execution_count": 10,
   "metadata": {},
   "outputs": [
    {
     "name": "stdout",
     "output_type": "stream",
     "text": [
      "('최주현', '하늘과 땅')\n",
      "('최주현', '바다')\n",
      "('유은정', '바다')\n",
      "('박성우', '문')\n",
      "('최주현', '문')\n",
      "('박성우', '천국')\n",
      "('최지은', '천국')\n",
      "('최주현', '천국')\n",
      "('박성우', '고슴도치')\n",
      "('서금동', '나')\n"
     ]
    }
   ],
   "source": [
    "#select\n",
    "\n",
    "conn = sqlite3.connect(\"sqlitetest.db\")\n",
    "cur = conn.cursor()\n",
    "\n",
    "cur.execute(\"select * from tblbook\")\n",
    "for row in cur.fetchall():\n",
    "    print(row)\n",
    "    \n",
    "cur.close()\n",
    "conn.close()"
   ]
  },
  {
   "cell_type": "code",
   "execution_count": 11,
   "metadata": {},
   "outputs": [
    {
     "data": {
      "text/plain": [
       "'\\nmysqlite.db 생성\\n\\nCREATE TABLE tblMember(\\nid int,\\nname varchar(10),\\nregdate datetime\\n);\\n'"
      ]
     },
     "execution_count": 11,
     "metadata": {},
     "output_type": "execute_result"
    }
   ],
   "source": [
    "\"\"\"\n",
    "mysqlite.db 생성\n",
    "\n",
    "CREATE TABLE tblMember(\n",
    "id int,\n",
    "name varchar(10),\n",
    "regdate datetime\n",
    ");\n",
    "\"\"\""
   ]
  },
  {
   "cell_type": "code",
   "execution_count": 13,
   "metadata": {},
   "outputs": [
    {
     "name": "stdout",
     "output_type": "stream",
     "text": [
      "(1, '홍길동', '2020-12-25')\n",
      "(1, '임꺽정', '2020-11-20')\n"
     ]
    }
   ],
   "source": [
    "conn = sqlite3.connect(\"mysqlite.db\")\n",
    "cur = conn.cursor()\n",
    "\n",
    "cur.execute(\"select * from tblMember\")\n",
    "for row in cur.fetchall():\n",
    "    print(row)\n",
    "    \n",
    "cur.close()\n",
    "conn.close()"
   ]
  },
  {
   "cell_type": "code",
   "execution_count": 20,
   "metadata": {},
   "outputs": [
    {
     "name": "stdout",
     "output_type": "stream",
     "text": [
      "<sqlite3.Connection object at 0x00000208898B5570>\n",
      "(1, '홍길동')\n"
     ]
    }
   ],
   "source": [
    "conn = sqlite3.connect(\"auto.db\")\n",
    "print(conn)\n",
    "cur = conn.cursor()\n",
    "\n",
    "cur.execute(\"create table if not exists tblmember(id int, name varchar(10))\")\n",
    "conn.commit()\n",
    "\n",
    "cur.execute(\"insert into tblmember values(1, '홍길동')\")\n",
    "conn.commit()\n",
    "\n",
    "cur.execute(\"select * from tblmember\")\n",
    "for row in cur:\n",
    "    print(row)\n",
    "    \n",
    "cur.close()\n",
    "conn.close()"
   ]
  },
  {
   "cell_type": "code",
   "execution_count": null,
   "metadata": {},
   "outputs": [],
   "source": []
  }
 ],
 "metadata": {
  "kernelspec": {
   "display_name": "Python 3",
   "language": "python",
   "name": "python3"
  },
  "language_info": {
   "codemirror_mode": {
    "name": "ipython",
    "version": 3
   },
   "file_extension": ".py",
   "mimetype": "text/x-python",
   "name": "python",
   "nbconvert_exporter": "python",
   "pygments_lexer": "ipython3",
   "version": "3.7.6"
  }
 },
 "nbformat": 4,
 "nbformat_minor": 4
}
