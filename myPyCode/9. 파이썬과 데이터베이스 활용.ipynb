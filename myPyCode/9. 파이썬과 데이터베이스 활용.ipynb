{
 "cells": [
  {
   "cell_type": "markdown",
   "metadata": {},
   "source": [
    "##  파이썬과 MySQL 활용\n",
    "1. 파이썬과 MySQL을 연결하는 모듈: mysqlclient, PyMySQL\n",
    "\n",
    "        pip install mysqlclient\n",
    "        pip install PyMySQL\n"
   ]
  },
  {
   "cell_type": "code",
   "execution_count": 1,
   "metadata": {},
   "outputs": [],
   "source": [
    "import MySQLdb"
   ]
  },
  {
   "cell_type": "code",
   "execution_count": 1,
   "metadata": {},
   "outputs": [],
   "source": [
    "import MySQLdb"
   ]
  },
  {
   "cell_type": "code",
   "execution_count": null,
   "metadata": {},
   "outputs": [],
   "source": [
    "conn = MySQLdb.connect(host=\"192.168.0.3\", user=\"newuser2\", password=\"12345\", database=\"testdb\")\n",
    "print(conn)"
   ]
  },
  {
   "cell_type": "code",
   "execution_count": 4,
   "metadata": {},
   "outputs": [
    {
     "name": "stdout",
     "output_type": "stream",
     "text": [
      "<_mysql.connection open to '192.168.0.10' at 0000020435CCF218>\n"
     ]
    }
   ],
   "source": [
    "conn = MySQLdb.connect(host=\"192.168.0.10\", user=\"newuser\", password=\"1234\", database=\"testdb\")\n",
    "print(conn)"
   ]
  },
  {
   "cell_type": "code",
   "execution_count": 6,
   "metadata": {},
   "outputs": [
    {
     "name": "stdout",
     "output_type": "stream",
     "text": [
      "<pymysql.connections.Connection object at 0x0000020436310FC8>\n"
     ]
    }
   ],
   "source": [
    "import pymysql\n",
    "conn = pymysql.connect(host=\"192.168.0.10\", user=\"newuser\", password=\"1234\", database=\"world\")\n",
    "print(conn)\n",
    "conn.close()"
   ]
  },
  {
   "cell_type": "code",
   "execution_count": 35,
   "metadata": {},
   "outputs": [],
   "source": [
    "config = {\"host\":\"192.168.0.10\", \"user\":\"newuser\", \"password\":\"1234\", \"database\":\"world\"}"
   ]
  },
  {
   "cell_type": "code",
   "execution_count": 71,
   "metadata": {},
   "outputs": [
    {
     "name": "stdout",
     "output_type": "stream",
     "text": [
      "<_mysql.connection open to '192.168.0.10' at 0000020436BA0AB8>\n"
     ]
    }
   ],
   "source": [
    "conn = MySQLdb.connect(**config)\n",
    "print(conn)"
   ]
  },
  {
   "cell_type": "code",
   "execution_count": 72,
   "metadata": {},
   "outputs": [
    {
     "name": "stdout",
     "output_type": "stream",
     "text": [
      "1 Kabul AFG Kabol 1780000\n",
      "2 Qandahar AFG Qandahar 237500\n",
      "3 Herat AFG Herat 186800\n",
      "4 Mazar-e-Sharif AFG Balkh 127800\n",
      "5 Amsterdam NLD Noord-Holland 731200\n",
      "6 Rotterdam NLD Zuid-Holland 593321\n",
      "7 Haag NLD Zuid-Holland 440900\n",
      "8 Utrecht NLD Utrecht 234323\n",
      "9 Eindhoven NLD Noord-Brabant 201843\n",
      "10 Tilburg NLD Noord-Brabant 193238\n"
     ]
    }
   ],
   "source": [
    "# SELECT\n",
    "\n",
    "sql = \"select * from city limit 10\"\n",
    "\n",
    "cursor = conn.cursor()\n",
    "cursor.execute(sql) #실행함수\n",
    "\n",
    "# print(cursor)\n",
    "\n",
    "\n",
    "#for data in cursor:\n",
    "   # print(data)   # tuple로 묶어서 출력\n",
    "    #print(\"%d %s %s %s %d\"%data)\n",
    "\n",
    "\n",
    "for a, b, c, d, e in cursor:\n",
    "    print(a, b, c, d, e)\n",
    "    \n",
    "conn.close()"
   ]
  },
  {
   "cell_type": "code",
   "execution_count": 34,
   "metadata": {},
   "outputs": [],
   "source": [
    "# insert 작업\n",
    "\n",
    "# table 만드는 작업\n",
    "conn = MySQLdb.connect(**config)\n",
    "\n",
    "sql = \"create table if not exists tbltest(empno int, ename varchar(10), sal int, job varchar(10), mgr int, deptno int, hiredate datetime)\"\n",
    "cur = conn.cursor()\n",
    "cur.execute(sql)\n",
    "\n",
    "sql = \"insert into tbltest(empno, ename, sal) values(1, 'scott', 4000)\"\n",
    "cur.execute(sql)\n",
    "conn.commit()  # DML에서만 항사 commit 을 붙여야함\n",
    "\n",
    "\n",
    "conn.close()"
   ]
  },
  {
   "cell_type": "code",
   "execution_count": 52,
   "metadata": {},
   "outputs": [],
   "source": [
    "# 외부에서 입력받은 데이터를 insert\n",
    "\n",
    "conn = MySQLdb.connect(**config)\n",
    "cur = conn.cursor()\n",
    "\n",
    "empno = 2\n",
    "ename = 'miller'\n",
    "sal = 1300\n",
    "\n",
    "sql = \"insert into tbltest(empno, ename, sal) values(\" + str(empno) + \",'\" + \\\n",
    "ename + \"',\" + str(sal) + \")\"  # sal 문자열로 연결\n",
    "\n",
    "#print(sql)\n",
    "\n",
    "cur.execute(sql)\n",
    "conn.commit()\n",
    "\n",
    "conn.close()"
   ]
  },
  {
   "cell_type": "code",
   "execution_count": 56,
   "metadata": {},
   "outputs": [],
   "source": [
    "# 간단히 insert 하는 방법\n",
    "conn = MySQLdb.connect(**config)\n",
    "cur = conn.cursor()\n",
    "\n",
    "# 예외처리\n",
    "try:\n",
    "    empno = 3\n",
    "    ename = 'tom'\n",
    "    sal = 2000\n",
    "\n",
    "    sql = \"insert into tbltest(empno, ename, sal) values(%s, %s, %s)\"\n",
    "    sql_data = (str(empno), str(ename), str(sal))\n",
    "\n",
    "    cur.execute(sql, sql_data)\n",
    "    conn.commit()\n",
    "\n",
    "finally:\n",
    "    conn.close()"
   ]
  },
  {
   "cell_type": "code",
   "execution_count": 62,
   "metadata": {},
   "outputs": [],
   "source": [
    "# 데이터 여려개 입력하기\n",
    "\n",
    "conn = MySQLdb.connect(**config)\n",
    "cur = conn.cursor()\n",
    "\n",
    "\n",
    "for i in range(10):\n",
    "    sql = \"insert into tbltest(empno, ename, sal) values(5, 'jane', 1000)\"\n",
    "    cur.execute(sql)\n",
    "    conn.commit()\n",
    "    \n",
    "conn.close()\n"
   ]
  },
  {
   "cell_type": "code",
   "execution_count": 66,
   "metadata": {},
   "outputs": [
    {
     "name": "stdout",
     "output_type": "stream",
     "text": [
      "(1, 'scott', 4000, None, None, None, None)\n",
      "(2, 'miller', 1300, None, None, None, None)\n",
      "(3, 'tom', 2000, None, None, None, None)\n",
      "(3, 'tom', 2000, None, None, None, None)\n",
      "(3, 'tom', 2000, None, None, None, None)\n"
     ]
    }
   ],
   "source": [
    "# cursor 객체의 fetchall() 모든데이터출력 , fetchmany() 다수의 데이터 , fetchone() 한개\n",
    "\n",
    "conn = MySQLdb.connect(**config)\n",
    "cur = conn.cursor()\n",
    "\n",
    "\n",
    "try:\n",
    "    cur.execute(\"select * from tbltest\")\n",
    "    \n",
    "    #for i in cur.fetchall():\n",
    "        #print(i)\n",
    "        \n",
    "    many = cur.fetchmany(4)\n",
    "    for i in many:\n",
    "        print(i)\n",
    "        \n",
    "        \n",
    "    one = cur.fetchone()\n",
    "    print(one)\n",
    "\n",
    "finally:\n",
    "    conn.close()"
   ]
  },
  {
   "cell_type": "code",
   "execution_count": 69,
   "metadata": {
    "scrolled": false
   },
   "outputs": [
    {
     "name": "stdout",
     "output_type": "stream",
     "text": [
      "1 scott 4000\n",
      "2 miller 1300\n",
      "3 tom 2000\n",
      "3 tom 2000\n",
      "3 tom 2000\n",
      "3 tom 2000\n",
      "5 jane 1000\n",
      "5 jane 1000\n",
      "5 jane 1000\n",
      "5 jane 1000\n",
      "5 jane 1000\n",
      "5 jane 1000\n",
      "5 jane 1000\n",
      "5 jane 1000\n",
      "5 jane 1000\n",
      "5 jane 1000\n"
     ]
    }
   ],
   "source": [
    "# Dictcursor\n",
    "\n",
    "conn = MySQLdb.connect(**config)\n",
    "cur = conn.cursor(MySQLdb.cursors.DictCursor)\n",
    "\n",
    "\n",
    "try:\n",
    "    cur.execute(\"select * from tbltest\")\n",
    "    \n",
    "    for i in cur.fetchall():\n",
    "        #print(i[0], i[1], i[2]) \n",
    "        print(i[\"empno\"], i[\"ename\"], i[\"sal\"])\n",
    "        \n",
    "finally:\n",
    "    conn.close()"
   ]
  },
  {
   "cell_type": "code",
   "execution_count": null,
   "metadata": {},
   "outputs": [],
   "source": [
    "# CSV파일을 DB에 저장\n",
    "\n",
    "\"\"\"\n",
    "CREATE TABLE IF NOT EXISTS suppliers(\n",
    "    Supplier_Name    varchar(20),\n",
    "    Invoice_Number   varchar(20),\n",
    "    Part_Number      varchar(20),\n",
    "    Cost             float,\n",
    "    Purchase_Date    date\n",
    ");\n",
    "\"\"\""
   ]
  },
  {
   "cell_type": "code",
   "execution_count": 88,
   "metadata": {},
   "outputs": [],
   "source": [
    "# csv에는 더 많이씀\n",
    "import csv\n",
    "from datetime import datetime\n",
    "\n",
    "file = csv.reader(open(\"input.csv\"))\n",
    "#print(file)\n",
    "\n",
    "header = next(file) # CSV 모듈 자체가 ','' 로 구분해서 출력, 한 줄씩 불러오기, \n",
    "                    # 제목은 저장할 필요가 없기 때문에  그 다음 줄 부터 저장하기 위해 next로 출력함\n",
    "#print(header)\n",
    "\n",
    "#a = next(file)\n",
    "#print(a)\n",
    "\n",
    "conn = MySQLdb.connect(**config)\n",
    "cur = conn.cursor()\n",
    "\n",
    "try:\n",
    "    cur.execute(\"delete from suppliers\") # 12개만 저장\n",
    "    conn.commit\n",
    "    for row in file:   #next 는 자동적으로 입력됨\n",
    "        #print(row)\n",
    "        #cur.execute(\"insert into suppliers values(%s, %s, %s, %s, %s)\", row)\n",
    "        \n",
    "        data = [] \n",
    "        for col in range(len(header)):   # 열의 개수 만큼 반복, 열 수정\n",
    "            if col == 4:                 \n",
    "                tmp = datetime.strptime(row[col], '%Y-%m-%d')\n",
    "                data.append(tmp)\n",
    "                \n",
    "            else:\n",
    "                data.append(row[col])\n",
    "                \n",
    "        cur.execute(\"insert into suppliers values(%s, %s, %s, %s, %s)\", data)\n",
    "        \n",
    "    conn.commit()\n",
    "    \n",
    "finally:\n",
    "    conn.close()"
   ]
  },
  {
   "cell_type": "code",
   "execution_count": 1,
   "metadata": {},
   "outputs": [
    {
     "ename": "NameError",
     "evalue": "name 'MySQLdb' is not defined",
     "output_type": "error",
     "traceback": [
      "\u001b[1;31m---------------------------------------------------------------------------\u001b[0m",
      "\u001b[1;31mNameError\u001b[0m                                 Traceback (most recent call last)",
      "\u001b[1;32m<ipython-input-1-48950febb5a2>\u001b[0m in \u001b[0;36m<module>\u001b[1;34m\u001b[0m\n\u001b[0;32m      1\u001b[0m \u001b[1;31m# DB에서 가져온 데이터를 파일로 저장\u001b[0m\u001b[1;33m\u001b[0m\u001b[1;33m\u001b[0m\u001b[1;33m\u001b[0m\u001b[0m\n\u001b[0;32m      2\u001b[0m \u001b[1;33m\u001b[0m\u001b[0m\n\u001b[1;32m----> 3\u001b[1;33m \u001b[0mconn\u001b[0m \u001b[1;33m=\u001b[0m \u001b[0mMySQLdb\u001b[0m\u001b[1;33m.\u001b[0m\u001b[0mconnect\u001b[0m\u001b[1;33m(\u001b[0m\u001b[1;33m**\u001b[0m\u001b[0mconfig\u001b[0m\u001b[1;33m)\u001b[0m\u001b[1;33m\u001b[0m\u001b[1;33m\u001b[0m\u001b[0m\n\u001b[0m\u001b[0;32m      4\u001b[0m \u001b[0mcur\u001b[0m \u001b[1;33m=\u001b[0m \u001b[0mconn\u001b[0m\u001b[1;33m.\u001b[0m\u001b[0mcursor\u001b[0m\u001b[1;33m(\u001b[0m\u001b[1;33m)\u001b[0m\u001b[1;33m\u001b[0m\u001b[1;33m\u001b[0m\u001b[0m\n\u001b[0;32m      5\u001b[0m \u001b[1;33m\u001b[0m\u001b[0m\n",
      "\u001b[1;31mNameError\u001b[0m: name 'MySQLdb' is not defined"
     ]
    }
   ],
   "source": [
    "# DB에서 가져온 데이터를 파일로 저장\n",
    "\n",
    "conn = MySQLdb.connect(**config)\n",
    "cur = conn.cursor()\n",
    "\n",
    "try:\n",
    "    cur.execute(\"select * from suppliers where cost > 500000\")\n",
    "    \n",
    "    \n",
    "    file = csv.writer(open(\"output.csv\", \"w\"), delimiter=\",\")  #csv 형식으로 저장\n",
    "    \n",
    "    header= [\"Supplier Name\",\"Invoice Number\",\"Part Number\",\"Cost\",\"Purchase Date\"]\n",
    "    file.writerow(header)\n",
    "    \n",
    "    for row in cur:\n",
    "        file.writerow(row)\n",
    "    \n",
    "finally:\n",
    "    conn.close()"
   ]
  },
  {
   "cell_type": "markdown",
   "metadata": {},
   "source": [
    "## 파이썬과 SQLite\n",
    "\n",
    "1. 로컬 DB로 사용할 수 있는 DBMS\n",
    "    - ACCESS\n",
    "    - SQLite\n",
    "    - Microsoft SQL Sever Compact Edition\n",
    "    - Firebird Embedded Server\n",
    "    - H2\n",
    "    - HSQL\n",
    "    - Apache Derby\n",
    "    ...\n",
    "    \n",
    "2. 특징\n",
    "    - 파일 기반의 DBMS, 저메모리, 빠른 처리속도\n",
    "    - 오픈 소스\n",
    "    - 별도의 DB서버가 없어도 쉽고 편리하게 사용할 수 있는 Embeded SQL DB엔진\n",
    "    - 안드로이드, 아이폰 등의 스마트폰에 기본 내장된 DB\n",
    "    - 파이썬에도 내장\n",
    "    - 표준 SQL 지원\n",
    "    \n",
    "    - 컬럼을 삭제하거나 변경하는 것 등이 제한\n",
    "    - LEFT OUTHER JOIN만 지원\n",
    "    - 읽기 전용 뷰만 제공 \n",
    "    \n",
    "3. 공식사이트\n",
    "    http://sqlite.org\n",
    " \n",
    "4. 클라이언트 툴\n",
    "    http://www.sqliteexpert.com"
   ]
  },
  {
   "cell_type": "code",
   "execution_count": 1,
   "metadata": {},
   "outputs": [],
   "source": [
    "import sqlite3"
   ]
  },
  {
   "cell_type": "code",
   "execution_count": 10,
   "metadata": {},
   "outputs": [],
   "source": [
    "# CSV 파일을 읽어서 DB에 저장  # sqlite 는 DB가 없다고 해서 오류가 나는 것이 아니라 새로 DB를 만들기 때문에 확인이 필요\n",
    "conn = sqlite3.connect(\"sqlitetest.db\")\n",
    "# print(conn)\n",
    "cur= conn.cursor()\n",
    "\n",
    "#tables = cur.execute(\"select * from sqlite_master where type='table'\")\n",
    "#for i in tables:\n",
    "    #print(i)\n",
    "import csv    \n",
    "file = csv.reader(open(\"input.csv\", \"r\"), delimiter =\",\") # csv 파일을 List 로 불러 온다\n",
    "# print(file)\n",
    "\n",
    "header = next(file)\n",
    "# print(header)\n",
    "\n",
    "for row in file:\n",
    "    #print(row)\n",
    "    cur.execute(\"insert into suppliers values(?, ?, ?, ?, ?)\", row)   #MySQL은 %s로, data모듈의 차이\n",
    "conn.commit()\n",
    "\n",
    "cur.close()\n",
    "conn.close()"
   ]
  },
  {
   "cell_type": "code",
   "execution_count": 11,
   "metadata": {},
   "outputs": [
    {
     "name": "stdout",
     "output_type": "stream",
     "text": [
      "('A', '001-1001', '2341', 500000.0, '2014-01-20')\n",
      "('A', '001-1002', '2341', 500000.0, '2014-01-20')\n",
      "('A', '001-1003', '5467', 750000.0, '2014-01-20')\n",
      "('A', '001-1004', '5467', 750000.0, '2014-01-20')\n",
      "('B', '001-1005', '7009', 250000.0, '2018-01-30')\n"
     ]
    }
   ],
   "source": [
    "# select로 확인\n",
    "\n",
    "conn = sqlite3.connect(\"sqlitetest.db\")\n",
    "cur = conn.cursor()\n",
    "\n",
    "cur.execute(\"select * from suppliers\")\n",
    "\n",
    "for row in cur.fetchmany(5):\n",
    "    print(row)\n",
    "    \n",
    "cur.close()\n",
    "conn.close()"
   ]
  },
  {
   "cell_type": "code",
   "execution_count": 26,
   "metadata": {},
   "outputs": [
    {
     "name": "stdout",
     "output_type": "stream",
     "text": [
      "('tom', '010-111-1111')\n",
      "('Johnson', '010-2222-2222')\n",
      "('jane', '010-3333-3333')\n",
      "('jerry', '010-4444-4444')\n",
      "('marry', '010-5555-5555')\n"
     ]
    }
   ],
   "source": [
    "# 메모리 DB\n",
    "conn = sqlite3.connect(\":memory:\")\n",
    "#print(conn)\n",
    "\n",
    "cur = conn.cursor()\n",
    "cur.execute(\"create table phonebook(name text, phonenumber text);\")\n",
    "cur.execute(\"insert into phonebook values(?,?);\", (\"tom\", \"010-111-1111\"))\n",
    "    \n",
    "# 입력 데이터를 인자를 변수명으로 처리\n",
    "sql = \"insert into phonebook values(:vName, :vPhone)\" # : 은 변수라고 지칭\n",
    "cur.execute(sql, {\"vName\":\"Johnson\", \"vPhone\":\"010-2222-2222\"})\n",
    "\n",
    "# 여러 개의 데이터를 한번에 입력\n",
    "datalist = (('jane', '010-3333-3333'), ('jerry', '010-4444-4444'), ('marry','010-5555-5555'))\n",
    "cur.executemany(\"insert into phonebook values(?, ?);\", datalist)\n",
    "\n",
    "# 작업한 내용을 script로 저장\n",
    "f = open(\"dump.sql\", \"w\")\n",
    "for line in conn.iterdump():\n",
    "    f.write(\"{}\\n\".format(line))\n",
    "    \n",
    "f.close()\n",
    "\n",
    "cur.execute(\"select * from phonebook\")\n",
    "for row in cur:\n",
    "    print(row)\n",
    "    \n",
    "conn.close()"
   ]
  },
  {
   "cell_type": "code",
   "execution_count": 28,
   "metadata": {},
   "outputs": [],
   "source": [
    "# 스크립트 불러오기\n",
    "\n",
    "conn = sqlite3.connect(\"sqlitetest.db\")\n",
    "cur = conn.cursor()\n",
    "\n",
    "file = open(\"dump.sql\", \"r\")\n",
    "script = file.read()\n",
    "#print(script)\n",
    "\n",
    "cur.executescript(script)\n",
    "conn.close()"
   ]
  },
  {
   "cell_type": "markdown",
   "metadata": {},
   "source": [
    "## MongoDB 와 연동\n",
    "\n",
    "    - pip install pymongo"
   ]
  },
  {
   "cell_type": "markdown",
   "metadata": {},
   "source": [
    "##### 1. 서버연결"
   ]
  },
  {
   "cell_type": "code",
   "execution_count": 1,
   "metadata": {},
   "outputs": [],
   "source": [
    "#import pymongo\n",
    "from pymongo import MongoClient\n"
   ]
  },
  {
   "cell_type": "code",
   "execution_count": 7,
   "metadata": {},
   "outputs": [
    {
     "name": "stdout",
     "output_type": "stream",
     "text": [
      "MongoClient(host=['127.0.0.1:27017'], document_class=dict, tz_aware=False, connect=True)\n"
     ]
    }
   ],
   "source": [
    "#conn = pymongo.MongoClient(\"127.0.0.1\", 27017)\n",
    "conn = MongoClient(\"127.0.0.1\", 27017)\n",
    "print(conn)\n",
    "conn.close()"
   ]
  },
  {
   "cell_type": "code",
   "execution_count": 4,
   "metadata": {},
   "outputs": [
    {
     "name": "stdout",
     "output_type": "stream",
     "text": [
      "Requirement already satisfied: pymongo in c:\\users\\leeya\\anaconda3\\lib\\site-packages (3.11.1)\n"
     ]
    }
   ],
   "source": [
    "!pip install pymongo"
   ]
  },
  {
   "cell_type": "markdown",
   "metadata": {},
   "source": [
    "##### 2. db연결"
   ]
  },
  {
   "cell_type": "code",
   "execution_count": 12,
   "metadata": {},
   "outputs": [
    {
     "name": "stdout",
     "output_type": "stream",
     "text": [
      "Database(MongoClient(host=['127.0.0.1:27017'], document_class=dict, tz_aware=False, connect=True), 'test')\n"
     ]
    }
   ],
   "source": [
    "conn = MongoClient(\"mongodb://127.0.0.1:27017\")\n",
    "#dbname = conn.test2\n",
    "#dbname = conn[\"test\"]\n",
    "dbname = conn.get_database(\"test\")\n",
    "print(dbname)\n",
    "conn.close()"
   ]
  },
  {
   "cell_type": "markdown",
   "metadata": {},
   "source": [
    "#### 3. collection 과 연결\n"
   ]
  },
  {
   "cell_type": "code",
   "execution_count": 3,
   "metadata": {},
   "outputs": [
    {
     "name": "stdout",
     "output_type": "stream",
     "text": [
      "Collection(Database(MongoClient(host=['127.0.0.1:27017'], document_class=dict, tz_aware=False, connect=True), 'test'), 'articles')\n"
     ]
    }
   ],
   "source": [
    "conn = MongoClient(\"mongodb://127.0.0.1:27017\")\n",
    "dbname = conn.get_database(\"test\")\n",
    "\n",
    "collect = dbname.articles\n",
    "print(collect)\n",
    "\n",
    "conn.close()"
   ]
  },
  {
   "cell_type": "markdown",
   "metadata": {},
   "source": [
    "#### 4. 데이터 입력"
   ]
  },
  {
   "cell_type": "code",
   "execution_count": 11,
   "metadata": {},
   "outputs": [
    {
     "name": "stdout",
     "output_type": "stream",
     "text": [
      "7\n",
      "{'_id': ObjectId('5fbded371f9c0a0c53b63548'), 'name': 'Abet', 'age': 20.0, 'score': 10.0}\n",
      "{'_id': ObjectId('5fbded371f9c0a0c53b63549'), 'name': 'Betty', 'age': 20.0, 'score': 10.0}\n",
      "{'_id': ObjectId('5fbded371f9c0a0c53b6354a'), 'name': 'Charlie', 'age': 23.0, 'skills': ['mongodb', 'nodejs']}\n",
      "{'_id': ObjectId('5fbded371f9c0a0c53b6354b'), 'name': 'David', 'age': 23.0, 'score': 20.0}\n",
      "{'_id': ObjectId('5fbdf4cf0e4248bed4c9e00e'), 'name': 'Elly', 'age': 17.0, 'score': 10.0}\n",
      "{'_id': ObjectId('5fbf028c069510830f3dd8db'), 'author': 'Tom', 'text': 'my first blog post', 'tag': ['mongodb', 'python']}\n",
      "{'_id': ObjectId('5fbf02e6069510830f3dd8dd'), 'author': 'Mike', 'text': 'my first blog post', 'tag': ['mongodb', 'python']}\n"
     ]
    }
   ],
   "source": [
    "conn = MongoClient(\"mongodb://127.0.0.1:27017\")\n",
    "dbname = conn.get_database(\"test\")\n",
    "\n",
    "collect = dbname.people\n",
    "\n",
    "#data = {\"author\":\"Mike\", \"text\":\"my first blog post\", \"tag\":[\"mongodb\",\"python\"]}\n",
    "#collect.insert_one(data)\n",
    "\n",
    "# 입력하면서 id 가져오기\n",
    "data = {\"author\":\"Tom\", \"text\":\"my first blog post\", \"tag\":[\"mongodb\",\"python\"]}\n",
    "post_id = collect.insert_one(data).inserted_id\n",
    "print(post_id)\n",
    "\n",
    "print(collect.count_documents({}))\n",
    "\n",
    "for i in collect.find():\n",
    "    print(i)\n",
    "    \n",
    "conn.close()    "
   ]
  },
  {
   "cell_type": "markdown",
   "metadata": {},
   "source": [
    "#### 5. 데이터 입력하기(여러 개)"
   ]
  },
  {
   "cell_type": "code",
   "execution_count": 13,
   "metadata": {},
   "outputs": [
    {
     "name": "stdout",
     "output_type": "stream",
     "text": [
      "7\n",
      "17\n"
     ]
    }
   ],
   "source": [
    "conn = MongoClient(\"mongodb://127.0.0.1:27017\")\n",
    "dbname = conn.get_database(\"test\")\n",
    "collect = dbname.people\n",
    "\n",
    "print(collect.count_documents({}))\n",
    "\n",
    "collect.insert_many([{\"number\":i} for i in range(10)])\n",
    "\n",
    "print(collect.count_documents({}))\n",
    "\n",
    "conn.close()"
   ]
  },
  {
   "cell_type": "code",
   "execution_count": 15,
   "metadata": {},
   "outputs": [
    {
     "name": "stdout",
     "output_type": "stream",
     "text": [
      "[{'number': 0}, {'number': 1}, {'number': 2}, {'number': 3}, {'number': 4}, {'number': 5}, {'number': 6}, {'number': 7}, {'number': 8}, {'number': 9}]\n"
     ]
    }
   ],
   "source": [
    "datas = []\n",
    "for i in range(10):\n",
    "    data = {\"number\": i}\n",
    "    datas.append(data)\n",
    "\n",
    "print(datas)"
   ]
  },
  {
   "cell_type": "code",
   "execution_count": 16,
   "metadata": {},
   "outputs": [],
   "source": [
    "conn = MongoClient(\"mongodb://127.0.0.1:27017\")\n",
    "dbname = conn.get_database(\"test\")\n",
    "collect = dbname.people\n",
    "\n",
    "data = list()\n",
    "data.append({\"name\":\"aron\", \"age\":20})\n",
    "data.append({\"name\":\"tom\", \"age\":27})\n",
    "data.append({\"name\":\"jerry\", \"age\":10})\n",
    "data.append({\"name\":\"cardi\", \"age\":24})\n",
    "\n",
    "collect.insert_many(data)\n",
    "\n",
    "conn.close()"
   ]
  },
  {
   "cell_type": "markdown",
   "metadata": {},
   "source": [
    "##### 6. 조회"
   ]
  },
  {
   "cell_type": "code",
   "execution_count": 28,
   "metadata": {},
   "outputs": [
    {
     "name": "stdout",
     "output_type": "stream",
     "text": [
      "{'_id': ObjectId('5fbded371f9c0a0c53b6354a'), 'name': 'Charlie', 'age': 23.0, 'skills': ['mongodb', 'nodejs']}\n"
     ]
    }
   ],
   "source": [
    "conn = MongoClient(\"mongodb://127.0.0.1:27017\")\n",
    "dbname = conn.get_database(\"test\")\n",
    "collect = dbname.people\n",
    "\n",
    "conn.close()\n",
    "\n",
    "# 전체 조회\n",
    "\n",
    "#for i in collect.find():\n",
    "    #print(i)\n",
    "    \n",
    "#for i in collect.find({\"age\":20}):\n",
    "    #print(i)\n",
    "# 나이가 20세 이상인 document 조회\n",
    "#for i in collect.find({\"age\":{\"$gte\":23}}):\n",
    "#    print(i)\n",
    "\n",
    "#print(collect.find_one())\n",
    "\n",
    "print(collect.find_one({\"age\":23}))\n",
    "conn.close()"
   ]
  },
  {
   "cell_type": "markdown",
   "metadata": {},
   "source": [
    "#### 7. 수정"
   ]
  },
  {
   "cell_type": "code",
   "execution_count": 31,
   "metadata": {},
   "outputs": [
    {
     "name": "stdout",
     "output_type": "stream",
     "text": [
      "{'_id': ObjectId('5fbf028c069510830f3dd8db'), 'author': 'Tom', 'text': 'my second blog post!', 'tag': ['mongodb', 'python']}\n"
     ]
    }
   ],
   "source": [
    "conn = MongoClient(\"mongodb://127.0.0.1:27017\")\n",
    "dbname = conn.get_database(\"test\")\n",
    "collect = dbname.people\n",
    "\n",
    "collect.update_one({\"author\":\"Tom\"},{\"$set\":{\"text\":\"my second blog post!\"}})\n",
    "print(collect.find_one({\"author\":\"Tom\"}))\n",
    "conn.close()"
   ]
  },
  {
   "cell_type": "code",
   "execution_count": null,
   "metadata": {},
   "outputs": [],
   "source": []
  }
 ],
 "metadata": {
  "kernelspec": {
   "display_name": "Python 3",
   "language": "python",
   "name": "python3"
  },
  "language_info": {
   "codemirror_mode": {
    "name": "ipython",
    "version": 3
   },
   "file_extension": ".py",
   "mimetype": "text/x-python",
   "name": "python",
   "nbconvert_exporter": "python",
   "pygments_lexer": "ipython3",
   "version": "3.7.9"
  }
 },
 "nbformat": 4,
 "nbformat_minor": 4
}
