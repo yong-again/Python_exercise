{
 "cells": [
  {
   "cell_type": "markdown",
   "metadata": {},
   "source": [
    "+ pythoon language = 함수형 언어\n",
    "\n",
    "## 1. 함수의 정의\n",
    "    - 일정한 작업을 수행하는 코드 블럭\n",
    "    \n",
    "## 2. 함수의 장점\n",
    "    - 반복적인 코드를 없애주어 전체 코드의 길이를 짧게 만들어 준다.\n",
    "    - 프로그램에 유지 보수를 용이하게 한다.\n",
    "\n",
    "## 3. 함수의 구현\n",
    "     - def 함수이름(\"   \"):\n",
    "         코드 정의\n",
    "         .....\n",
    "         [return]=>생략가능\n",
    "         \n",
    "## 4. 함수의 호출 방식\n",
    "\n",
    "    1) 인자(인수)가 없는 방식 : def line() -> line()  jump시에 고려\n",
    "    2) 인자가 있는 방식: lin(35) -> ()의 숫자(인자): 실인자(argument)  jump시에 고려\n",
    "    3) 반환값(return값)이 있는 방식:\n",
    "        * return의 2가지 기능\n",
    "           - 값을 반환(값은 1개만 반환 가능)\n",
    "           - 함수의 강제 종료\n",
    "    \n",
    "        + 함수를 호출 할 때에는 반드시 같은 모양의 함수만을 출력해야함\n",
    "        + 매개변수와 실인자의 개수는 같아야 출력됨\n",
    "## 5. 함수의 설계\n",
    "    1) 재사용성\n",
    "    2) 단일 기능\n",
    "    \n",
    "## 6. 함수의 종류\n",
    "    1) 사용자 정의 함수\n",
    "    2) 내장 함수(built-in Function)\n",
    "    3) 외장 함수"
   ]
  },
  {
   "cell_type": "code",
   "execution_count": 27,
   "metadata": {},
   "outputs": [],
   "source": [
    "def line():\n",
    "    for i in range(35):\n",
    "        print(\"*\", end=\"\")\n",
    "    print()"
   ]
  },
  {
   "cell_type": "code",
   "execution_count": 18,
   "metadata": {},
   "outputs": [
    {
     "name": "stdout",
     "output_type": "stream",
     "text": [
      "****************************************\n",
      "             친구관리프로그램                  \n",
      "****************************************\n",
      "1. 친구 리스트 출력\n",
      "2. 친구 추가\n",
      "3. 종료\n",
      "****************************************\n"
     ]
    }
   ],
   "source": [
    "# 인자가 없는 방식\n",
    "line()\n",
    "print(\"             친구관리프로그램                  \")\n",
    "line()\n",
    "print(\"1. 친구 리스트 출력\")\n",
    "print(\"2. 친구 추가\")\n",
    "print(\"3. 종료\")\n",
    "line()"
   ]
  },
  {
   "cell_type": "code",
   "execution_count": 24,
   "metadata": {},
   "outputs": [],
   "source": [
    "def line(cnt, type):\n",
    "    for i in range(cnt):\n",
    "        print(type, end=\"\")\n",
    "    print()"
   ]
  },
  {
   "cell_type": "code",
   "execution_count": 26,
   "metadata": {},
   "outputs": [
    {
     "name": "stdout",
     "output_type": "stream",
     "text": [
      "***********************************\n",
      "             친구관리프로그램                  \n",
      "-----------------------------------\n",
      "1. 친구 리스트 출력\n",
      "2. 친구 추가\n",
      "3. 종료\n",
      "===================================\n"
     ]
    }
   ],
   "source": [
    "# 인자가 있는 방식\n",
    "line(35,'*')\n",
    "print(\"             친구관리프로그램                  \")\n",
    "line(35, '-')\n",
    "print(\"1. 친구 리스트 출력\")\n",
    "print(\"2. 친구 추가\")\n",
    "print(\"3. 종료\")\n",
    "line(35, '=')"
   ]
  },
  {
   "cell_type": "code",
   "execution_count": null,
   "metadata": {},
   "outputs": [],
   "source": [
    "# 반환값(return)이 있는 함수\n",
    "\n",
    "def swap(num1, num2):\n",
    "    #num3 = num1             #다른 언어에서 이렇게 처리해야함.\n",
    "    #num1 = num2\n",
    "    #num2 = num3\n",
    "    num1, num2 = num2, num1  #한번에 swap알고리즘 구현(병렬처리가능, 파이썬에서만)\n",
    "    \n",
    "    return num1, num2    # return은 함수는 그 즉시 중단됨(반복문의 break와 같은의미)\n",
    "\n",
    "    print('이 문장이 보이는가?')\n",
    "\n",
    "##################################################\n",
    "\n",
    "num1, num2 = 10, 5\n",
    "\n",
    "print(\"두 수의 교환\")\n",
    "#n1, n2 = swap(num1, num2)   #return 값을 출력\n",
    "\n",
    "#print(\"결과= \", n1,\",\", n2) \n",
    "print(\"결과= \", swap(num1, num2))"
   ]
  },
  {
   "cell_type": "markdown",
   "metadata": {},
   "source": [
    "###### cf. swap 알고리즘\n",
    " a = 10\n",
    " b = 5\n",
    "- a=b, b=a 로 출력하면 5만 출력\n",
    "- 기존에 있던 데이터를 다른 곳에 저장 후 출력\n",
    "- ex) c=a -> a=b -> b=c  "
   ]
  },
  {
   "cell_type": "markdown",
   "metadata": {},
   "source": [
    "##### 과제: 제어문에서 했던 예제들을 함수화 시키기"
   ]
  },
  {
   "cell_type": "markdown",
   "metadata": {},
   "source": [
    "### 7. 파이썬에서 함수를 지원하기 위한 문법"
   ]
  },
  {
   "cell_type": "code",
   "execution_count": 54,
   "metadata": {},
   "outputs": [
    {
     "name": "stdout",
     "output_type": "stream",
     "text": [
      "전국 대표\n",
      "홍길동 지역 대표\n",
      "지역 대표\n"
     ]
    }
   ],
   "source": [
    "# 변수의 유효(생존)범위: 지역 변수, 전역 변수\n",
    "\n",
    "\n",
    "player = '전국 대표'     # 전역 변수\n",
    "\n",
    "def funcSoccer():\n",
    "    global player       # 함수 밖에 있는 전역변수를 사용하는 문법(즉, 전역변수와 지역변수를 같은 변수로 만들어줌)\n",
    "    \n",
    "    name = '홍길동'      #함수 안에서만 선언된 변수(=지역변수)(유효범위는 함수)\n",
    "    player = '지역 대표' #위 player 변수와 다른 변수임(서로 다른 메모리 공간을 가지고 있음)\n",
    "    print(name, player) \n",
    "    \n",
    "##############################################\n",
    "\n",
    "# main\n",
    "#print(name)\n",
    "print(player)\n",
    "\n",
    "funcSoccer()\n",
    "print(player)"
   ]
  },
  {
   "cell_type": "code",
   "execution_count": 80,
   "metadata": {},
   "outputs": [
    {
     "name": "stdout",
     "output_type": "stream",
     "text": [
      "********************\n",
      "******************************\n",
      "******************************\n",
      "안녕하세요 홍길동님\n",
      "반드시 이름을 입력해야합니다.\n",
      "안녕하세요 홍길동에 사는 서울님... 당신의 나이는 20세 입니다.\n",
      "안녕하세요 서울에 사는 20님... 당신의 나이는 임꺽정세 입니다.\n",
      "안녕하세요 서울에 사는 임님... 당신의 나이는 30세 입니다.\n",
      "안녕하세요 서울에 사는 신돌석님... 당신의 나이는 35세 입니다.\n",
      "안녕하세요 경기도에 사는 강님... 당신의 나이는 45세 입니다.\n"
     ]
    }
   ],
   "source": [
    "# default 인수\n",
    "\n",
    "def line(cnt=30):                  # default 인수: 매개변수에 기본값을 정해줌\n",
    "    for i in range(cnt):\n",
    "        print(\"*\", end=\"\")\n",
    "    print()\n",
    "\n",
    "\n",
    "def hello(name = None):           # default 지정\n",
    "    if name == None:\n",
    "        print('반드시 이름을 입력해야합니다.')\n",
    "        return\n",
    "    \n",
    "    print('안녕하세요 %s님'% name)\n",
    "\n",
    "def hello2(name, age=30, addr='서울'):      # default 인수는 모두 할당하던지, 맨 마지막부터 할당 \n",
    "    print('안녕하세요 {}에 사는 {}님... 당신의 나이는 {}세 입니다.'.format(addr, name, age))\n",
    "    \n",
    "########################################\n",
    "\n",
    "line(20)\n",
    "line(30)\n",
    "line()                            # default  인수로 인해 실인자를 입력하지 않아도 출력가능 \n",
    "\n",
    "hello(\"홍길동\")\n",
    "hello()\n",
    "hello2('서울','20','홍길동')\n",
    "hello2('20','임꺽정')\n",
    "hello2('임')\n",
    "hello2(age='35', name='신돌석')  # 순서대로 지정 or  매개변수를 직접 지정\n",
    "hello2('강',addr='경기도',age=45)"
   ]
  },
  {
   "cell_type": "code",
   "execution_count": 101,
   "metadata": {},
   "outputs": [
    {
     "name": "stdout",
     "output_type": "stream",
     "text": [
      "('홍길동',)\n",
      "<class 'tuple'>\n",
      "홍길동\n",
      "('홍길동', '임꺽정')\n",
      "<class 'tuple'>\n",
      "홍길동\n",
      "('홍길동', '임꺽정', '신')\n",
      "<class 'tuple'>\n",
      "홍길동\n",
      "[1, 2] [3, 4] [5, 6]\n",
      "([1, 2], [3, 4], [5, 6])\n",
      "[1, 2] [3, 4] [5, 6]\n",
      "65 165 홍길동\n",
      "{}\n",
      "75 180 임꺽정\n",
      "{'age': 30, 'addr': '서울', 'blood': 'A'}\n"
     ]
    }
   ],
   "source": [
    "# 가변 인수\n",
    "# * : 곱셈, 가변인수(tuple로 처리), tuple에선 unpacking(line15)\n",
    "# **: 거듭제곱, 가변인수(dict로 처리)\n",
    "def greeting(*name):      # 매개 변수에 * 추가하면 실인자에 상관없이 값을 입력 가능\n",
    "    print(name)\n",
    "    print(type(name))\n",
    "    print(name[0])\n",
    "\n",
    "    \n",
    "    \n",
    "    \n",
    "def info(weight, height, name, **other):\n",
    "    print(weight, height, name)\n",
    "    print(other)\n",
    "###############################\n",
    "\n",
    "greeting('홍길동')\n",
    "greeting('홍길동', '임꺽정')\n",
    "greeting('홍길동','임꺽정','신')\n",
    "\n",
    "# unpacking\n",
    "a, b, c = ([1,2],[3,4],[5,6])\n",
    "print(a,b,c)\n",
    "\n",
    "d = ([1,2],[3,4],[5,6])\n",
    "print(d)\n",
    "print(*d)\n",
    "\n",
    "#dict\n",
    "\n",
    "info(65, 165, '홍길동')\n",
    "info(75, 180, '임꺽정', age=30, addr='서울', blood='A')"
   ]
  },
  {
   "cell_type": "markdown",
   "metadata": {},
   "source": [
    "---\n",
    "### 8. 내장함수\n",
    "\n",
    "\n",
    "+ all(), any() => and 와 or을 함수화 한것\n",
    "    "
   ]
  },
  {
   "cell_type": "code",
   "execution_count": 9,
   "metadata": {
    "tags": [
     "any()",
     "all()"
    ]
   },
   "outputs": [
    {
     "name": "stdout",
     "output_type": "stream",
     "text": [
      "True\n",
      "False\n",
      "False\n",
      "False\n",
      "True\n",
      "True\n",
      "True\n",
      "True\n"
     ]
    }
   ],
   "source": [
    "# all() : 0 or 비어있는 값을 FALSE로 처리\n",
    "# any() : 모두 TRUE\n",
    "\n",
    "print(all([1,2,3,-1,-2]))\n",
    "print(all([1,2,3,0,-2]))\n",
    "print(all([1,2,3,\"\",-2]))\n",
    "print(all([1,2,3,None,-2]))\n",
    "\n",
    "print(any([1,2,3,-1,-2]))\n",
    "print(any([1,2,3,0,-2]))\n",
    "print(any([1,2,3,\"\",-2]))\n",
    "print(any([1,2,3,None,-2]))"
   ]
  },
  {
   "cell_type": "code",
   "execution_count": 15,
   "metadata": {
    "tags": [
     "enumerate"
    ]
   },
   "outputs": [
    {
     "name": "stdout",
     "output_type": "stream",
     "text": [
      "100 홍길동\n",
      "101 임꺽정\n",
      "102 Tom\n",
      "103 Jerry\n"
     ]
    }
   ],
   "source": [
    "# enumerate(iterator) : 순서가 있는 자료형을 입력받아 인덱스 값을 포함해서 리턴\n",
    "\n",
    "for a, i in enumerate([\"홍길동\",\"임꺽정\",\"Tom\",\"Jerry\"], start = 100):\n",
    "    print(a, i)"
   ]
  },
  {
   "cell_type": "code",
   "execution_count": 27,
   "metadata": {
    "tags": [
     "eval"
    ]
   },
   "outputs": [
    {
     "name": "stdout",
     "output_type": "stream",
     "text": [
      "3+4\n",
      "7\n",
      "34\n",
      "7\n",
      "(2, 1)\n"
     ]
    }
   ],
   "source": [
    "# eval(expression) : 표현식을 파이썬에서 실행가능하게 만들어주는 역할\n",
    "\n",
    "print(\"3+4\")\n",
    "print(eval(\"3+4\"))\n",
    "print(\"3\" + \"4\")\n",
    "print(eval(\"3\") + eval(\"4\"))\n",
    "\n",
    "# expr = input(\"수식 입력: \")\n",
    "# print(eval(expr))\n",
    "\n",
    "print(eval((\"divmod(9,4)\"))) # divmod: 몫과 나머지를 동시에 출력"
   ]
  },
  {
   "cell_type": "code",
   "execution_count": 35,
   "metadata": {
    "tags": [
     "map"
    ]
   },
   "outputs": [
    {
     "name": "stdout",
     "output_type": "stream",
     "text": [
      "12\n",
      "[12, 22, 32, 42, 52]\n",
      "<map object at 0x0000015B9E07F160>\n",
      "12\n",
      "22\n",
      "32\n",
      "42\n",
      "52\n"
     ]
    },
    {
     "data": {
      "text/plain": [
       "[12, 22, 32, 42, 52]"
      ]
     },
     "execution_count": 35,
     "metadata": {},
     "output_type": "execute_result"
    }
   ],
   "source": [
    "# map(fucntion, iterable): 집합의 각 요소가 함수에 의해 수행된 결과를 묶어서 리턴\n",
    "\n",
    "def calc(x):\n",
    "    return x+2\n",
    "\n",
    "###############################\n",
    "\n",
    "a = calc(10)\n",
    "print(a)\n",
    "\n",
    "data = [10,20,30,40,50]\n",
    "result = []\n",
    "\n",
    "for v in data:\n",
    "    temp = calc(v)\n",
    "    result.append(temp)\n",
    "    \n",
    "print(result)\n",
    "\n",
    "#map()으로 처리\n",
    "\n",
    "print(map(calc, data))\n",
    "\n",
    "for v in map(calc, data):\n",
    "    print(v)\n",
    "    \n",
    "    \n",
    "list(map(calc, data))"
   ]
  },
  {
   "cell_type": "code",
   "execution_count": 47,
   "metadata": {
    "tags": [
     "zip()"
    ]
   },
   "outputs": [
    {
     "name": "stdout",
     "output_type": "stream",
     "text": [
      "<zip object at 0x0000015B9E083C00>\n",
      "('a1', 'b1', 'c1')\n",
      "('a2', 'b2', 'c2')\n",
      "('a3', 'b3', 'c3')\n",
      "[('a1', 'b1', 'c1'), ('a2', 'b2', 'c2'), ('a3', 'b3', 'c3')]\n",
      "0 a1 b1 c1\n",
      "1 a2 b2 c2\n",
      "2 a3 b3 c3\n"
     ]
    }
   ],
   "source": [
    "# zip(iterable): 동일한 개수로 이루어진 자료형을 묶어주는 역할\n",
    "\n",
    "a = [\"a1\",\"a2\",\"a3\"]\n",
    "b = [\"b1\",\"b2\",\"b3\"]\n",
    "c = [\"c1\",\"c2\",\"c3\"]\n",
    "\n",
    "print(zip(a,b,c))   # 메모리의 주소값\n",
    "\n",
    "for v in zip(a,b,c):\n",
    "    print(v)\n",
    "\n",
    "    \n",
    "print(list(zip(a,b,c,)))\n",
    "\n",
    "\n",
    "for i, (v1, v2, v3) in enumerate(zip(a,b,c)):\n",
    "    print(i,v1,v2,v3)"
   ]
  },
  {
   "cell_type": "markdown",
   "metadata": {},
   "source": [
    "---\n",
    "### 9. 외장함수"
   ]
  },
  {
   "cell_type": "code",
   "execution_count": 51,
   "metadata": {
    "tags": [
     "sys"
    ]
   },
   "outputs": [
    {
     "name": "stdout",
     "output_type": "stream",
     "text": [
      "['C:\\\\LEE\\\\pythonwork', 'C:\\\\LEE\\\\pythonwork\\\\basic', 'C:\\\\LEE\\\\pythonwork\\\\packages', 'C:\\\\LEE\\\\pythonwork\\\\module', 'C:\\\\Users\\\\acorn\\\\Anaconda3\\\\python38.zip', 'C:\\\\Users\\\\acorn\\\\Anaconda3\\\\DLLs', 'C:\\\\Users\\\\acorn\\\\Anaconda3\\\\lib', 'C:\\\\Users\\\\acorn\\\\Anaconda3', '', 'C:\\\\Users\\\\acorn\\\\Anaconda3\\\\lib\\\\site-packages', 'C:\\\\Users\\\\acorn\\\\Anaconda3\\\\lib\\\\site-packages\\\\win32', 'C:\\\\Users\\\\acorn\\\\Anaconda3\\\\lib\\\\site-packages\\\\win32\\\\lib', 'C:\\\\Users\\\\acorn\\\\Anaconda3\\\\lib\\\\site-packages\\\\Pythonwin', 'C:\\\\Users\\\\acorn\\\\Anaconda3\\\\lib\\\\site-packages\\\\IPython\\\\extensions', 'C:\\\\Users\\\\acorn\\\\.ipython']\n",
      "win32\n",
      "3.8.3 (default, Jul  2 2020, 17:30:36) [MSC v.1916 64 bit (AMD64)]\n",
      "['__breakpointhook__', '__displayhook__', '__doc__', '__excepthook__', '__interactivehook__', '__loader__', '__name__', '__package__', '__spec__', '__stderr__', '__stdin__', '__stdout__', '__unraisablehook__', '_base_executable', '_clear_type_cache', '_current_frames', '_debugmallocstats', '_enablelegacywindowsfsencoding', '_framework', '_getframe', '_git', '_home', '_xoptions', 'addaudithook', 'api_version', 'argv', 'audit', 'base_exec_prefix', 'base_prefix', 'breakpointhook', 'builtin_module_names', 'byteorder', 'call_tracing', 'callstats', 'copyright', 'displayhook', 'dllhandle', 'dont_write_bytecode', 'exc_info', 'excepthook', 'exec_prefix', 'executable', 'exit', 'flags', 'float_info', 'float_repr_style', 'get_asyncgen_hooks', 'get_coroutine_origin_tracking_depth', 'getallocatedblocks', 'getcheckinterval', 'getdefaultencoding', 'getfilesystemencodeerrors', 'getfilesystemencoding', 'getprofile', 'getrecursionlimit', 'getrefcount', 'getsizeof', 'getswitchinterval', 'gettrace', 'getwindowsversion', 'hash_info', 'hexversion', 'implementation', 'int_info', 'intern', 'is_finalizing', 'last_traceback', 'last_type', 'last_value', 'maxsize', 'maxunicode', 'meta_path', 'modules', 'path', 'path_hooks', 'path_importer_cache', 'platform', 'prefix', 'ps1', 'ps2', 'ps3', 'pycache_prefix', 'set_asyncgen_hooks', 'set_coroutine_origin_tracking_depth', 'setcheckinterval', 'setprofile', 'setrecursionlimit', 'setswitchinterval', 'settrace', 'stderr', 'stdin', 'stdout', 'thread_info', 'unraisablehook', 'version', 'version_info', 'warnoptions', 'winver']\n"
     ]
    }
   ],
   "source": [
    "import sys\n",
    "\n",
    "print(sys.path)\n",
    "print(sys.platform)\n",
    "print(sys.version)\n",
    "print(dir(sys))"
   ]
  },
  {
   "cell_type": "code",
   "execution_count": 55,
   "metadata": {},
   "outputs": [
    {
     "name": "stdout",
     "output_type": "stream",
     "text": [
      "['DirEntry', 'F_OK', 'MutableMapping', 'O_APPEND', 'O_BINARY', 'O_CREAT', 'O_EXCL', 'O_NOINHERIT', 'O_RANDOM', 'O_RDONLY', 'O_RDWR', 'O_SEQUENTIAL', 'O_SHORT_LIVED', 'O_TEMPORARY', 'O_TEXT', 'O_TRUNC', 'O_WRONLY', 'P_DETACH', 'P_NOWAIT', 'P_NOWAITO', 'P_OVERLAY', 'P_WAIT', 'PathLike', 'R_OK', 'SEEK_CUR', 'SEEK_END', 'SEEK_SET', 'TMP_MAX', 'W_OK', 'X_OK', '_AddedDllDirectory', '_Environ', '__all__', '__builtins__', '__cached__', '__doc__', '__file__', '__loader__', '__name__', '__package__', '__spec__', '_check_methods', '_execvpe', '_exists', '_exit', '_fspath', '_get_exports_list', '_putenv', '_unsetenv', '_wrap_close', 'abc', 'abort', 'access', 'add_dll_directory', 'altsep', 'chdir', 'chmod', 'close', 'closerange', 'cpu_count', 'curdir', 'defpath', 'device_encoding', 'devnull', 'dup', 'dup2', 'environ', 'error', 'execl', 'execle', 'execlp', 'execlpe', 'execv', 'execve', 'execvp', 'execvpe', 'extsep', 'fdopen', 'fsdecode', 'fsencode', 'fspath', 'fstat', 'fsync', 'ftruncate', 'get_exec_path', 'get_handle_inheritable', 'get_inheritable', 'get_terminal_size', 'getcwd', 'getcwdb', 'getenv', 'getlogin', 'getpid', 'getppid', 'isatty', 'kill', 'linesep', 'link', 'listdir', 'lseek', 'lstat', 'makedirs', 'mkdir', 'name', 'open', 'pardir', 'path', 'pathsep', 'pipe', 'popen', 'putenv', 'read', 'readlink', 'remove', 'removedirs', 'rename', 'renames', 'replace', 'rmdir', 'scandir', 'sep', 'set_handle_inheritable', 'set_inheritable', 'spawnl', 'spawnle', 'spawnv', 'spawnve', 'st', 'startfile', 'stat', 'stat_result', 'statvfs_result', 'strerror', 'supports_bytes_environ', 'supports_dir_fd', 'supports_effective_ids', 'supports_fd', 'supports_follow_symlinks', 'symlink', 'sys', 'system', 'terminal_size', 'times', 'times_result', 'truncate', 'umask', 'uname_result', 'unlink', 'urandom', 'utime', 'waitpid', 'walk', 'write']\n",
      "C:\\LEE\\pythonwork\n"
     ]
    }
   ],
   "source": [
    "import os\n",
    "\n",
    "print(dir(os))\n",
    "print(os.getcwd())    # get current work directory"
   ]
  },
  {
   "cell_type": "code",
   "execution_count": 75,
   "metadata": {
    "tags": [
     "모듈불러오기"
    ]
   },
   "outputs": [
    {
     "name": "stdout",
     "output_type": "stream",
     "text": [
      "30\n",
      "키:  78\n",
      "몸무게:  180\n",
      "기타:  {'name': '홍', 'age': 30, 'addr': '강남구'}\n",
      "None\n",
      "파이썬 주식회사\n"
     ]
    }
   ],
   "source": [
    "import info1\n",
    "\n",
    "print(info1.sum(10,20))\n",
    "print(info1.info(180, 78, name='홍', age=30, addr='강남구'))\n",
    "print(info1.company)"
   ]
  },
  {
   "cell_type": "code",
   "execution_count": 112,
   "metadata": {
    "tags": [
     "datetime_module"
    ]
   },
   "outputs": [
    {
     "name": "stdout",
     "output_type": "stream",
     "text": [
      "2020-11-03 , 2020 , 11 , 3\n",
      "---------------------------------------\n",
      "2020-11-03 11:58:57.567822\n",
      "---------------------------------------\n",
      "-1 day, 0:00:00\n",
      "어제:2020-11-02\n",
      "---------------------------------------\n",
      "2020-11-03 03:58:57.567822\n",
      "03-11-2020\n",
      "2020-03-11 11:58:57\n",
      "---------------------------------------\n",
      "<class 'datetime.datetime'>\n",
      "---------------------------------------\n",
      "<class 'str'>\n",
      "---------------------------------------\n",
      "<class 'str'>\n",
      "---------------------------------------\n",
      "<class 'datetime.datetime'>\n"
     ]
    }
   ],
   "source": [
    "import datetime as dt\n",
    "\n",
    "# 현재 날짜\n",
    "\n",
    "today = dt.date.today()\n",
    "print(today, \",\",today.year,\",\",today.month,\",\",today.day)\n",
    "\n",
    "print('---------------------------------------')\n",
    "\n",
    "# 현재 시간\n",
    "\n",
    "ctime = dt.datetime.today()\n",
    "\n",
    "print(ctime)\n",
    "\n",
    "print('---------------------------------------')\n",
    "\n",
    "# 날짜와 시간을 계산\n",
    "\n",
    "my_days = dt.timedelta(days = -1)\n",
    "print(my_days)\n",
    "print(\"어제:{}\".format(today + my_days))\n",
    "\n",
    "print('---------------------------------------')\n",
    "\n",
    "my_hours = dt.timedelta(hours = -8)\n",
    "print(ctime + my_hours)\n",
    "\n",
    "\n",
    "# 날짜 형식 지정\n",
    "print(today.strftime(\"%d-%m-%Y\"))\n",
    "print(ctime.strftime(\"%Y-%d-%m %H:%M:%S\"))\n",
    "\n",
    "print('---------------------------------------')\n",
    "\n",
    "# 날짜의 형식 변환(날짜를 문자열로: strftime(), 문자열을 날짜로: strptime())\n",
    "\n",
    "print(type(ctime))\n",
    "\n",
    "print('---------------------------------------')\n",
    "\n",
    "d = ctime.strftime(\"%Y-%d-%m %H:%M:%S\")\n",
    "\n",
    "print(type(d))\n",
    "\n",
    "print('---------------------------------------')\n",
    "\n",
    "strDate = \"2020-11-03 11:56:50\"\n",
    "print(type(strDate))\n",
    "\n",
    "print('---------------------------------------')\n",
    "\n",
    "p = dt.datetime.strptime(strDate, \"%Y-%m-%d %H:%M:%S\")\n",
    "print(type(p))"
   ]
  },
  {
   "cell_type": "markdown",
   "metadata": {},
   "source": [
    "### 10. 명령행 인자 (Command Line Argument)\n",
    "\n"
   ]
  },
  {
   "cell_type": "markdown",
   "metadata": {},
   "source": [
    "pythonbook.py(파이참으로)\n",
    "\n",
    "홍길동, 010-1111-1111\n",
    "\n",
    "\n",
    "프로그램 실행 결과\n",
    " python Phonebook.py 홍길동\n",
    "        \n",
    "이름: 홍길동\n",
    "전화: 010-1111-1111\n",
    "주소:"
   ]
  },
  {
   "cell_type": "markdown",
   "metadata": {},
   "source": [
    "### 11. 재귀함수(Recursive Fucntion)"
   ]
  },
  {
   "cell_type": "code",
   "execution_count": 116,
   "metadata": {
    "tags": [
     "재귀함수예시"
    ]
   },
   "outputs": [
    {
     "name": "stdout",
     "output_type": "stream",
     "text": [
      "5\n",
      "4\n",
      "3\n",
      "2\n",
      "1\n",
      "완료\n"
     ]
    }
   ],
   "source": [
    "def countdown(n):\n",
    "    if n == 0:\n",
    "        print('완료')\n",
    "        return\n",
    "    else:\n",
    "        print(n)\n",
    "        countdown(n-1)  # 재귀함수\n",
    "##############################\n",
    "\n",
    "countdown(5)\n",
    "\n",
    "\n",
    "#for i in range(5, -1, -1):\n",
    "#    countdown(i)\n"
   ]
  },
  {
   "cell_type": "code",
   "execution_count": 124,
   "metadata": {
    "tags": [
     "반복문_재귀함수_비교"
    ]
   },
   "outputs": [
    {
     "name": "stdout",
     "output_type": "stream",
     "text": [
      "5\n",
      "4\n",
      "3\n",
      "2\n"
     ]
    },
    {
     "data": {
      "text/plain": [
       "120"
      ]
     },
     "execution_count": 124,
     "metadata": {},
     "output_type": "execute_result"
    }
   ],
   "source": [
    "def fact1(n):\n",
    "    count = 1\n",
    "    \n",
    "    while n>0:\n",
    "        print(n)\n",
    "        count = count * n\n",
    "        n = n-1\n",
    "    return count\n",
    "\n",
    "\n",
    "def fact2(n):\n",
    "    if n == 1:\n",
    "        return 1\n",
    "    \n",
    "    print(n)\n",
    "    return n * fact2(n-1)\n",
    "\n",
    "#fact1(5)\n",
    "fact2(5)\n"
   ]
  },
  {
   "cell_type": "markdown",
   "metadata": {},
   "source": [
    "### 12. 파일처리\n",
    "\n",
    "cf. Data persistance(데이터의 영속성): 변수-> 파일저장 -> DB\n",
    "\n",
    "    1) open(): 보조기억장치에 있는 파일을 주 기억장치로 load 해주는 함수\n",
    "        - mode : [r, w ,a]->텍스트 ,[rb, wb, ab]-> 이진수처리\n",
    "        \n",
    "    2) close(): 주기억 장치에 있는 파일을 해제\n",
    "    \n",
    "    3) 읽어 올 때: readline(), readlines(), read()\n",
    "    \n",
    "    4) 저장할 때: write()"
   ]
  },
  {
   "cell_type": "code",
   "execution_count": 136,
   "metadata": {
    "tags": [
     "open()",
     "readline()"
    ]
   },
   "outputs": [
    {
     "name": "stdout",
     "output_type": "stream",
     "text": [
      "<_io.TextIOWrapper name='mymodule.txt' mode='r' encoding='cp949'>\n",
      "# mymodule.py\n",
      "\n",
      "\n",
      "\n",
      "def sum(num1, num2):\n",
      "\n",
      "\thap = num1 + num2\n",
      "\n",
      "\treturn hap\n",
      "\n",
      "\n",
      "\n",
      "def info(weight, height, **other):\n",
      "\n",
      "    print(\"키: \", height)\n",
      "\n"
     ]
    }
   ],
   "source": [
    "f = open(\"mymodule.txt\", 'r')\n",
    "print(f) \n",
    "\n",
    "print(f.readline())   # readline() : 한줄씩 'str' 형태로 불러옴 (단, 한글이 포함되어 있는 파일을 불러올 경우 코덱을 변경해야함)\n",
    "print(f.readline())\n",
    "print(f.readline())\n",
    "print(f.readline())\n",
    "print(f.readline())\n",
    "print(f.readline())\n",
    "print(f.readline())\n",
    "print(f.readline())\n",
    "\n",
    "f.close()"
   ]
  },
  {
   "cell_type": "code",
   "execution_count": 154,
   "metadata": {
    "tags": [
     "readline+반복문"
    ]
   },
   "outputs": [
    {
     "name": "stdout",
     "output_type": "stream",
     "text": [
      "<_io.TextIOWrapper name='C:\\\\LEE\\\\pythonwork\\\\basic\\\\data\\\\firsttest1.txt' mode='r' encoding='cp949'>\n",
      "abcde\n",
      "\n",
      "12345\n",
      "\n",
      "가나다라\n",
      "\n",
      "마바사차\n",
      "\n",
      "DERFVT\n",
      "\n",
      "DPDPDP\n",
      "\n",
      "JINENEJ\n"
     ]
    }
   ],
   "source": [
    "f = open(\"C:\\\\LEE\\\\pythonwork\\\\basic\\\\data\\\\firsttest1.txt\", 'r') # \\를 하나만 쓸경우 문자와 만나서 특수문자가 되기 때문에 에러가 발생\n",
    "print(f)\n",
    "#f = open(\".\\\\basic\\\\data\\\\firsttest1.txt\", 'r')\n",
    "#f = open(\"basic\\\\data\\\\firsttest1.txt\", 'r')\n",
    "\n",
    "while True:\n",
    "    line = f.readline()\n",
    "    \n",
    "    if not line:         # 값이 있으면 참으로 간주, break 걸어 주기 위해 반대로 작성(라인이 없어야 멈추기 때문)\n",
    "        break \n",
    "    print(line)\n",
    "    \n",
    "f.close()\n",
    "    "
   ]
  },
  {
   "cell_type": "code",
   "execution_count": 162,
   "metadata": {
    "tags": [
     "readlines()"
    ]
   },
   "outputs": [
    {
     "name": "stdout",
     "output_type": "stream",
     "text": [
      "['abcde\\n', '12345\\n', '가나다라\\n', '마바사차\\n', 'DERFVT\\n', 'DPDPDP\\n', 'JINENEJ']\n",
      "abcde\n",
      "12345\n",
      "가나다라\n",
      "마바사차\n",
      "DERFVT\n",
      "DPDPDP\n",
      "JINENEJ"
     ]
    }
   ],
   "source": [
    "f = open(\"C:\\\\LEE\\\\pythonwork\\\\basic\\\\data\\\\firsttest1.txt\", 'r')\n",
    "lines = f.readlines()  # 전체 데이터를 한번에 list 형태로 불러옴\n",
    "print(lines)\n",
    "type(lines)\n",
    "f.close()\n",
    "\n",
    "for i in lines:\n",
    "    print(i, end=\"\")"
   ]
  },
  {
   "cell_type": "code",
   "execution_count": 215,
   "metadata": {
    "tags": [
     "read()"
    ]
   },
   "outputs": [
    {
     "name": "stdout",
     "output_type": "stream",
     "text": [
      "abcde\n",
      "12345\n",
      "가나다라\n",
      "마바사차\n",
      "DERFVT\n",
      "DPDPDP\n",
      "JINENEJ\n",
      "<class 'str'>\n",
      "-------------------------\n",
      "1 . abcde\n",
      "2 . 12345\n",
      "3 . 가나다라\n",
      "4 . 마바사차\n",
      "5 . DERFVT\n",
      "6 . DPDPDP\n",
      "7 . JINENEJ\n",
      "-------------------------\n",
      "1 : abcde\n",
      "2 : 12345\n",
      "3 : 가나다라\n",
      "4 : 마바사차\n",
      "5 : DERFVT\n",
      "6 : DPDPDP\n",
      "7 : JINENEJ\n"
     ]
    }
   ],
   "source": [
    "f = open(\"C:\\\\LEE\\\\pythonwork\\\\basic\\\\data\\\\firsttest1.txt\", 'r')\n",
    "data = f.read()    # 모든 데이터를 str로 불러옴\n",
    "print(data)\n",
    "\n",
    "f.close()\n",
    "print(type(data))\n",
    "\n",
    "print('-------------------------')\n",
    "sdata = data.split(\"\\n\")\n",
    "count = 1\n",
    "\n",
    "for line in s:\n",
    "    print(count,\".\",line)\n",
    "    count += 1\n",
    "    \n",
    "print('-------------------------')\n",
    "\n",
    "sdata = data.split(\"\\n\")\n",
    "\n",
    "\n",
    "for ix, line in enumerate(sdata):\n",
    "    print(ix+1,\":\",line)"
   ]
  },
  {
   "cell_type": "code",
   "execution_count": 186,
   "metadata": {
    "tags": [
     "데이터",
     "저장"
    ]
   },
   "outputs": [],
   "source": [
    "f = open(\"C:\\\\LEE\\\\pythonwork\\\\basic\\\\data\\\\firsttest2.txt\", 'w')\n",
    "\n",
    "f.write(\"이름: 홍길동, \")\n",
    "f.write(\"전화: 010-1111-1111, \")\n",
    "f.write(\"주소: 서울시 강남구\\n \")\n",
    "f.write(\"이름: 임꺽정, \")\n",
    "f.write(\"전화: 010-2222-2222, \")\n",
    "f.write(\"주소: 서울시 강북구\\n \")\n",
    "\n",
    "\n",
    "f.close()"
   ]
  },
  {
   "cell_type": "code",
   "execution_count": 193,
   "metadata": {
    "tags": [
     "기존파일에데이터추가"
    ]
   },
   "outputs": [],
   "source": [
    "f = open(\"C:\\\\LEE\\\\pythonwork\\\\basic\\\\data\\\\firsttest2.txt\", 'a')\n",
    "\n",
    "f.write(\"이름: 신돌석, \")\n",
    "f.write(\"전화: 010-3333-3333, \")\n",
    "f.write(\"주소: 서울시 강북구\\n \")\n",
    "\n",
    "f.close()"
   ]
  },
  {
   "cell_type": "code",
   "execution_count": 198,
   "metadata": {
    "tags": [
     "csv형식저장"
    ]
   },
   "outputs": [],
   "source": [
    "\n",
    "nums =[1,2,3,4,5,6,7,8,9]\n",
    "\n",
    "f = open(\"C:\\\\LEE\\\\pythonwork\\\\basic\\\\data\\\\filetest3.csv\", 'w')\n",
    "f.write(str(nums))\n",
    "f.close()"
   ]
  },
  {
   "cell_type": "code",
   "execution_count": 204,
   "metadata": {},
   "outputs": [],
   "source": [
    "f = open(\"C:\\\\LEE\\\\pythonwork\\\\basic\\\\data\\\\filetest3.csv\", 'w')\n",
    "\n",
    "count = len(nums)\n",
    "for i in range(count):\n",
    "    \n",
    "    if i < count-1:\n",
    "        f.write(str(nums[i])+ ',')\n",
    "    \n",
    "    else:\n",
    "        f.write(str(nums[i]))\n",
    "        \n",
    "f.close()"
   ]
  },
  {
   "cell_type": "code",
   "execution_count": 208,
   "metadata": {
    "tags": [
     "with"
    ]
   },
   "outputs": [],
   "source": [
    "with open(\"C:\\\\LEE\\\\pythonwork\\\\basic\\\\data\\\\filetest3.csv\", 'w') as f:\n",
    "    \n",
    "    count = len(nums)\n",
    "    \n",
    "    for i in range(count):\n",
    "    \n",
    "        if i < count-1:\n",
    "            f.write(str(nums[i])+ ',')\n",
    "    \n",
    "        else:\n",
    "            f.write(str(nums[i]))"
   ]
  },
  {
   "cell_type": "code",
   "execution_count": 227,
   "metadata": {},
   "outputs": [
    {
     "name": "stdout",
     "output_type": "stream",
     "text": [
      "파일 포인터: 0\n",
      "파일 포인터: 10\n",
      "파일 포인터: 0\n",
      "abcde\n",
      "\n"
     ]
    }
   ],
   "source": [
    "# 임의 접근: seek(이동위치, 기준 위치), tell()\n",
    "# 기준 위치: 0(default, 파일의 시작위치), 1(파일의 현재위치), 2(파일의 끝위치)\n",
    "\n",
    "with open(\"C:\\\\LEE\\\\pythonwork\\\\basic\\\\data\\\\firsttest1.txt\", 'r') as f:\n",
    "    print(\"파일 포인터: %d\"%f.tell())\n",
    "    \n",
    "    f.readline()\n",
    "    \n",
    "    print(\"파일 포인터: %d\"%f.tell())\n",
    "    \n",
    "    f.seek(0, 0)\n",
    "    \n",
    "    print(\"파일 포인터: %d\"%f.tell())\n",
    "    \n",
    "    \n",
    "    f.seek(8, 0)\n",
    "    \n",
    "    f.readline()\n",
    "    print(f.readline())"
   ]
  },
  {
   "cell_type": "code",
   "execution_count": 233,
   "metadata": {
    "tags": [
     "glob()"
    ]
   },
   "outputs": [
    {
     "name": "stdout",
     "output_type": "stream",
     "text": [
      "['02-제어문.ipynb', '1. 변수와 자료형.ipynb', '2. 제어문.ipynb', '3. 함수.ipynb', 'Markdown.ipynb', 'wokr1.ipynb', 'Works.ipynb', '과제 및 연습문제(p.p112-115).ipynb', '변수와 자료형-Copy1.ipynb', '예제.ipynb', '함수화예제.ipynb']\n"
     ]
    }
   ],
   "source": [
    "# 동시에 파일을 읽어오는 방법\n",
    "\n",
    "import glob as gl\n",
    "\n",
    "#file = gl.glob(\"*\")\n",
    "#file = gl.glob(\"*.*\")\n",
    "file = gl.glob(\"*.ipynb\")\n",
    "print(file)"
   ]
  },
  {
   "cell_type": "code",
   "execution_count": null,
   "metadata": {},
   "outputs": [],
   "source": [
    "data = \n",
    "    ['홍길동', '010-1111-1111', '서울시 강남구']\n",
    "    ['임꺾정', '010-2222-2222', '서울시 강서구']\n",
    "    ['신돌석', '010-3333-3333', '서울시 강북구']\n",
    "    ['임경엽', '010-4444-4444', '서울시 강동구']"
   ]
  }
 ],
 "metadata": {
  "celltoolbar": "Tags",
  "kernelspec": {
   "display_name": "Python 3",
   "language": "python",
   "name": "python3"
  },
  "language_info": {
   "codemirror_mode": {
    "name": "ipython",
    "version": 3
   },
   "file_extension": ".py",
   "mimetype": "text/x-python",
   "name": "python",
   "nbconvert_exporter": "python",
   "pygments_lexer": "ipython3",
   "version": "3.7.6"
  }
 },
 "nbformat": 4,
 "nbformat_minor": 4
}
