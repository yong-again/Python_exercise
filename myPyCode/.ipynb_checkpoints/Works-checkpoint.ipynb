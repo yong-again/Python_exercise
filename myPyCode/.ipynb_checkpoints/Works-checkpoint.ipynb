{
 "cells": [
  {
   "cell_type": "code",
   "execution_count": 41,
   "metadata": {},
   "outputs": [
    {
     "name": "stdout",
     "output_type": "stream",
     "text": [
      "연도를 입력하세요:2020\n",
      "윤년입니다\n"
     ]
    }
   ],
   "source": [
    "# 윤년계산\n",
    "\n",
    "year = int(input('연도를 입력하세요:'))\n",
    "\n",
    "if (year % 4 == 0 and (year % 100 != 0 or year % 400 == 0)):\n",
    "    print('윤년입니다')\n",
    "else:\n",
    "    print('윤년이 아닙니다')"
   ]
  },
  {
   "cell_type": "code",
   "execution_count": 114,
   "metadata": {},
   "outputs": [
    {
     "name": "stdout",
     "output_type": "stream",
     "text": [
      "입력: 가위\n",
      "컴퓨터:  바위\n",
      "사용자:  가위\n",
      "승자:  컴퓨터\n"
     ]
    }
   ],
   "source": [
    "#가위바위보\n",
    "import random as rd\n",
    "\n",
    "#변수\n",
    "com = rd.choice(['가위','바위','보'])\n",
    "user = input(\"입력: \")\n",
    "\n",
    "winner = 'none'\n",
    "\n",
    "#if 조건문을 이용한 가위바위보\n",
    "if com == '가위':\n",
    "    if user == '가위':\n",
    "        winner = 'none'\n",
    "        \n",
    "    elif user == '바위':\n",
    "            winner = 'user'\n",
    "        \n",
    "    else:\n",
    "        winner = 'computer'\n",
    "        \n",
    "if com == '바위':\n",
    "    if user =='가위':\n",
    "        winner = 'computer'\n",
    "        \n",
    "    elif user == '보':\n",
    "        winner = 'user'\n",
    "        \n",
    "    else:\n",
    "        winner = 'none'\n",
    "        \n",
    "if com == '보':\n",
    "    if user == '가위':\n",
    "        winner = 'user'\n",
    "        \n",
    "    elif user == '보':\n",
    "        winner = 'none'\n",
    "        \n",
    "    else:\n",
    "        winner = 'comupter'\n",
    "        \n",
    "if winner == 'computer':\n",
    "    print(\"컴퓨터: \", com)\n",
    "    print(\"사용자: \", user)\n",
    "    print(\"승자: \",\"컴퓨터\")\n",
    "    \n",
    "elif winner == 'user':\n",
    "    print(\"컴퓨터: \", com)\n",
    "    print(\"사용자: \", user)\n",
    "    print(\"승자: \",\"사용자\")\n",
    "    \n",
    "else:\n",
    "    print(\"컴퓨터: \", com)\n",
    "    print(\"사용자: \", user)\n",
    "    print(\"승자: \", \"무승부\")"
   ]
  },
  {
   "cell_type": "code",
   "execution_count": 160,
   "metadata": {
    "scrolled": true
   },
   "outputs": [
    {
     "name": "stdout",
     "output_type": "stream",
     "text": [
      "첫번째 값을 입력하시오: 5\n",
      "+,-,/,* 중 하나를 입력하시오: x\n",
      "두번째 값을 입력하시오: 6\n",
      "계산기를 종료합니다.\n",
      "결과: 0\n"
     ]
    }
   ],
   "source": [
    "# 계산기\n",
    "\n",
    "res = 0\n",
    "\n",
    "num1 = int(input(\"첫번째 값을 입력하시오: \"))\n",
    "cal = input(\"+,-,/,* 중 하나를 입력하시오: \")\n",
    "num2 = int(input(\"두번째 값을 입력하시오: \"))\n",
    "while True:\n",
    "    if cal == \"+\":\n",
    "        res = num1+num2\n",
    "    \n",
    "    elif cal == \"-\":\n",
    "        res = num1-num2\n",
    "    elif cal == \"/\":\n",
    "        res = num1/num2 \n",
    "    elif cal == \"*\":\n",
    "        res = num1*num2\n",
    "    else:\n",
    "        print(\"계산기를 종료합니다.\")\n",
    "\n",
    "print(\"결과: %d\" % res)"
   ]
  },
  {
   "cell_type": "code",
   "execution_count": null,
   "metadata": {
    "scrolled": true
   },
   "outputs": [],
   "source": [
    "# 가위바위보 반복문\n",
    "import random as pd\n",
    "\n",
    "\n",
    "sel ='  '\n",
    "exit=input(\"종료하시려면 x 나 q를 입력하세요: \")\n",
    "com = rd.choice(['가위','바위','보'])\n",
    "\n",
    "while True:\n",
    "    sel = input('가위, 바위,보 중에 선택하세요: ')\n",
    "    if exit == 'x':\n",
    "        print('종료')\n",
    "        break\n",
    "       \n",
    "\n",
    "\n",
    "\n"
   ]
  },
  {
   "cell_type": "code",
   "execution_count": 150,
   "metadata": {},
   "outputs": [
    {
     "name": "stdout",
     "output_type": "stream",
     "text": [
      "입력: 가위\n",
      "컴퓨터:  가위\n",
      "사용자:  가위\n",
      "승자:  무승부\n",
      "입력: 바위\n",
      "컴퓨터:  보\n",
      "사용자:  바위\n",
      "승자:  컴퓨터\n",
      "입력: 가위\n",
      "컴퓨터:  바위\n",
      "사용자:  가위\n",
      "승자:  컴퓨터\n",
      "입력: 바위\n",
      "컴퓨터:  가위\n",
      "사용자:  바위\n",
      "승자:  사용자\n",
      "입력: 가위\n",
      "컴퓨터:  가위\n",
      "사용자:  가위\n",
      "승자:  무승부\n",
      "입력: 바위\n",
      "컴퓨터:  보\n",
      "사용자:  바위\n",
      "승자:  컴퓨터\n"
     ]
    },
    {
     "ename": "KeyboardInterrupt",
     "evalue": "Interrupted by user",
     "output_type": "error",
     "traceback": [
      "\u001b[1;31m---------------------------------------------------------------------------\u001b[0m",
      "\u001b[1;31mKeyboardInterrupt\u001b[0m                         Traceback (most recent call last)",
      "\u001b[1;32m<ipython-input-150-013230fa7d4b>\u001b[0m in \u001b[0;36m<module>\u001b[1;34m\u001b[0m\n\u001b[0;32m      3\u001b[0m \u001b[1;32mwhile\u001b[0m \u001b[1;32mTrue\u001b[0m\u001b[1;33m:\u001b[0m\u001b[1;33m\u001b[0m\u001b[1;33m\u001b[0m\u001b[0m\n\u001b[0;32m      4\u001b[0m     \u001b[0mcom\u001b[0m \u001b[1;33m=\u001b[0m \u001b[0mrandom\u001b[0m\u001b[1;33m.\u001b[0m\u001b[0mchoice\u001b[0m\u001b[1;33m(\u001b[0m\u001b[1;33m[\u001b[0m\u001b[1;34m'가위'\u001b[0m\u001b[1;33m,\u001b[0m\u001b[1;34m'바위'\u001b[0m\u001b[1;33m,\u001b[0m\u001b[1;34m'보'\u001b[0m\u001b[1;33m]\u001b[0m\u001b[1;33m)\u001b[0m\u001b[1;33m\u001b[0m\u001b[1;33m\u001b[0m\u001b[0m\n\u001b[1;32m----> 5\u001b[1;33m     \u001b[0muser\u001b[0m \u001b[1;33m=\u001b[0m \u001b[0minput\u001b[0m\u001b[1;33m(\u001b[0m\u001b[1;34m\"입력: \"\u001b[0m\u001b[1;33m)\u001b[0m\u001b[1;33m\u001b[0m\u001b[1;33m\u001b[0m\u001b[0m\n\u001b[0m\u001b[0;32m      6\u001b[0m     \u001b[0mwinner\u001b[0m\u001b[1;33m=\u001b[0m \u001b[1;34m'none'\u001b[0m\u001b[1;33m\u001b[0m\u001b[1;33m\u001b[0m\u001b[0m\n\u001b[0;32m      7\u001b[0m \u001b[1;33m\u001b[0m\u001b[0m\n",
      "\u001b[1;32m~\\Anaconda3\\lib\\site-packages\\ipykernel\\kernelbase.py\u001b[0m in \u001b[0;36mraw_input\u001b[1;34m(self, prompt)\u001b[0m\n\u001b[0;32m    858\u001b[0m                 \u001b[1;34m\"raw_input was called, but this frontend does not support input requests.\"\u001b[0m\u001b[1;33m\u001b[0m\u001b[1;33m\u001b[0m\u001b[0m\n\u001b[0;32m    859\u001b[0m             )\n\u001b[1;32m--> 860\u001b[1;33m         return self._input_request(str(prompt),\n\u001b[0m\u001b[0;32m    861\u001b[0m             \u001b[0mself\u001b[0m\u001b[1;33m.\u001b[0m\u001b[0m_parent_ident\u001b[0m\u001b[1;33m,\u001b[0m\u001b[1;33m\u001b[0m\u001b[1;33m\u001b[0m\u001b[0m\n\u001b[0;32m    862\u001b[0m             \u001b[0mself\u001b[0m\u001b[1;33m.\u001b[0m\u001b[0m_parent_header\u001b[0m\u001b[1;33m,\u001b[0m\u001b[1;33m\u001b[0m\u001b[1;33m\u001b[0m\u001b[0m\n",
      "\u001b[1;32m~\\Anaconda3\\lib\\site-packages\\ipykernel\\kernelbase.py\u001b[0m in \u001b[0;36m_input_request\u001b[1;34m(self, prompt, ident, parent, password)\u001b[0m\n\u001b[0;32m    902\u001b[0m             \u001b[1;32mexcept\u001b[0m \u001b[0mKeyboardInterrupt\u001b[0m\u001b[1;33m:\u001b[0m\u001b[1;33m\u001b[0m\u001b[1;33m\u001b[0m\u001b[0m\n\u001b[0;32m    903\u001b[0m                 \u001b[1;31m# re-raise KeyboardInterrupt, to truncate traceback\u001b[0m\u001b[1;33m\u001b[0m\u001b[1;33m\u001b[0m\u001b[1;33m\u001b[0m\u001b[0m\n\u001b[1;32m--> 904\u001b[1;33m                 \u001b[1;32mraise\u001b[0m \u001b[0mKeyboardInterrupt\u001b[0m\u001b[1;33m(\u001b[0m\u001b[1;34m\"Interrupted by user\"\u001b[0m\u001b[1;33m)\u001b[0m \u001b[1;32mfrom\u001b[0m \u001b[1;32mNone\u001b[0m\u001b[1;33m\u001b[0m\u001b[1;33m\u001b[0m\u001b[0m\n\u001b[0m\u001b[0;32m    905\u001b[0m             \u001b[1;32mexcept\u001b[0m \u001b[0mException\u001b[0m \u001b[1;32mas\u001b[0m \u001b[0me\u001b[0m\u001b[1;33m:\u001b[0m\u001b[1;33m\u001b[0m\u001b[1;33m\u001b[0m\u001b[0m\n\u001b[0;32m    906\u001b[0m                 \u001b[0mself\u001b[0m\u001b[1;33m.\u001b[0m\u001b[0mlog\u001b[0m\u001b[1;33m.\u001b[0m\u001b[0mwarning\u001b[0m\u001b[1;33m(\u001b[0m\u001b[1;34m\"Invalid Message:\"\u001b[0m\u001b[1;33m,\u001b[0m \u001b[0mexc_info\u001b[0m\u001b[1;33m=\u001b[0m\u001b[1;32mTrue\u001b[0m\u001b[1;33m)\u001b[0m\u001b[1;33m\u001b[0m\u001b[1;33m\u001b[0m\u001b[0m\n",
      "\u001b[1;31mKeyboardInterrupt\u001b[0m: Interrupted by user"
     ]
    }
   ],
   "source": [
    "import random\n",
    "\n",
    "while True:\n",
    "    com = random.choice(['가위','바위','보'])\n",
    "    user = input(\"입력: \")\n",
    "    winner= 'none'\n",
    "    end = 'x' or 'q'\n",
    "    \n",
    "    \n",
    "    if com == '가위':\n",
    "        if user == '가위':\n",
    "            winner = 'none'\n",
    "            \n",
    "        elif user == '바위':\n",
    "            winner = 'user'\n",
    "            \n",
    "        else:\n",
    "            winner = 'computer'\n",
    "            \n",
    "    if com == '바위':\n",
    "        if user == '가위':\n",
    "            winner = 'computer'\n",
    "            \n",
    "        elif user == '보':\n",
    "            winner = 'user'\n",
    "            \n",
    "        else:\n",
    "            winner = 'none'\n",
    "            \n",
    "    if com == '보':\n",
    "        if user == '가위':\n",
    "            winner = 'user'\n",
    "            \n",
    "        elif user == '보':\n",
    "            winner = 'none'\n",
    "        else:\n",
    "            winner = 'computer'    \n",
    "    \n",
    "    if winner == 'computer':\n",
    "        print(\"컴퓨터: \", com)\n",
    "        print(\"사용자: \", user)\n",
    "        print(\"승자: \",\"컴퓨터\")\n",
    "    \n",
    "    elif winner == 'user':\n",
    "        print(\"컴퓨터: \", com)\n",
    "        print(\"사용자: \", user)\n",
    "        print(\"승자: \",\"사용자\")\n",
    "    \n",
    "    else:\n",
    "        print(\"컴퓨터: \", com)\n",
    "        print(\"사용자: \", user)\n",
    "        print(\"승자: \", \"무승부\")\n",
    "        \n",
    "if end == 'x':\n",
    "    print(str(count1)+\"승\", str(count2) + \"패\")\n"
   ]
  },
  {
   "cell_type": "code",
   "execution_count": null,
   "metadata": {},
   "outputs": [
    {
     "name": "stdout",
     "output_type": "stream",
     "text": [
      "1~100의 숫자는?: \n",
      "당신의 답은?!\n"
     ]
    }
   ],
   "source": [
    "import random as rd\n",
    "\n",
    "print(\"1~100의 숫자는?: \")\n",
    "answer = rd.randint(1, 100)\n",
    "#print(answer)\n",
    "\n",
    "guess = 0\n",
    "count = 0\n",
    "\n",
    "while guess != answer:\n",
    "    print(\"당신의 답은?!\")\n",
    "    \n",
    "    guess = int(input())\n",
    "    count = count + 1\n",
    "\n",
    "    if guess > answer:\n",
    "        print(\"낮게!\")\n",
    "        \n",
    "    elif guess < answer:\n",
    "        print('높게!')\n",
    "        \n",
    "    else:\n",
    "        continue\n",
    "else:\n",
    "    print(\"정답횟수:\" + str(count))"
   ]
  },
  {
   "cell_type": "code",
   "execution_count": null,
   "metadata": {},
   "outputs": [],
   "source": []
  },
  {
   "cell_type": "code",
   "execution_count": null,
   "metadata": {},
   "outputs": [],
   "source": []
  }
 ],
 "metadata": {
  "kernelspec": {
   "display_name": "Python 3",
   "language": "python",
   "name": "python3"
  },
  "language_info": {
   "codemirror_mode": {
    "name": "ipython",
    "version": 3
   },
   "file_extension": ".py",
   "mimetype": "text/x-python",
   "name": "python",
   "nbconvert_exporter": "python",
   "pygments_lexer": "ipython3",
   "version": "3.7.6"
  }
 },
 "nbformat": 4,
 "nbformat_minor": 4
}
