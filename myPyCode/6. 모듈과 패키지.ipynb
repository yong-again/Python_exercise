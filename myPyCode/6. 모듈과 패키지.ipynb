{
 "cells": [
  {
   "cell_type": "markdown",
   "metadata": {},
   "source": [
    "## 1. 모듈의 정의\n",
    "\n",
    "    - 비슷하거나 관련된 일을 하는 함수, 클래스, 상수값들을 모아서 하나의 파일에 저장하고 추후에 재사용하기 위한 목적\n",
    "    - 함수나 변수, 클래스들을 모아 놓은 파일: .py\n",
    "    \n",
    "    \n",
    "## 2. 모듈의 종류\n",
    "\n",
    "    - 표준 모듈\n",
    "    - 사용자 정의 모듈\n",
    "    - 서드 파티 모듈\n",
    "\n",
    "## 3. 선언 방법\n",
    "    \n",
    "    - import 모듈이름\n",
    "    - import 모듈이름 as 별칭\n",
    "    - from 모듈이름 import 변수, 함수, 클래스\n",
    "    - from 모듈 import *\n",
    "    - from 모듈 import 모듈이름 as 별칭\n",
    "    \n",
    "## 4. 참조\n",
    "\n",
    "    - 같은 경로\n",
    "    - 기존 모듈 설치 경로: 아나콘다의 경우에는 주로 \\Anaconda3\\Lib\\site-packages(비추)\n",
    "    - path 경로에 추가\n",
    "            sys.path.append(\"경로\") -> 임시\n",
    "    - windows 에 환경변수 pythonpath 추가\n",
    "    \n",
    "## 5. 패키지\n",
    "\n",
    "    - 여러 모듈들을 모아놓은 폴더(라이브러리라고도 부름)\n",
    "    - \n",
    "    \n",
    "##"
   ]
  },
  {
   "cell_type": "code",
   "execution_count": 9,
   "metadata": {},
   "outputs": [
    {
     "data": {
      "text/plain": [
       "30"
      ]
     },
     "execution_count": 9,
     "metadata": {},
     "output_type": "execute_result"
    }
   ],
   "source": [
    "import mymodule2 \n",
    "\n",
    "\n",
    "mymodule2.sum(10, 20)"
   ]
  },
  {
   "cell_type": "code",
   "execution_count": 13,
   "metadata": {},
   "outputs": [],
   "source": [
    "# path에 경로 추가\n",
    "\n",
    "import sys\n",
    "\n",
    "sys.path.append(\"C:\\mymod\")\n",
    "\n",
    "import mymodule3 as my3"
   ]
  },
  {
   "cell_type": "code",
   "execution_count": 14,
   "metadata": {},
   "outputs": [
    {
     "name": "stdout",
     "output_type": "stream",
     "text": [
      "<module 'mymodule3' from 'C:\\\\mymod\\\\mymodule3.py'>\n"
     ]
    }
   ],
   "source": [
    "print(my3)"
   ]
  },
  {
   "cell_type": "code",
   "execution_count": null,
   "metadata": {},
   "outputs": [],
   "source": []
  }
 ],
 "metadata": {
  "kernelspec": {
   "display_name": "Python 3",
   "language": "python",
   "name": "python3"
  },
  "language_info": {
   "codemirror_mode": {
    "name": "ipython",
    "version": 3
   },
   "file_extension": ".py",
   "mimetype": "text/x-python",
   "name": "python",
   "nbconvert_exporter": "python",
   "pygments_lexer": "ipython3",
   "version": "3.8.3"
  }
 },
 "nbformat": 4,
 "nbformat_minor": 4
}
