{
 "cells": [
  {
   "cell_type": "markdown",
   "metadata": {},
   "source": [
    "## 1. 특징\n",
    "\n",
    "1) 묶음(block):  변수, 함수\n",
    "\n",
    "    - 여러 개의 함수를 묶어서 좀 더 큰 단위의 모듈로 관리\n",
    "    - 변수: 멤버 변수, 속성\n",
    "    - 함수: 멤버 함수, 메서드\n",
    "    \n",
    "2) 설계도(추상화) -> 객체(Object, 실제 메모리의 공간), 인스턴스\n",
    "\n",
    "3) 사용자 정의 자료형 \n",
    "\n",
    "4) 객체의 조건\n",
    "\n",
    "    - 상속성(interitance): 재사용성의 극대화, 기존의 코드 or 실행파일을 상속선언으로 재사용 가능함.\n",
    "    - 다양성(polymorphism): 하나의 기능으로 다양한 기능을 커버 가능함.\n",
    "    - 캡슐화(encapsulation): 편의 제공, 보안성\n",
    "\n",
    "\n",
    "5) 객체 설계 5원칙(SOLID)\n",
    "\n",
    "    - 단일책임원칙(Single Responsiblity Principle)\n",
    "    \n",
    "    - 개방-폐쇄 원칙(Open Closed Principle)\n",
    "    \n",
    "    - 리스코프 치환원칙(Liskov Substitution Principle)\n",
    "    \n",
    "    - 인터페이스 분리 원칙(Interface Segregation Principle)\n",
    "    \n",
    "    - 의존 역전 원칙(Dependency Lnversion Principle)\n",
    "\n",
    "\n",
    "\n",
    "\n",
    "### 2. 클래스 작성 방법\n",
    "\n",
    "    문법: class 이름:\n",
    "             변수\n",
    "             함수\n",
    "             \n",
    "        or \n",
    "        \n",
    "          class 이름():\n",
    "              변수\n",
    "              함수\n",
    "        \n",
    "        "
   ]
  },
  {
   "cell_type": "code",
   "execution_count": 11,
   "metadata": {},
   "outputs": [
    {
     "name": "stdout",
     "output_type": "stream",
     "text": [
      "10\n",
      "Test 클래스:  10\n"
     ]
    }
   ],
   "source": [
    "class Test:\n",
    "    a = 10\n",
    "    \n",
    "    def show(self):          # 클래스 안에 있는 함수는  self 가 꼭 필요\n",
    "        print(\"Test 클래스: \", self.a)\n",
    "\n",
    "##########################################\n",
    "\n",
    "#print(Test().a)\n",
    "#Test().show()\n",
    "\n",
    "ob1 = Test()\n",
    "print(ob1.a)\n",
    "ob1.show()"
   ]
  },
  {
   "cell_type": "code",
   "execution_count": 13,
   "metadata": {},
   "outputs": [
    {
     "name": "stdout",
     "output_type": "stream",
     "text": [
      "<class 'int'>\n",
      "<class '__main__.Test'>\n"
     ]
    }
   ],
   "source": [
    "a = 10\n",
    "print(type(a))\n",
    "\n",
    "print(type(ob1))"
   ]
  },
  {
   "cell_type": "code",
   "execution_count": 180,
   "metadata": {},
   "outputs": [
    {
     "name": "stdout",
     "output_type": "stream",
     "text": [
      "국적:  한국\n",
      "이름:  홍길동\n",
      "나이:  28\n",
      "신장:  187.23\n",
      "취미:  ['독서', '영화']\n",
      "\n",
      "---------------------\n",
      "국적:  독일\n",
      "이름:  임\n",
      "나이:  30\n",
      "신장:  185.67\n",
      "취미:  ['낚시', '음악', '춤']\n",
      "\n",
      "---------------------\n",
      "국적:  영국\n",
      "이름:  박\n",
      "나이:  35\n",
      "신장:  175.45\n",
      "취미:  ['노래', '운동']\n",
      "\n",
      "---------------------\n",
      "[<__main__.Person object at 0x0000022F67558100>, <__main__.Person object at 0x0000022F67558070>, <__main__.Person object at 0x0000022F675589A0>]\n"
     ]
    }
   ],
   "source": [
    "# 사용자 정의 자료형\n",
    "# 국적, 이름, 나이, 신장, 취미\n",
    "\n",
    "class Person:\n",
    "    nation = \"한국\"\n",
    "    name = str()\n",
    "    age = int()\n",
    "    height = float()\n",
    "    hobby = []\n",
    "    \n",
    "    def show(self):\n",
    "        print(\"국적: \", self.nation)\n",
    "        print(\"이름: \", self.name)\n",
    "        print(\"나이: \", self.age)\n",
    "        print(\"신장: \", self.height)\n",
    "        print(\"취미: \", self.hobby)\n",
    "        print(\"\\n---------------------\")\n",
    "        \n",
    "##############################################\n",
    "\n",
    "p1 = Person()\n",
    "p2 = Person()\n",
    "p3 = Person()\n",
    "\n",
    "p1.nation = \"한국\"\n",
    "p1.name = \"홍길동\"\n",
    "p1.age = 28\n",
    "p1.height = 187.23\n",
    "p1.hobby =[\"독서\",\"영화\"]\n",
    "\n",
    "\n",
    "p2.nation = \"독일\"\n",
    "p2.name = \"임\"\n",
    "p2.age = 30\n",
    "p2.height = 185.67\n",
    "p2.hobby =[\"낚시\",\"음악\",\"춤\"]\n",
    "\n",
    "p3.nation = \"영국\"\n",
    "p3.name = \"박\"\n",
    "p3.age = 35\n",
    "p3.height = 175.45\n",
    "p3.hobby =[\"노래\",\"운동\"]\n",
    "\n",
    "data = [p1, p2, p3]\n",
    "\n",
    "for i in range(len(data)):\n",
    "    data[i].show()\n"
   ]
  },
  {
   "cell_type": "markdown",
   "metadata": {
    "tags": [
     "p.181~192"
    ]
   },
   "source": [
    "---\n",
    "### 3. 클래스 작성 문법\n",
    "\n",
    "1) self\n",
    "    - 현재 사용중인 객체의 주소를 저장하고 있는 참조 변수\n",
    "    - read only\n",
    "    \n",
    "2) 생성자와 소멸자\n",
    "\n",
    "    - 매서드\n",
    "    - 객체를 생성하는 용도\n",
    "    - 객체를 처음 만들 때 호출되고 단 한번만 호출\n",
    "    - 초기화\n",
    "    \n",
    "3) static\n",
    "\n",
    "    - 동일한 공간을 모든 객체들이 공동으로 사용\n",
    "    - 클래스 변수(p.205)\n",
    "    \n",
    "4) 원래 설계된 멤버변수 외에 객체별로 멤버변수를 추가할 수 있다.\n",
    "\n",
    "5) _, __ \n",
    "   - _: 기본 인터프리터(명령프롬프트)에서 사용(최근에 사용한 값을 저장하고 불러옴)(많이 사용하지는 않음)\n",
    "   - __: 값을 무시.\n",
    "   - _, __: 접근 권한을 위해 변수명과 함께 사용함."
   ]
  },
  {
   "cell_type": "markdown",
   "metadata": {},
   "source": [
    "cf. 다른 언어에서의 class 접근 권한\n",
    "    class\n",
    "        - 접근 권한: Public, Private"
   ]
  },
  {
   "cell_type": "code",
   "execution_count": 32,
   "metadata": {
    "tags": [
     "show(self)"
    ]
   },
   "outputs": [],
   "source": [
    "# self에 대한 의미\n",
    "# 객체는 수만가지가 될 수 있으며 그에 따른 주소값은 매번 다름\n",
    "# self = 현재 객체가 실행되는 메모리의 주소값을 지정해줌\n",
    "\n",
    "class Test:                        # class 생성\n",
    "    a = int()                      # 변수를 미리 해둘 필요가 없음, 하지만 변수를 선언해야 코드해석이 용이함.\n",
    "    b = float()\n",
    "    c = str()\n",
    "    \n",
    "    \n",
    "    def show(self):                 #매서드 생성\n",
    "        print(self.a, self.b,self.c)\n",
    "        print(\"show: \", id(self))\n",
    "        \n",
    "    def setValue(self, x, y, z):    # 전달하려는 값은 3개(개수를 맞추어줘야함)\n",
    "        # 검증\n",
    "        self.a = x\n",
    "        self.b = y\n",
    "        self.c = z"
   ]
  },
  {
   "cell_type": "code",
   "execution_count": 33,
   "metadata": {},
   "outputs": [
    {
     "name": "stdout",
     "output_type": "stream",
     "text": [
      "10 3.14 홍길동\n",
      "show:  2402610853344\n"
     ]
    }
   ],
   "source": [
    "t1 = Test()     # 객체 생성\n",
    "t2 = Test()\n",
    "t3 = Test()\n",
    "\n",
    "\n",
    "#t1.a = 10     # 직접적으로 데이터를 입력하는 것은 좋지 못함 -> 데이터의 오류를 판단하지 못함 \n",
    "#t1.b = 3.14\n",
    "#t1.c =\"홍길동\"\n",
    "\n",
    "t1.setValue(10, 3.14, \"홍길동\")\n",
    "\n",
    "t1.show()     # t1에 있던 메모리의 주소를 기본 인자로 가짐-> self 를 통해 구현"
   ]
  },
  {
   "cell_type": "code",
   "execution_count": 34,
   "metadata": {},
   "outputs": [
    {
     "data": {
      "text/plain": [
       "2402610853344"
      ]
     },
     "execution_count": 34,
     "metadata": {},
     "output_type": "execute_result"
    }
   ],
   "source": [
    "id(t1)  # t1의 메모리 주소값"
   ]
  },
  {
   "cell_type": "code",
   "execution_count": 65,
   "metadata": {
    "tags": [
     "생성자"
    ]
   },
   "outputs": [],
   "source": [
    "# 생성자\n",
    "\n",
    "class Test:\n",
    "    a = int()\n",
    "    b = str()\n",
    "    \n",
    "    def __init__(self, a =0, b=None):                 # 생성자 매서드, 자동적으로 코드가 연결되어 있음(객체를 생성하면 무조건적으로 생성)\n",
    "        print(\"생성자 호출됨\")\n",
    "        self.a = a\n",
    "        self.b = b\n",
    "    \n",
    "    def setValue(self, a, b):\n",
    "        self.a = a\n",
    "        self.b = b\n",
    "        \n",
    "   # def __del__(self):                                 #객체가 소멸될 때 그 직전에 자동으로 호출됨\n",
    "       #print(\"소멸자 호출\")\n",
    "        \n",
    "class Test2:\n",
    "    pass"
   ]
  },
  {
   "cell_type": "code",
   "execution_count": 68,
   "metadata": {},
   "outputs": [
    {
     "name": "stdout",
     "output_type": "stream",
     "text": [
      "생성자 호출됨\n",
      "소멸자 호출\n",
      "10 홍길동\n",
      "----------------------------------------------------------\n",
      "생성자 호출됨\n",
      "소멸자 호출\n",
      "0 None\n",
      "생성자 호출됨\n",
      "소멸자 호출\n",
      "100 None\n",
      "생성자 호출됨\n",
      "소멸자 호출\n",
      "임꺽정 None\n",
      "----------------------------------------------------------\n",
      "<class '__main__.Test'>\n",
      "<class '__main__.Test2'>\n",
      "True\n",
      "False\n"
     ]
    }
   ],
   "source": [
    "#ob1 = Test()\n",
    "#ob1.a = 10\n",
    "#ob1.b = \"홍\"\n",
    "\n",
    "# ob1.setValue(10, \"홍길동\")                 \n",
    "# print(ob1.a, ob1.b)\n",
    "\n",
    "ob1 = Test(10,\"홍길동\")\n",
    "print(ob1.a, ob1.b)\n",
    "\n",
    "print('----------------------------------------------------------')\n",
    "\n",
    "ob2 = Test()                     # default 인자를 활용한 매서드 호출(객체의 특성 중 다양성에 해당)\n",
    "print(ob2.a, ob2.b)\n",
    "\n",
    "ob3 = Test(100)\n",
    "print(ob3.a, ob3.b)\n",
    "\n",
    "ob4 = Test(\"임꺽정\")\n",
    "print(ob4.a, ob4.b)\n",
    "\n",
    "print('----------------------------------------------------------')\n",
    "\n",
    "ob5 = Test2()\n",
    "\n",
    "print(type(ob1))\n",
    "print(type(ob5))\n",
    "\n",
    "print(isinstance(ob1,Test))    # isinstance(): 인자가 클래스에 속해 있는지 안 속해 있는지 여부판단\n",
    "print(isinstance(ob5,Test))"
   ]
  },
  {
   "cell_type": "code",
   "execution_count": 107,
   "metadata": {
    "tags": [
     "static"
    ]
   },
   "outputs": [],
   "source": [
    "class Person:\n",
    "    nation = str()\n",
    "    name = str()\n",
    "    age = int()\n",
    "    height = float()\n",
    "    hobby = []\n",
    "    telephone = []\n",
    "    \n",
    "    def show(self):\n",
    "        print(\"국적: \", self.nation)\n",
    "        print(\"이름: \", self.name)\n",
    "        print(\"나이: \", self.age)\n",
    "        print(\"신장: \", self.height)\n",
    "        print(\"취미: \", self.hobby)\n",
    "        print(\"전화번호: \", Person.telelphone) # 개인의 전화번호가 아니라 대표전화 출력\n",
    "        print(\"\\n---------------------\")\n",
    "    \n",
    "    @staticmethod                           # Decoration : @으로 시작함\n",
    "    def tell(n):                           # static은 self가 없음, class의 멤버 함수가 아님.\n",
    "        print(\"대표 전화번호: \", n)\n",
    "        Person.telephone = n"
   ]
  },
  {
   "cell_type": "code",
   "execution_count": 108,
   "metadata": {},
   "outputs": [],
   "source": [
    "Person.nation = \"한국\""
   ]
  },
  {
   "cell_type": "code",
   "execution_count": 109,
   "metadata": {
    "tags": [
     "static"
    ]
   },
   "outputs": [
    {
     "name": "stdout",
     "output_type": "stream",
     "text": [
      "한국 한국\n",
      "한국 프랑스\n"
     ]
    }
   ],
   "source": [
    "p1 = Person()\n",
    "p2 = Person()\n",
    "\n",
    "print(p1.nation, p2.nation)\n",
    "\n",
    "p2.nation=\"프랑스\"\n",
    "\n",
    "print(p1.nation, p2.nation)"
   ]
  },
  {
   "cell_type": "code",
   "execution_count": 120,
   "metadata": {},
   "outputs": [
    {
     "name": "stdout",
     "output_type": "stream",
     "text": [
      "대표 전화번호:  010-2222-1111\n",
      "대표 전화번호:  02-0000-0000\n",
      "대표 전화번호:  010-2232-1111\n"
     ]
    }
   ],
   "source": [
    "Person.tell(\"010-2222-1111\")  #self 없이도 출력, 단 하나만 만들어진 매서드, 단 한개의 인자를 가짐\n",
    "\n",
    "p1.tell(\"02-0000-0000\")\n",
    "p2.tell(\"010-2232-1111\")"
   ]
  },
  {
   "cell_type": "code",
   "execution_count": 128,
   "metadata": {},
   "outputs": [
    {
     "ename": "SyntaxError",
     "evalue": "leading zeros in decimal integer literals are not permitted; use an 0o prefix for octal integers (<ipython-input-128-f7e99fd3e624>, line 1)",
     "output_type": "error",
     "traceback": [
      "\u001b[1;36m  File \u001b[1;32m\"<ipython-input-128-f7e99fd3e624>\"\u001b[1;36m, line \u001b[1;32m1\u001b[0m\n\u001b[1;33m    Person.telephone(01022221111)\u001b[0m\n\u001b[1;37m                               ^\u001b[0m\n\u001b[1;31mSyntaxError\u001b[0m\u001b[1;31m:\u001b[0m leading zeros in decimal integer literals are not permitted; use an 0o prefix for octal integers\n"
     ]
    }
   ],
   "source": [
    "Person.telephone(010-2222-1111)\n",
    "p1.show()\n",
    "p2.show()"
   ]
  },
  {
   "cell_type": "code",
   "execution_count": 125,
   "metadata": {
    "tags": [
     "staticmethod"
    ]
   },
   "outputs": [
    {
     "name": "stdout",
     "output_type": "stream",
     "text": [
      "객체의 수:  3\n",
      "객체의 수:  3\n",
      "객체의 수:  3\n",
      "객체의 수:  3\n"
     ]
    }
   ],
   "source": [
    "class Counter:\n",
    "    n_cnt = 0\n",
    "    \n",
    "    def __init__(self):\n",
    "        Counter.n_cnt += 1\n",
    "    \n",
    "    @staticmethod\n",
    "    def printCount():\n",
    "        print(\"객체의 수: \", Counter.n_cnt)\n",
    "        \n",
    "        \n",
    "        \n",
    "#########################################################\n",
    "\n",
    "\n",
    "a, b ,c = Counter(), Counter(), Counter()\n",
    "a.printCount()\n",
    "b.printCount()\n",
    "c.printCount()\n",
    "\n",
    "    \n",
    "\n",
    "Counter.printCount()"
   ]
  },
  {
   "cell_type": "code",
   "execution_count": 129,
   "metadata": {},
   "outputs": [
    {
     "name": "stdout",
     "output_type": "stream",
     "text": [
      "객체의 수:  3\n",
      "객체의 수:  3\n",
      "객체의 수:  3\n",
      "객체의 수:  3\n"
     ]
    }
   ],
   "source": [
    "class Counter:\n",
    "    n_cnt = 0\n",
    "    \n",
    "    def __init__(self):\n",
    "        Counter.n_cnt += 1\n",
    "    \n",
    "    @staticmethod\n",
    "    def printCount():\n",
    "        print(\"객체의 수: \", Counter.n_cnt)\n",
    "    \n",
    "    @classmethod    \n",
    "    def printCount2(c):                   # 매개변수를 인자로 받아서 출력 가능하게함 (static = classmethond 결과는 같음)\n",
    "        print(\"객체의 수: \", c.n_cnt)     \n",
    "        \n",
    "        \n",
    "        \n",
    "#########################################################\n",
    "\n",
    "\n",
    "a, b ,c = Counter(), Counter(), Counter()\n",
    "a.printCount()\n",
    "b.printCount()\n",
    "c.printCount()\n",
    "\n",
    "\n",
    "\n",
    "Counter.printCount()"
   ]
  },
  {
   "cell_type": "code",
   "execution_count": 133,
   "metadata": {},
   "outputs": [
    {
     "name": "stdout",
     "output_type": "stream",
     "text": [
      "객체의 수:  3\n",
      "객체의 수:  3\n",
      "객체의 수:  3\n",
      "객체의 수:  3\n",
      "객체의 수:  3\n"
     ]
    }
   ],
   "source": [
    "# Decoration을 사용하지 않을 경우\n",
    "\n",
    "class Counter:\n",
    "    n_cnt = 0\n",
    "    \n",
    "    def __init__(self):\n",
    "        Counter.n_cnt += 1\n",
    "    \n",
    "    \n",
    "    def printCount():\n",
    "        print(\"객체의 수: \", Counter.n_cnt)\n",
    "    \n",
    "    \n",
    "    def printCount2(c):                   # 매개변수를 인자로 받아서 출력 가능하게함 (static = classmethond 결과는 같음)\n",
    "        print(\"객체의 수: \", c.n_cnt)     \n",
    "        \n",
    "    s1 = staticmethod(printCount)         # @staticmethod와 같은 역할, 직접 지정가능 printCount를 사용하는 것이 아니라 S1으로 사용해야함\n",
    "    s2 = classmethod(printCount2)         # @classmethod와 같은 역할, 직접 지정가능, 함수를 사용할 때 printCount2를 사용하는 것이 아니라 s2로 사용  \n",
    "#########################################################\n",
    "\n",
    "\n",
    "a, b ,c = Counter(), Counter(), Counter()\n",
    "a.s1()\n",
    "b.s1()\n",
    "c.s1()\n",
    "\n",
    "\n",
    "\n",
    "Counter.s1()\n",
    "Counter.s2()"
   ]
  },
  {
   "cell_type": "markdown",
   "metadata": {},
   "source": [
    "\\###### 예제\n",
    "\n",
    "employee(1111, '홍길동', 100000, ['낚시','여행','운동'])\n",
    "e1.display()\n",
    "\n",
    "결과\n",
    "    사번: 1111\n",
    "    이름: 홍길동\n",
    "    급여: 100000\n",
    "    취미: 여행, 낚시, 운동\n",
    "    \n",
    "e2 = Employee(1112, '홍길동', 1200000, [\"자전거','볼링'])\n",
    "e3 = Employee(1113, '신돌석', 1400000, ['독서'])\n",
    "\n",
    "total = Employee.getCount()\n",
    "print(\"총 직원수: \", total())\n",
    "\n",
    "e3.setSallary(200000)\n",
    "e3.appendHobby([\"피아노\", \"드론\"])\n",
    "e3.display()\n",
    "\n",
    "결과:\n",
    "    사번: 1113\n",
    "    이름: 신돌석\n",
    "    급여: 2000000\n",
    "    취미: 독서, 피아노, 드론\n",
    "    "
   ]
  },
  {
   "cell_type": "code",
   "execution_count": 137,
   "metadata": {
    "tags": [
     "4)객체별_멤버변수_추가"
    ]
   },
   "outputs": [
    {
     "name": "stdout",
     "output_type": "stream",
     "text": [
      "0\n",
      "0\n",
      "20\n"
     ]
    }
   ],
   "source": [
    "class Test:\n",
    "    a = 0\n",
    "    \n",
    "    def display(self):\n",
    "        print(self.a)\n",
    "        \n",
    "####################################\n",
    "        \n",
    "ob1 = Test()\n",
    "ob1.display()\n",
    "\n",
    "ob2 = Test()\n",
    "ob2.display()\n",
    "\n",
    "ob2.b = 20            # 실제 설계를 바꾸는것은 아니지만 일시적으로 추가할 수 있음.\n",
    "print(ob2.b)"
   ]
  },
  {
   "cell_type": "code",
   "execution_count": 146,
   "metadata": {
    "tags": [
     "5)언더바"
    ]
   },
   "outputs": [
    {
     "name": "stdout",
     "output_type": "stream",
     "text": [
      "10 30\n"
     ]
    }
   ],
   "source": [
    "# __를 사용하여 값을 무시\n",
    "\n",
    "(10,20,30)\n",
    "_,b,c=(10,20,30)\n",
    "b,_,c=(10,20,30)\n",
    "\n",
    "print(b,c)"
   ]
  },
  {
   "cell_type": "code",
   "execution_count": 145,
   "metadata": {
    "tags": [
     "5)언더바"
    ]
   },
   "outputs": [
    {
     "name": "stdout",
     "output_type": "stream",
     "text": [
      "10 60\n"
     ]
    }
   ],
   "source": [
    "a,_,_,_,_,b=(10, 20, 30, 40, 50, 60)\n",
    "print(a,b)"
   ]
  },
  {
   "cell_type": "code",
   "execution_count": 147,
   "metadata": {
    "tags": [
     "5)언더바"
    ]
   },
   "outputs": [
    {
     "name": "stdout",
     "output_type": "stream",
     "text": [
      "10 60\n"
     ]
    }
   ],
   "source": [
    "a,*_,b=(10, 20, 30, 40, 50, 60)\n",
    "print(a,b)"
   ]
  },
  {
   "cell_type": "code",
   "execution_count": 150,
   "metadata": {
    "tags": [
     "5)언더바"
    ]
   },
   "outputs": [
    {
     "name": "stdout",
     "output_type": "stream",
     "text": [
      "0\n",
      "1\n",
      "2\n",
      "3\n",
      "**********"
     ]
    }
   ],
   "source": [
    "for i, _ in enumerate([\"가\",\"나\",\"다\",\"라\"]):   #  index만 활용\n",
    "    print(i)\n",
    "    \n",
    "for _ in range(10):\n",
    "    print(\"*\", end=\"\")"
   ]
  },
  {
   "cell_type": "code",
   "execution_count": 169,
   "metadata": {
    "tags": [
     "5)언더바와접근권한"
    ]
   },
   "outputs": [
    {
     "name": "stdout",
     "output_type": "stream",
     "text": [
      "도람푸 재선각\n",
      "홍길동입니다\n",
      "다음에 또 봅시다\n",
      "funcTest입니다. 다음에 또 봅시다\n"
     ]
    }
   ],
   "source": [
    "# _,__를 이용한 접근권한\n",
    "\n",
    "class Test:\n",
    "    str1 = \"도람푸 재선각\"\n",
    "    _str2 = \"홍길동입니다\"       # 외부에서 접근하지 말라는 표시(접근을 직접 차단하지 못함)\n",
    "    __str3 = \"다음에 또 봅시다\"  # 변수의 이름을 미리 수정하여 출력을 제한함(하지만 dir로 알 수 있음)\n",
    "    \n",
    "    def __funcTest(self):\n",
    "        print(\"funcTest입니다.\", self.__str3) # 같은 클래스 안에서는 선언가능\n",
    "    \n",
    "###########################################\n",
    "\n",
    "ob1 = Test()\n",
    "print(ob1.str1)\n",
    "print(ob1._str2)\n",
    "# print(ob1.__str3)\n",
    "\n",
    "#print(dir(ob1))\n",
    "print(ob1._Test__str3)\n",
    "\n",
    "#ob1._funcTest()\n",
    "ob1._Test__funcTest()"
   ]
  },
  {
   "cell_type": "markdown",
   "metadata": {},
   "source": [
    "---\n",
    "## 4. 상속\n",
    "\n",
    "1) 상속 설계 시 고려할 점\n",
    "\n",
    "    - 부모클래스는 최소한 코드로 작성 (모든 자식클래스들이 공톡적으로 가질 수 있는 항목에 대해서)\n",
    "    - 중복된 코드가 있으면 안됨\n",
    "    - 상속받은 자식클래스는 반드시 기능을 확장(추가)시켜야 한다.\n",
    "    \n",
    "    \n",
    "2) Override(재정의), Overload(중복정의)\n",
    "\n",
    "    - override: 부모클래스로 부터 상속받은 매서드를 자식클래스가 수정하여 사용(메모리 낭비 방지)\n",
    "    - overload: 같은 매서드를 새로 다시 만듬(파이썬에서는 지원X)\n",
    "    \n",
    "    \n",
    "3) super(): 부모객체에 접근하기 위한 주소 리턴\n",
    "\n",
    "4) 다중 상속: 여러 부모 클래스로부터 상속받는 것\n",
    "\n",
    "5) 추상클래스, 추상매서드\n",
    "\n",
    "    - 추상클래스\n",
    "        + 기본적으로 추상 매서드를 한 개 이상 가지고 있어야 한다.\n",
    "        + 객체가 생성할 수 없음 -> 역할을 명확히 하기 위해\n",
    "        \n",
    "        \n",
    "    - 추상매서드\n",
    "        : 내용이 없는 매서드를 의미 -> 자식클래스는 추상매서드를 상속 받으면 반드시 overrinding 을 해야함\n",
    "\n",
    "6) object"
   ]
  },
  {
   "cell_type": "code",
   "execution_count": 177,
   "metadata": {},
   "outputs": [
    {
     "name": "stdout",
     "output_type": "stream",
     "text": [
      "왕왕!!\n",
      "움직인다\n",
      "현재 속도는:  100\n",
      "움직인다\n"
     ]
    }
   ],
   "source": [
    "class Animal:                      #부모class\n",
    "    def move(self):\n",
    "        print(\"움직인다\")\n",
    "        \n",
    "class Dog(Animal):                 #자식class # 물려받을 클래스의 이름을 명시 -> move라는 매서드를 가지게 됨\n",
    "    def bark(self):                \n",
    "        print(\"왕왕!!\")\n",
    "        \n",
    "class Horse(Animal):\n",
    "    def speed(self,s):\n",
    "        print(\"현재 속도는: \",s)\n",
    "        \n",
    "#####################################################\n",
    "\n",
    "d = Dog()\n",
    "d.bark()\n",
    "d.move()                          # Dog 라는 객체에 Animal 클래스의 매서드가 상속됨\n",
    "\n",
    "h = Horse()\n",
    "h.speed(100)\n",
    "h.move()"
   ]
  },
  {
   "cell_type": "code",
   "execution_count": 1,
   "metadata": {
    "tags": [
     "과제"
    ]
   },
   "outputs": [],
   "source": [
    "#조건문의 예제 -> 함수화 -> 클래스화\n",
    "# 계산기 -> 상속화"
   ]
  },
  {
   "cell_type": "code",
   "execution_count": 10,
   "metadata": {},
   "outputs": [],
   "source": [
    "class Calculator:\n",
    "    first = 0\n",
    "    second = 0\n",
    "    \n",
    "#생성자\n",
    "    def __init__(self,first = 0, second = 0):       \n",
    "        self.first = first\n",
    "        self.second = second\n",
    "        \n",
    "#데이터  \n",
    "    def setData(self, first = 0, second = 0):    #생성자는 한번밖에 생성되지 않아서 다른 값을 넣어서 사용하기 위한 매서드\n",
    "        self.first = first\n",
    "        self.second = second\n",
    "        \n",
    "# 연산자매서드    \n",
    "    def sum(self):\n",
    "        return self.first + self.second\n",
    "    \n",
    "    def div(self):\n",
    "        return self.first / self.second\n",
    "    \n",
    "    def mul(self):\n",
    "        return self.first * self.second\n",
    "    \n",
    "    def sub(self):\n",
    "        return self.first - self.second\n",
    "\n",
    "# 상속    \n",
    "class Calculator2(Calculator):                  # 생성자는 다시 만들어짐\n",
    "    \n",
    "    def pow(self):\n",
    "        return self.first ** self.second\n",
    "    \n",
    "# override\n",
    "    def div(self):\n",
    "        if self.second == 0:\n",
    "            return \"0으로 나눌 수 없습니다.\"\n",
    "        \n",
    "        else:\n",
    "            return self.first / self.second"
   ]
  },
  {
   "cell_type": "code",
   "execution_count": 15,
   "metadata": {},
   "outputs": [
    {
     "name": "stdout",
     "output_type": "stream",
     "text": [
      "30\n",
      "200\n",
      "1024\n",
      "0으로 나눌 수 없습니다.\n"
     ]
    }
   ],
   "source": [
    "cal1 = Calculator()\n",
    "\n",
    "cal1.setData(10, 20)\n",
    "print(cal1.sum())\n",
    "\n",
    "cal2 = Calculator(10, 20)\n",
    "print(cal2.mul())\n",
    "\n",
    "cal3 = Calculator2(2, 10)\n",
    "print(cal3.pow())\n",
    "\n",
    "cal4 = Calculator2(10, 0)\n",
    "print(cal4.div())"
   ]
  },
  {
   "cell_type": "code",
   "execution_count": 16,
   "metadata": {
    "tags": [
     "Overriding"
    ]
   },
   "outputs": [],
   "source": [
    "# Overriding을 이용한 표준화 구현\n",
    "\n",
    "class Phone:\n",
    "    \n",
    "    def call(self):\n",
    "        print(\"전화걸기\")\n",
    "    \n",
    "class FolderPhone(Phone):\n",
    "    \n",
    "    def call(self):\n",
    "        print(\"전화걸기 + 게임\")\n",
    "    \n",
    "class CameraPhone(Phone):\n",
    "    \n",
    "    def call(self):\n",
    "        print(\"전화걸기 + 카메라추가\")\n",
    "    \n",
    "class SmartPhone(Phone):\n",
    "    \n",
    "    def call(self):\n",
    "        print(\"전화걸기 + 카메라추가 + 인터넷 기능\")"
   ]
  },
  {
   "cell_type": "code",
   "execution_count": 28,
   "metadata": {
    "tags": [
     "super()"
    ]
   },
   "outputs": [
    {
     "name": "stdout",
     "output_type": "stream",
     "text": [
      "Employee 클래스\n",
      "20\n",
      "난 회사원이다.\n",
      "난 사람이다.\n",
      "나이: 20, 하고 싶은말: 난 회사원이다.\n"
     ]
    }
   ],
   "source": [
    "class Person:\n",
    "    say = \"난 사람이다.\"\n",
    "    age = 20\n",
    "    \n",
    "    def info(self):\n",
    "        print(\"나이: {}, 하고 싶은말: {}\".format(self.age, self.say))\n",
    "        \n",
    "    def __init__(self):\n",
    "        print(\"Person 클래스\")\n",
    "        \n",
    "        \n",
    "class Employee(Person):\n",
    "    say = \"난 회사원이다.\"   # Override\n",
    "    subject = \"근로자\"\n",
    "    \n",
    "    def __init__(self):\n",
    "        print(\"Employee 클래스\")\n",
    "        \n",
    "    def info(self):        # Override\n",
    "        print(self.age)\n",
    "        print(self.say)\n",
    "        print(super().say)  #부모객체에 접근\n",
    "        super().info()\n",
    "###############################################################################\n",
    "\n",
    "\n",
    "e1 = Employee()  # 부모클래스에도 영향\n",
    "\n",
    "e1.info()"
   ]
  },
  {
   "cell_type": "code",
   "execution_count": 56,
   "metadata": {
    "tags": [
     "setter",
     "getter"
    ]
   },
   "outputs": [],
   "source": [
    "class Person:\n",
    "    say = \"난 사람이다.\"\n",
    "    __age = 20            # 외부로부터 접근을 막음\n",
    "    \n",
    "    def info(self):\n",
    "        print(\"나이: {}, 하고 싶은말: {}\".format(self.__age, self.say))\n",
    "        \n",
    "    def __init__(self):\n",
    "        print(\"Person 클래스\")\n",
    "        \n",
    "# 매서드를 활용하여 안전하게 접근        \n",
    "    def setAge(self, age):     # setter 매서드  \n",
    "        self.__age = age\n",
    "    \n",
    "    def getAge(self):     # getter 매서드\n",
    "        return self.__age\n",
    "        \n",
    "class Employee(Person):\n",
    "    say = \"난 회사원이다.\"  \n",
    "    \n",
    "    def __init__(self):\n",
    "        print(\"Employee 클래스\")\n",
    "        \n",
    "    def info(self):   \n",
    "        #print(self.__age)\n",
    "        #print(self._Person__age)\n",
    "        print(self.getAge())\n",
    "        print(self.say)"
   ]
  },
  {
   "cell_type": "code",
   "execution_count": 57,
   "metadata": {},
   "outputs": [
    {
     "name": "stdout",
     "output_type": "stream",
     "text": [
      "Employee 클래스\n",
      "20\n",
      "난 회사원이다.\n",
      "30\n",
      "난 회사원이다.\n"
     ]
    }
   ],
   "source": [
    "e1 = Employee()\n",
    "e1.info()\n",
    "e1.setAge(30)\n",
    "e1.info()"
   ]
  },
  {
   "cell_type": "code",
   "execution_count": 66,
   "metadata": {
    "tags": [
     "staticmethod",
     "overriding",
     "classmethod"
    ]
   },
   "outputs": [],
   "source": [
    "# 상속에서의 staticmethod : 상속은 가능하나 override가 문제됨\n",
    "# staticemethod의 경우 상속을 해도 부모의 리소스를 먼저 접근하기 때문에 overriding 이 안됨 \n",
    "#classmethod 는 overriding이 가능\n",
    "class Test:\n",
    "    t = '내가 상속해 주었음'\n",
    "    \n",
    "   # @staticmethod    \n",
    "    #def display():\n",
    "       #return Test.t\n",
    "        \n",
    "    @classmethod\n",
    "    def display(cls):\n",
    "        return cls.t\n",
    "    \n",
    "class ChildTest(Test):\n",
    "    t = '나는 상속 받았음'\n",
    "    \n"
   ]
  },
  {
   "cell_type": "code",
   "execution_count": 67,
   "metadata": {},
   "outputs": [
    {
     "name": "stdout",
     "output_type": "stream",
     "text": [
      "내가 상속해 주었음\n",
      "나는 상속 받았음\n"
     ]
    }
   ],
   "source": [
    "print(Test.display())\n",
    "print(ChildTest.display())"
   ]
  },
  {
   "cell_type": "code",
   "execution_count": 68,
   "metadata": {},
   "outputs": [
    {
     "name": "stdout",
     "output_type": "stream",
     "text": [
      "통화기능\n",
      "촬영기능\n"
     ]
    }
   ],
   "source": [
    "# 다중상속\n",
    "\n",
    "class Phone:\n",
    "    def call(self):\n",
    "        print(\"통화기능\")\n",
    "        \n",
    "class Camera:\n",
    "    def picture(self):\n",
    "        print(\"촬영기능\")\n",
    "        \n",
    "class CameraPhone(Phone, Camera):\n",
    "    pass\n",
    "\n",
    "###############################################\n",
    "\n",
    "cp = CameraPhone("
   ]
  },
  {
   "cell_type": "code",
   "execution_count": 93,
   "metadata": {
    "tags": [
     "추상클래스",
     "추상매서드"
    ]
   },
   "outputs": [
    {
     "name": "stdout",
     "output_type": "stream",
     "text": [
      "소리 증가:  100\n",
      "소리 증가:  200\n"
     ]
    }
   ],
   "source": [
    "import abc\n",
    "\n",
    "class Volume(metaclass=abc.ABCMeta):  # 추상클래스\n",
    "    vol= 0\n",
    "     \n",
    "    @abc.abstractmethod                 #코드가 없다고 해서 추상매서드가 아님\n",
    "    def volumeup(self, vol):     \n",
    "        pass\n",
    "    \n",
    "    @abc.abstractmethod\n",
    "    def volumedown(self, vol):\n",
    "        pass\n",
    "    \n",
    "    \n",
    "class TestVolume(Volume):\n",
    "    \n",
    "    def volumeup(self, vol):\n",
    "        self.vol += vol\n",
    "        print(\"소리 증가: \", self.vol)\n",
    "        \n",
    "    def volumedown(self, vol):\n",
    "        self.vol -= vol  \n",
    "        print(\"소리 감소: \", self.vol)\n",
    "        \n",
    "        \n",
    "\n",
    "t1 = TestVolume()\n",
    "t1.volumeup(100)\n",
    "\n",
    "t2 = TestVolume()\n",
    "t2.volumeup(200)"
   ]
  },
  {
   "cell_type": "markdown",
   "metadata": {},
   "source": [
    "TV, RADIO , SPEAKER \n",
    "-> overrriding\n",
    "-> 다중상속"
   ]
  },
  {
   "cell_type": "code",
   "execution_count": 94,
   "metadata": {
    "tags": [
     "예제"
    ]
   },
   "outputs": [],
   "source": [
    "# 전체 예제\n",
    "\n",
    "class Volume:\n",
    "    vol = 0\n",
    "    \n",
    "    def volumeup(self, vol):\n",
    "        self.vol += vol\n",
    "        print(\"볼륨의 크기는 %d는 증가하여 현재 볼륨은 %d 입니다.\"%(vol, self.vol))\n",
    "        \n",
    "    def volumedown(self, vol):\n",
    "        self.vol -= vol\n",
    "        print(\"볼륨의 크기는 %d는 감소하여 현재 볼륨은 %d 입니다.\"%(vol, self.vol))\n",
    "####################################################################################################\n",
    "class TV(Volume):\n",
    "    \n",
    "    def volumeup(self, vol):\n",
    "        self.vol += vol\n",
    "        print(\"TV 볼륨의 크기는 %d는 증가하여 현재 볼륨은 %d 입니다.\"%(vol, self.vol))\n",
    "        \n",
    "    def volumedown(self, vol):\n",
    "        self.vol -= vol\n",
    "        print(\"TV 볼륨의 크기는 %d는 감소하여 현재 볼륨은 %d 입니다.\"%(vol, self.vol))\n",
    "#####################################################################################################\n",
    "class Radio(Volume):\n",
    "    \n",
    "    def volumeup(self, vol):\n",
    "        self.vol += vol\n",
    "        print(\"Radio 볼륨의 크기는 %d는 증가하여 현재 볼륨은 %d 입니다.\"%(vol, self.vol))\n",
    "        \n",
    "    def volumedown(self, vol):\n",
    "        self.vol -= vol\n",
    "        print(\"Radio 볼륨의 크기는 %d는 감소하여 현재 볼륨은 %d 입니다.\"%(vol, self.vol))\n",
    "#####################################################################################################\n",
    "class Speaker(Volume):\n",
    "    \n",
    "    def volumeup(self, vol):\n",
    "        self.vol += vol\n",
    "        print(\"Speaker 볼륨의 크기는 %d는 증가하여 현재 볼륨은 %d 입니다.\"%(vol, self.vol))\n",
    "        \n",
    "    def volumedown(self, vol):\n",
    "        self.vol -= vol\n",
    "        print(\"Speaker 볼륨의 크기는 %d는 감소하여 현재 볼륨은 %d 입니다.\"%(vol, self.vol))"
   ]
  },
  {
   "cell_type": "code",
   "execution_count": 96,
   "metadata": {},
   "outputs": [
    {
     "name": "stdout",
     "output_type": "stream",
     "text": [
      "TV 볼륨의 크기는 10는 증가하여 현재 볼륨은 10 입니다.\n",
      "Radio 볼륨의 크기는 10는 감소하여 현재 볼륨은 -10 입니다.\n",
      "Speaker 볼륨의 크기는 20는 증가하여 현재 볼륨은 20 입니다.\n"
     ]
    }
   ],
   "source": [
    "tv = TV()\n",
    "radio = Radio()\n",
    "speaker = Speaker()\n",
    "\n",
    "tv.volumeup(10)\n",
    "radio.volumedown(10)\n",
    "speaker.volumeup(20)"
   ]
  },
  {
   "cell_type": "markdown",
   "metadata": {},
   "source": [
    "'''\n",
    "1. 부모 클래스로 power를 추가한다 : 다중 상속 구현\n",
    "    - powerOn(), powerOff()\n",
    "2. 부모 클래스는 추상 클래스로 구현한다.\n",
    "3. 전원을 켰을 때만 볼륨조정을 할 수 있게 한다.\n",
    "4. 볼륨 조절은 max 값을 100으로 하고 min 값을 0으로 한다.\n",
    "'''\n",
    "\n",
    "1. tv\n",
    "2. Radio\n",
    "3. Speaker\n",
    "4. 종료\n",
    "\n",
    "메뉴: 1\n",
    "1. 전원\n",
    "2. 볼륨조정\n",
    "\n",
    "메뉴: 2\n",
    "볼륨 레벨: 20\n",
    "현재 TV의 볼륨은 X입니다.\n",
    "\n"
   ]
  },
  {
   "cell_type": "code",
   "execution_count": 99,
   "metadata": {
    "scrolled": true,
    "tags": [
     "object"
    ]
   },
   "outputs": [
    {
     "name": "stdout",
     "output_type": "stream",
     "text": [
      "['__class__', '__delattr__', '__dir__', '__doc__', '__eq__', '__format__', '__ge__', '__getattribute__', '__gt__', '__hash__', '__init__', '__init_subclass__', '__le__', '__lt__', '__ne__', '__new__', '__reduce__', '__reduce_ex__', '__repr__', '__setattr__', '__sizeof__', '__str__', '__subclasshook__']\n"
     ]
    }
   ],
   "source": [
    "print(dir(object))"
   ]
  },
  {
   "cell_type": "code",
   "execution_count": 100,
   "metadata": {},
   "outputs": [
    {
     "name": "stdout",
     "output_type": "stream",
     "text": [
      "['__abs__', '__add__', '__and__', '__bool__', '__ceil__', '__class__', '__delattr__', '__dir__', '__divmod__', '__doc__', '__eq__', '__float__', '__floor__', '__floordiv__', '__format__', '__ge__', '__getattribute__', '__getnewargs__', '__gt__', '__hash__', '__index__', '__init__', '__init_subclass__', '__int__', '__invert__', '__le__', '__lshift__', '__lt__', '__mod__', '__mul__', '__ne__', '__neg__', '__new__', '__or__', '__pos__', '__pow__', '__radd__', '__rand__', '__rdivmod__', '__reduce__', '__reduce_ex__', '__repr__', '__rfloordiv__', '__rlshift__', '__rmod__', '__rmul__', '__ror__', '__round__', '__rpow__', '__rrshift__', '__rshift__', '__rsub__', '__rtruediv__', '__rxor__', '__setattr__', '__sizeof__', '__str__', '__sub__', '__subclasshook__', '__truediv__', '__trunc__', '__xor__', 'as_integer_ratio', 'bit_length', 'conjugate', 'denominator', 'from_bytes', 'imag', 'numerator', 'real', 'to_bytes']\n"
     ]
    }
   ],
   "source": [
    "a = 19\n",
    "print(dir(a))"
   ]
  },
  {
   "cell_type": "code",
   "execution_count": 102,
   "metadata": {},
   "outputs": [
    {
     "name": "stdout",
     "output_type": "stream",
     "text": [
      "['__class__', '__delattr__', '__dict__', '__dir__', '__doc__', '__eq__', '__format__', '__ge__', '__getattribute__', '__gt__', '__hash__', '__init__', '__init_subclass__', '__le__', '__lt__', '__module__', '__ne__', '__new__', '__reduce__', '__reduce_ex__', '__repr__', '__setattr__', '__sizeof__', '__str__', '__subclasshook__', '__weakref__', 'a']\n",
      "<class '__main__.Test'>\n"
     ]
    }
   ],
   "source": [
    "class Test:\n",
    "    a = 10\n",
    "    \n",
    "print(dir(Test))\n",
    "print(Test().__class__)"
   ]
  },
  {
   "cell_type": "code",
   "execution_count": 108,
   "metadata": {},
   "outputs": [
    {
     "name": "stdout",
     "output_type": "stream",
     "text": [
      "파이선 클래스\n",
      "파이선 클래스\n",
      "파이선 클래스\n",
      "=======================================\n",
      "파이선 변경\n",
      "파이선 변경\n",
      "파이선 변경\n"
     ]
    }
   ],
   "source": [
    "class Test:\n",
    "    data = \"파이선 클래스\"\n",
    "    \n",
    "##################################\n",
    "    \n",
    "ob1, ob2 = Test(), Test()\n",
    "\n",
    "print(ob1.data)\n",
    "print(ob2.data)\n",
    "print(Test.data)\n",
    "\n",
    "print('=======================================')\n",
    "\n",
    "# ob1.data = \"파이선 변경\"    \n",
    "# Test.data = '파이선 변경'   # static 으로 변경\n",
    "ob1.__class__.data= '파이선 변경'\n",
    "\n",
    "print(ob1.data)\n",
    "print(ob2.data)\n",
    "print(Test.data)"
   ]
  },
  {
   "cell_type": "code",
   "execution_count": 114,
   "metadata": {},
   "outputs": [],
   "source": [
    " # 객체별로 변수 추가 금지 : __slot__\n",
    "    \n",
    "class Animal:\n",
    "    #name = \"동물\"\n",
    "    #age = 0\n",
    "    __slots__ = ['name', 'age']\n",
    "    \n",
    "    def display(self):\n",
    "        print(self.name, self.age)"
   ]
  },
  {
   "cell_type": "code",
   "execution_count": 116,
   "metadata": {},
   "outputs": [
    {
     "name": "stdout",
     "output_type": "stream",
     "text": [
      "댕댕이 2\n",
      "고앵이 3\n"
     ]
    }
   ],
   "source": [
    "a, b = Animal(), Animal()\n",
    "\n",
    "a.name = '댕댕이'\n",
    "a.age = '2'\n",
    "\n",
    "b.name = '고앵이'\n",
    "b.age = '3'\n",
    "\n",
    "a.display()\n",
    "b.display()\n",
    "\n",
    "\n",
    "#a.etc = \"예방접종\"\n",
    "#print(a.etc)\n",
    "#print(b.etc)"
   ]
  },
  {
   "cell_type": "markdown",
   "metadata": {},
   "source": [
    "## 5. 클래스의 관계\n",
    "\n",
    "\n",
    "1) is a 관계(상속관계, 일반화 관계)\n",
    "    - 특정 클래스 객체가 다른 클래스 객체에게 자신의 멤버를 물려주는 상속관계\n",
    "    - UML 내에는 비어있는 화살표로 표현\n",
    "    - 강한 결합 관계\n",
    "\n",
    "\n",
    "2) has a 관계(연관관계, 포함관계)\n",
    "    - 특정 클래스 내에서 해당 클래스의 멤버처럼 다른 클래스 객체를 포함하고 있는 경우\n",
    "    - Aggregation: 약한 관계\n",
    "    - Composition: 강한 관계\n",
    "\n",
    "\n",
    "3) UML"
   ]
  },
  {
   "cell_type": "code",
   "execution_count": 129,
   "metadata": {},
   "outputs": [
    {
     "name": "stdout",
     "output_type": "stream",
     "text": [
      "tom의 회전량은?우회전10\n"
     ]
    }
   ],
   "source": [
    "# has a 관계 중 강한 관계\n",
    "class Handle:\n",
    "    quantity = 0 \n",
    "    \n",
    "    def leftTurn(self, q):\n",
    "        self.quantity = q\n",
    "        return \"좌회전\"\n",
    "    \n",
    "    def rightTurn(self, q):\n",
    "        self.quantity = q\n",
    "        return \"우회전\"\n",
    "    \n",
    "    def straight(self, q):\n",
    "        self.quantity = q\n",
    "        return \"직진\"\n",
    "    \n",
    "##########################################################\n",
    "\n",
    "class Car:\n",
    "    turnShow = '정지'\n",
    "    \n",
    "    def __init__(self, owner):\n",
    "        self.ownerName = owner\n",
    "        self.handle = Handle()             # 클래스 내에서 객체 생성(강한관계)\n",
    "        \n",
    "    def turnHandle(self, q):\n",
    "        if q > 0:\n",
    "            self.turenShow = self.handle.rightTurn(q)\n",
    "        \n",
    "        elif q < 0:\n",
    "            self.turenShow = self.handle.leftTurn(q)\n",
    "            \n",
    "        else:\n",
    "            self.turenShow = self.handle.straight(q)\n",
    "        \n",
    "###################################################################\n",
    "\n",
    "tom = Car('tom')\n",
    "tom.turnHandle(10)\n",
    "print(tom.ownerName+ \"의 회전량은?\" + tom.turenShow + str(tom.handle.quantity))"
   ]
  },
  {
   "cell_type": "code",
   "execution_count": 124,
   "metadata": {},
   "outputs": [
    {
     "name": "stdout",
     "output_type": "stream",
     "text": [
      "냉장고 문 열기\n",
      "냉장고에 음식이 들어감\n",
      "-> 사과 2020-11-05\n",
      "\n",
      "냉장고 문 닫기\n"
     ]
    }
   ],
   "source": [
    "# has a 관계: 약한관계\n",
    "\n",
    "class Fridge:\n",
    "    isOpen = False\n",
    "    foods = []\n",
    "    \n",
    "    # 냉장고 문 열고 닫기\n",
    "    def open(self):\n",
    "        self.isOpen = True\n",
    "        print(\"냉장고 문 열기\")\n",
    "        \n",
    "    def close(self):\n",
    "        self.isOpen = False\n",
    "        print(\"냉장고 문 닫기\")\n",
    "        \n",
    "    # 냉장고에 음식넣기\n",
    "    def put(self, thing):\n",
    "        if self.isOpen:\n",
    "            self.foods.append(thing)\n",
    "            print(\"냉장고에 음식이 들어감\")\n",
    "            self.list()                       # 냉장고 안에 있는 음식리스트 출력\n",
    "        else:\n",
    "            print(\"냉장고 문이 닫혀 있어 음식을 넣을 수 없음\")\n",
    "    \n",
    "    # 음식에 대한 정보        \n",
    "    def list(self):\n",
    "        for f in self.foods:\n",
    "            print(\"->\", f.irum, f.ex_data)\n",
    "        print()\n",
    "        \n",
    "#######################################\n",
    "\n",
    "#음식에 대한 데이터 생성\n",
    "class FoodData:\n",
    "    def __init__(self, irum, ex_data):\n",
    "        self.irum = irum\n",
    "        self.ex_data = ex_data\n",
    "    \n",
    "#######################################\n",
    "\n",
    "# main\n",
    "\n",
    "f = Fridge()\n",
    "\n",
    "apple = FoodData(\"사과\", \"2020-11-05\")            # 제 3의 지역에서 객체가 생성됨\n",
    "\n",
    "f.open()\n",
    "f.put(apple)\n",
    "f.close()"
   ]
  },
  {
   "cell_type": "code",
   "execution_count": null,
   "metadata": {},
   "outputs": [],
   "source": []
  }
 ],
 "metadata": {
  "celltoolbar": "Tags",
  "kernelspec": {
   "display_name": "Python 3",
   "language": "python",
   "name": "python3"
  },
  "language_info": {
   "codemirror_mode": {
    "name": "ipython",
    "version": 3
   },
   "file_extension": ".py",
   "mimetype": "text/x-python",
   "name": "python",
   "nbconvert_exporter": "python",
   "pygments_lexer": "ipython3",
   "version": "3.7.6"
  }
 },
 "nbformat": 4,
 "nbformat_minor": 4
}
