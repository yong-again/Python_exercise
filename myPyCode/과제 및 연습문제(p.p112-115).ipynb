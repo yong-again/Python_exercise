{
 "cells": [
  {
   "cell_type": "code",
   "execution_count": 24,
   "metadata": {},
   "outputs": [
    {
     "name": "stdout",
     "output_type": "stream",
     "text": [
      "교환할 돈은 얼마?:2763\n",
      "500원: 5개\n",
      "100원: 2개\n",
      "10원: 6개\n",
      "잔돈: 63원\n"
     ]
    }
   ],
   "source": [
    "# 변수\n",
    "\n",
    "money = 0\n",
    "\n",
    "money = int(input(\"교환할 돈은 얼마?:\")) #정수형 자료로 변환\n",
    "\n",
    "a500 = money//500  # 몫만 출력\n",
    "money %= 500       # = money%500\n",
    "\n",
    "a100 = money//100\n",
    "money %= 100\n",
    "\n",
    "a50 = money//50\n",
    "\n",
    "a10 = money//10\n",
    "\n",
    "# 결과\n",
    "\n",
    "print('500원: %d개' %a500)  #formating을 이용한 갯수 구하기\n",
    "print('100원: %d개'%a100)\n",
    "print('10원: %d개' %a10)\n",
    "print('잔돈: %d원'%money)"
   ]
  },
  {
   "cell_type": "code",
   "execution_count": 4,
   "metadata": {},
   "outputs": [
    {
     "name": "stdout",
     "output_type": "stream",
     "text": [
      "총점: 210\n",
      "평균: 70.0\n"
     ]
    }
   ],
   "source": [
    "#Q1. dict() 이용\n",
    "\n",
    "# 변수(dict 지정)\n",
    "HGD= {'korean': 80, 'english': 75, 'math': 55}\n",
    "\n",
    "sum1 = sum(HGD.values()) # values() 를 이용한 합\n",
    "\n",
    "average = sum1/len(HGD) #len() 을 이용한 평균 구하기\n",
    "\n",
    "#결과\n",
    "\n",
    "print(\"총점:\", sum1)\n",
    "print(\"평균:\", average)"
   ]
  },
  {
   "cell_type": "code",
   "execution_count": 5,
   "metadata": {},
   "outputs": [
    {
     "name": "stdout",
     "output_type": "stream",
     "text": [
      "총점:210, 평균:70.0\n"
     ]
    }
   ],
   "source": [
    "#Q1. 내장함수와 formating 이용\n",
    "\n",
    "#변수\n",
    "scores = [80, 75, 55]\n",
    "\n",
    "\n",
    "#결과\n",
    "print(\"총점:{0}, 평균:{1}\".format(sum(scores),sum(scores)/len(scores)))"
   ]
  },
  {
   "cell_type": "code",
   "execution_count": 7,
   "metadata": {},
   "outputs": [
    {
     "name": "stdout",
     "output_type": "stream",
     "text": [
      "정수 x=13\n",
      "홀수입니다.\n"
     ]
    }
   ],
   "source": [
    "#Q2.\n",
    "\n",
    "x=int(input(\"정수 x=\"))  # input(\"정수 x=\")는 문자열 이므로 int()를 통한 정수화 input(\"정수 x=\")는 문자열 이므로\n",
    "\n",
    "if(x %2 == 1):           # 홀수를 2로 나누면 나머지가 1이 남는 것을 이용\n",
    "    print(\"홀수입니다.\")  \n",
    "else:\n",
    "    print(\"짝수입니다.\")\n",
    "\n"
   ]
  },
  {
   "cell_type": "code",
   "execution_count": 8,
   "metadata": {},
   "outputs": [
    {
     "name": "stdout",
     "output_type": "stream",
     "text": [
      "881120\n",
      "1068234\n"
     ]
    }
   ],
   "source": [
    "#Q3.\n",
    "\n",
    "#변수\n",
    "pin = \"881120-1068234\"\n",
    "yyyymmdd = pin[:6] #년월만 추출\n",
    "num = pin[7:]      #년월 이후 부분 추출\n",
    "\n",
    "#결과\n",
    "print(yyyymmdd)\n",
    "print(num)"
   ]
  },
  {
   "cell_type": "code",
   "execution_count": 9,
   "metadata": {},
   "outputs": [
    {
     "data": {
      "text/plain": [
       "'1'"
      ]
     },
     "execution_count": 9,
     "metadata": {},
     "output_type": "execute_result"
    }
   ],
   "source": [
    "#Q4.\n",
    "\n",
    "# 변수 \n",
    "# 성별 구분 가능한 숫자 추출\n",
    "\n",
    "pin = \"881120-1068234\"\n",
    "\n",
    "#결과\n",
    "pin[7:8] # 성별 구분 가능한 숫자 추출\n"
   ]
  },
  {
   "cell_type": "code",
   "execution_count": 10,
   "metadata": {},
   "outputs": [
    {
     "name": "stdout",
     "output_type": "stream",
     "text": [
      "a#b#c#d\n"
     ]
    }
   ],
   "source": [
    "#Q5.\n",
    "\n",
    "# 변수 #replace(\"old\", \"new\")\n",
    "a = \"a:b:c:d\"\n",
    "b = a.replace(\"a:b:c:d\",\"a#b#c#d\") #  .replace()를 통해 \":\" 부분을 #으로 교체\n",
    "\n",
    "#결과\n",
    "print(b)"
   ]
  },
  {
   "cell_type": "code",
   "execution_count": 11,
   "metadata": {},
   "outputs": [
    {
     "name": "stdout",
     "output_type": "stream",
     "text": [
      "[5, 4, 3, 2, 1]\n"
     ]
    }
   ],
   "source": [
    "#Q6.\n",
    "\n",
    "# 변수\n",
    "a = [1,3,5,4,2]\n",
    "\n",
    "a.sort()    #1,2,3,4,5 로 변경\n",
    "a.reverse() #5,4,3,2,1 로 변경\n",
    "\n",
    "#결과\n",
    "\n",
    "print(a)"
   ]
  },
  {
   "cell_type": "code",
   "execution_count": 12,
   "metadata": {},
   "outputs": [
    {
     "name": "stdout",
     "output_type": "stream",
     "text": [
      "Life is too short\n"
     ]
    }
   ],
   "source": [
    "#Q7.\n",
    "\n",
    "a = ['Life','is','too','short']\n",
    "result = \" \".join(a)\n",
    "print(result)"
   ]
  },
  {
   "cell_type": "code",
   "execution_count": 13,
   "metadata": {},
   "outputs": [
    {
     "name": "stdout",
     "output_type": "stream",
     "text": [
      "[1, 2, 3, 4]\n"
     ]
    }
   ],
   "source": [
    "#Q8.\n",
    "\n",
    "a = (1, 2, 3) #tuple()\n",
    "\n",
    "a1 = list(a) #list로 변환\n",
    "\n",
    "a1.insert(3,4) #insert(위치, 추가할 데이터)로 데이터 추가\n",
    "\n",
    "print(a1)"
   ]
  },
  {
   "cell_type": "code",
   "execution_count": 14,
   "metadata": {},
   "outputs": [
    {
     "ename": "TypeError",
     "evalue": "'tuple' object does not support item assignment",
     "output_type": "error",
     "traceback": [
      "\u001b[1;31m---------------------------------------------------------------------------\u001b[0m",
      "\u001b[1;31mTypeError\u001b[0m                                 Traceback (most recent call last)",
      "\u001b[1;32m<ipython-input-14-c5cfd0970a2d>\u001b[0m in \u001b[0;36m<module>\u001b[1;34m\u001b[0m\n\u001b[0;32m      1\u001b[0m \u001b[1;31m#Q9.\u001b[0m\u001b[1;33m\u001b[0m\u001b[1;33m\u001b[0m\u001b[1;33m\u001b[0m\u001b[0m\n\u001b[0;32m      2\u001b[0m \u001b[1;33m\u001b[0m\u001b[0m\n\u001b[1;32m----> 3\u001b[1;33m \u001b[0ma\u001b[0m\u001b[1;33m[\u001b[0m\u001b[1;33m[\u001b[0m\u001b[1;36m1\u001b[0m\u001b[1;33m]\u001b[0m\u001b[1;33m]\u001b[0m \u001b[1;33m=\u001b[0m \u001b[1;34m'python'\u001b[0m\u001b[1;33m\u001b[0m\u001b[1;33m\u001b[0m\u001b[0m\n\u001b[0m\u001b[0;32m      4\u001b[0m \u001b[0ma\u001b[0m\u001b[1;33m\u001b[0m\u001b[1;33m\u001b[0m\u001b[0m\n\u001b[0;32m      5\u001b[0m \u001b[1;33m\u001b[0m\u001b[0m\n",
      "\u001b[1;31mTypeError\u001b[0m: 'tuple' object does not support item assignment"
     ]
    }
   ],
   "source": [
    "#Q9.\n",
    "\n",
    "a[[1]] = 'python'\n",
    "a\n",
    "\n",
    "# dict()는 리스트를 값으로 가져 올수 없음. 3번은 a[[1]]는 리스트 이므로 오류발생."
   ]
  },
  {
   "cell_type": "code",
   "execution_count": 15,
   "metadata": {},
   "outputs": [
    {
     "name": "stdout",
     "output_type": "stream",
     "text": [
      "{'A': 90, 'C': 70}\n",
      "80\n"
     ]
    }
   ],
   "source": [
    "#Q10.\n",
    "\n",
    "a = {'A':90, 'B':80, 'C':70}\n",
    "\n",
    "result = a.pop('B') \n",
    "\n",
    "print(a)\n",
    "print(result)"
   ]
  },
  {
   "cell_type": "code",
   "execution_count": 16,
   "metadata": {},
   "outputs": [
    {
     "name": "stdout",
     "output_type": "stream",
     "text": [
      "[1, 2, 3, 4, 5]\n"
     ]
    }
   ],
   "source": [
    "#Q11.\n",
    "\n",
    "a = [1, 1, 1, 2, 2, 3, 3, 3, 4, 4, 5]\n",
    "\n",
    "aSet= set(a)\n",
    "\n",
    "b = list(aSet)\n",
    "\n",
    "print(b)"
   ]
  },
  {
   "cell_type": "code",
   "execution_count": 17,
   "metadata": {},
   "outputs": [
    {
     "name": "stdout",
     "output_type": "stream",
     "text": [
      "[1, 4, 3]\n"
     ]
    }
   ],
   "source": [
    "#Q12\n",
    "\n",
    "a = b = [1, 2, 3]\n",
    "a[1] = 4\n",
    "print(b)\n",
    "\n",
    "# list()는 2개의 변수에 동일한 객체를 선언 할 수 있으므로 a 와 b 모두 list()형태. list()는 indexing과 데이터 변경이 가능하므로\n",
    "# 1에 위치한 '2' 라는 데이터가 '4 '라는 데이터로 수정됨"
   ]
  }
 ],
 "metadata": {
  "kernelspec": {
   "display_name": "Python 3",
   "language": "python",
   "name": "python3"
  },
  "language_info": {
   "codemirror_mode": {
    "name": "ipython",
    "version": 3
   },
   "file_extension": ".py",
   "mimetype": "text/x-python",
   "name": "python",
   "nbconvert_exporter": "python",
   "pygments_lexer": "ipython3",
   "version": "3.7.6"
  }
 },
 "nbformat": 4,
 "nbformat_minor": 4
}
