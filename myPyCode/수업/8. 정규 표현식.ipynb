{
 "cells": [
  {
   "cell_type": "markdown",
   "metadata": {},
   "source": [
    " - https://docs.python.org/ko/3.8/library/re.html\n",
    "\n",
    "\n",
    "\n",
    "## 1. 반복\n",
    "    - \"*\": 0회 이상 ex) ab* -> a, ab, abb, abbbb: b가 0번 이상 나오는 문자를 찾음 \n",
    "                    ex) lo*l -> ll, lol, lool, loooooool, ......\n",
    "    - \"+\": 1회 이상 ex) ab+ -> ab, abb, abbb, abbbbb,.......\n",
    "    \n",
    "    - \"?\": 0회 또는 1회 ex) ab? -> a, ab\n",
    "    \n",
    "    - {n}: n 번 반복 ex) a{3}bc -> aaabc\n",
    "    \n",
    "    - {n, m} : m회 부터 n회 까지 반복(범위 지정) ex) a{2, 4}bc -> aabc , aaabc, aaaabc\n",
    "    \n",
    "## 2. 매칭 메타문자\n",
    "\n",
    "    - \".\" : 줄바꿈 문자를 제외한 모든 문자와 매치 ex) a.b -> aab, acb, abb, abc, abb (줄바꿈을 제외한 모든 문자가 매칭됨)\n",
    "    \n",
    "    - \"^\" : 문자열의 시작과 매치  ex) a^b -> 무조건 a로 시작하는 문자만 매칭=> a, ab, abc, abcd .........\n",
    "    \n",
    "    - \"$\" : 문자열의 마지막과 매치 ex) a$: 반드시 문자가 a로 끝나야함 => bbbzca, bbbdsda, dddqwrtga\n",
    "    \n",
    "    - [] : 문자 집합 중 한 문자와 매치 ex) [abc]xyz: 대괄호로 묶인 부분은 다 나올수 있고 다 안나오거나 부분적으로 나올수 있음 \n",
    "                                                      -> abcxyz, abxyz, acxyz, axyz, bcxyz........\n",
    "                                           [a-z]bc: a부터z 까지 중 한 문자와 매치 -> abc, bbc, bbc, cbc, dbc,......\n",
    "                                           [a|b]hello: a 나 b 둘 중 하나 -> ahello or bhello\n",
    "                                               a[.]b : a.b\n",
    "                                           [^abc]korea: 이 a문자를 제외 시킴. -> bkorea, ckorea\n",
    "                                           [a^bc]kroea: akorea, ckorea\n",
    "                                           [a-zA-Z0-9]hello: 숫자와 문자 모두 올 수 있음.\n",
    "                                           \n",
    "                                           \n",
    "## 3. 특수문자(\\문자)\n",
    "\n",
    "    - \\d : 모든 숫자와 매치 ex) ab\\d\\dc: ab00c, ab12c.....\n",
    "                                ab[0-9][0-9] 같은 표현\n",
    "                                \n",
    "    - \\D : 숫자가 아닌 문자와 매치\n",
    "   \n",
    "    - \\s : 하나의 공백 문자와 매치\n",
    "    \n",
    "    - \\S : 공백문자가 아닌 모든 것과 매치\n",
    "    \n",
    "    - \\w : 숫자 또는 문자와 매치\n",
    "    \n",
    "    - \\W : 숫자 또는 문자가 아닌 모든 문자\n",
    "    \n",
    "## 4. 파이썬에서 제공하는 객체 또는 메서드\n",
    "\n",
    "    - compile()\n",
    "    - match()\n",
    "    - search()\n",
    "    - split()\n",
    "    - findall()\n",
    "    - finditer()\n",
    "    - sub()\n",
    "    ......."
   ]
  },
  {
   "cell_type": "code",
   "execution_count": null,
   "metadata": {},
   "outputs": [],
   "source": []
  }
 ],
 "metadata": {
  "kernelspec": {
   "display_name": "Python 3",
   "language": "python",
   "name": "python3"
  },
  "language_info": {
   "codemirror_mode": {
    "name": "ipython",
    "version": 3
   },
   "file_extension": ".py",
   "mimetype": "text/x-python",
   "name": "python",
   "nbconvert_exporter": "python",
   "pygments_lexer": "ipython3",
   "version": "3.8.3"
  }
 },
 "nbformat": 4,
 "nbformat_minor": 4
}
