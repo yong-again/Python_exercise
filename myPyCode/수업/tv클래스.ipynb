{
 "cells": [
  {
   "cell_type": "code",
   "execution_count": 1,
   "metadata": {},
   "outputs": [
    {
     "ename": "SyntaxError",
     "evalue": "invalid syntax (<ipython-input-1-89896ca7c742>, line 7)",
     "output_type": "error",
     "traceback": [
      "\u001b[1;36m  File \u001b[1;32m\"<ipython-input-1-89896ca7c742>\"\u001b[1;36m, line \u001b[1;32m7\u001b[0m\n\u001b[1;33m    setsalary =\u001b[0m\n\u001b[1;37m                ^\u001b[0m\n\u001b[1;31mSyntaxError\u001b[0m\u001b[1;31m:\u001b[0m invalid syntax\n"
     ]
    }
   ],
   "source": [
    "class Employee:\n",
    "    id = int()\n",
    "    name = str()\n",
    "    salary = int()\n",
    "    hobby = []\n",
    "    cnt = count() \n",
    "    setsalary = \n",
    "    appendhobby = n\n",
    "    \n",
    "    def display(self):\n",
    "        print(\"사번: \", self.id)\n",
    "        print(\"이름: \", self.name)\n",
    "        print(\"급여:\", self.salary)\n",
    "        print(\"취미: \", self.hobby)\n",
    "        \n",
    "    "
   ]
  },
  {
   "cell_type": "code",
   "execution_count": 96,
   "metadata": {},
   "outputs": [
    {
     "name": "stdout",
     "output_type": "stream",
     "text": [
      "전원이 켜집니다.\n",
      "전원이 꺼집니다.\n"
     ]
    }
   ],
   "source": [
    "import abc\n",
    "\n",
    "class Volume:\n",
    "    vol = 0\n",
    "    powerOn = True\n",
    "    \n",
    "    def volumeup(self, vol):\n",
    "        self.vol += vol\n",
    "        print(\"볼륨의 크기는 %d는 증가하여 현재 볼륨은 %d 입니다.\"%(vol, self.vol))\n",
    "        \n",
    "    def volumedown(self, vol):\n",
    "        self.vol -= vol\n",
    "        print(\"볼륨의 크기는 %d는 감소하여 현재 볼륨은 %d 입니다.\"%(vol, self.vol))\n",
    "    \n",
    "class Power(metaclass=abc.ABCMeta):\n",
    "    powerOn = True\n",
    "    \n",
    "    @abc.abstractclassmethod\n",
    "    def on(self, powerOn):\n",
    "        pass\n",
    "    \n",
    "    @abc.abstractclassmethod\n",
    "    def off(self, powerOn):\n",
    "        pass\n",
    "####################################################################################################\n",
    "class TV(Volume):\n",
    "    \n",
    "    def volumeup(self, vol):\n",
    "        self.vol += vol\n",
    "        print(\"TV 볼륨의 크기는 %d는 증가하여 현재 볼륨은 %d 입니다.\"%(vol, self.vol))\n",
    "        \n",
    "    def volumedown(self, vol):\n",
    "        self.vol -= vol\n",
    "        print(\"TV 볼륨의 크기는 %d는 감소하여 현재 볼륨은 %d 입니다.\"%(vol, self.vol))\n",
    "        \n",
    "    #on-off 구현(다중상속)\n",
    "    def on(self):\n",
    "        self.powerOn \n",
    "        print(\"전원이 켜집니다.\")\n",
    "    \n",
    "    def off(self):\n",
    "        self.powerOn \n",
    "        print(\"전원이 꺼집니다.\")\n",
    "        \n",
    "tv = TV()\n",
    "tv.on()\n",
    "tv.off()"
   ]
  },
  {
   "cell_type": "code",
   "execution_count": 28,
   "metadata": {},
   "outputs": [],
   "source": [
    "# 메뉴선택\n",
    "\n",
    "#기기 선택과 종료키\n",
    "\n",
    "class Choice:\n",
    "    def print_choice():\n",
    "        print(\"1. TV\")\n",
    "        print(\"2. Radio\")\n",
    "        print(\"3. Speaker\")\n",
    "        print(\"4. 종료\")\n",
    "        c1 = input(\"실행할 기기를 선택하세요: \")\n",
    "        return int(c1)\n",
    "    \n",
    "    def run():\n",
    "        while 1:\n",
    "            c2 = print_choice()\n",
    "            \n",
    "            if c2 == 4:\n",
    "                break\n",
    "\n",
    "class menu:\n",
    "    \n",
    "    def print_menu():\n",
    "        print(\"1. 전원\")\n",
    "        print(\"2. 볼륨 조정\")\n",
    "        print(\"3. 나가기\")\n",
    "        m1 = input(\"실행할 메뉴를 고르세요: \")\n",
    "        return int(m1)\n",
    "    \n",
    "    def run2():\n",
    "        while 1:\n",
    "            c3 = print_menu()\n",
    "            if c3 == 3:\n",
    "                break"
   ]
  },
  {
   "cell_type": "code",
   "execution_count": 29,
   "metadata": {},
   "outputs": [
    {
     "name": "stdout",
     "output_type": "stream",
     "text": [
      "1. TV\n",
      "2. Radio\n",
      "3. Speaker\n",
      "4. 종료\n",
      "실행할 기기를 선택하세요: 4\n"
     ]
    },
    {
     "data": {
      "text/plain": [
       "4"
      ]
     },
     "execution_count": 29,
     "metadata": {},
     "output_type": "execute_result"
    }
   ],
   "source": [
    "C = Choice\n",
    "C.print_choice()"
   ]
  },
  {
   "cell_type": "code",
   "execution_count": null,
   "metadata": {},
   "outputs": [],
   "source": [
    "C2 = menu\n",
    "C2.print_menu()"
   ]
  },
  {
   "cell_type": "code",
   "execution_count": null,
   "metadata": {},
   "outputs": [],
   "source": []
  }
 ],
 "metadata": {
  "kernelspec": {
   "display_name": "Python 3",
   "language": "python",
   "name": "python3"
  },
  "language_info": {
   "codemirror_mode": {
    "name": "ipython",
    "version": 3
   },
   "file_extension": ".py",
   "mimetype": "text/x-python",
   "name": "python",
   "nbconvert_exporter": "python",
   "pygments_lexer": "ipython3",
   "version": "3.8.3"
  }
 },
 "nbformat": 4,
 "nbformat_minor": 4
}
