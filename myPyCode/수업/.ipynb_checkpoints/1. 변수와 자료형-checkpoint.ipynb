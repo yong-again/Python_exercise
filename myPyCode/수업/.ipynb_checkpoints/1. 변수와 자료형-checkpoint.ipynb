{
 "cells": [
  {
   "cell_type": "markdown",
   "metadata": {},
   "source": [
    "# 1. 변수의 특징\n",
    "\n",
    "+ 변수의 왼쪽-> 주기억 장치(장소)\n",
    "+ **\"=\"** 은 같다라는 뜻이 아니라 할당(치환, 저장)하는 의미, \n",
    "+ 다른 언어의 경우 int a(변수의 할당) 사용 but 파이썬이 알아서 해줌**(묵시적 선언)**\n",
    "+ 파이썬=**동적 바인딩**, 데이터의 형식은 미리 결정되지 않음. 다른 언어의 경우 따로지정 ex) 정수형->실수형, 문자->정수형\n",
    "+ 한번 저장한 값은 **immutalbe**(수정할 수 없음), a=10 이 아니라 a라는 변수가 메모리 자체 내에 생성된 주소(메모리값)에 지정되어짐\n",
    "* 따라서 'a' 변수는 값이 바뀐 것이 아니라 주소(메모리값)가 변경되는 것임. \n",
    "+ 기존의 메모리 데이터는 'Garbage' 라고 불림(데이터는 메모리에 저장되어 있지만 변수에 주소가 지정되어 있지 않아 출력되지 않음)\n",
    "---"
   ]
  },
  {
   "cell_type": "code",
   "execution_count": 189,
   "metadata": {},
   "outputs": [
    {
     "name": "stdout",
     "output_type": "stream",
     "text": [
      "10\n",
      "3.14\n",
      "가나다\n"
     ]
    }
   ],
   "source": [
    "a = 10\n",
    "print(a)\n",
    "\n",
    "a= 3.14\n",
    "print(a)\n",
    "\n",
    "a = '가나다'\n",
    "print(a)"
   ]
  },
  {
   "cell_type": "markdown",
   "metadata": {},
   "source": [
    "## 2. Data type\n",
    "\n",
    " 2.1 종류(모든 자료형은 자기를 함수로 가지고 있음)\n",
    " \n",
    "   1. 단일자료형: 하나의 데이터를 저장하는 형식\n",
    "     - int: 정수형\n",
    "      - float: 실수형\n",
    "      - bool: 참, 거짓\n",
    "      - **str: 문자열**\n",
    "      - complex: 복소수\n",
    "      - fuction: \n",
    "     \n",
    "   2. 집합자료형 -> 기본(단일)자료형을 한곳에 모아 처리 할 수 있게 도와주는 것\n",
    "     - list\n",
    "     - tuple\n",
    "     - set\n",
    "     - dict\n",
    "     \n",
    "+ 수정 가능성에 따른 분류\n",
    "  - 수정 불가능: int, float, str, bool, tuple\n",
    "  - 수정 가능: list, dict, set"
   ]
  },
  {
   "cell_type": "markdown",
   "metadata": {},
   "source": [
    "---\n",
    "## (1). str"
   ]
  },
  {
   "cell_type": "code",
   "execution_count": 1,
   "metadata": {},
   "outputs": [
    {
     "name": "stdout",
     "output_type": "stream",
     "text": [
      "<class 'int'>\n",
      "<class 'str'>\n"
     ]
    }
   ],
   "source": [
    "a = 10\n",
    "print(type(a))\n",
    "\n",
    "b = '10'\n",
    "print(type(b))"
   ]
  },
  {
   "cell_type": "code",
   "execution_count": 187,
   "metadata": {},
   "outputs": [
    {
     "name": "stdout",
     "output_type": "stream",
     "text": [
      "hello, sweet heart\n",
      "good bye my friends\n"
     ]
    }
   ],
   "source": [
    "a = \"\"\"hello, sweet heart\n",
    "good bye my friends\"\"\"\n",
    "print(a)"
   ]
  },
  {
   "cell_type": "code",
   "execution_count": 45,
   "metadata": {},
   "outputs": [
    {
     "name": "stdout",
     "output_type": "stream",
     "text": [
      "This is python.\n",
      "\n",
      "\n",
      "Just Do it!!\n",
      "현재 시간은 \t\t\t\t\t9시입니다.\n",
      "\"\\t는 탭키의 역할입니다.\"\n"
     ]
    }
   ],
   "source": [
    "#특수 문자(제어문자): 형태-> \\문자 (escape text)\n",
    "a = \"This is python.\\n\\n\\nJust Do it!!\"\n",
    "print(a)\n",
    "\n",
    "a = \"현재 시간은 \\t\\t\\t\\t\\t9시입니다.\"\n",
    "print(a)\n",
    "\n",
    "\n",
    "# \\t는 탭키의 역할입니다.\n",
    "print(\"\\\"\\\\t는 탭키의 역할입니다.\\\"\")\n"
   ]
  },
  {
   "cell_type": "code",
   "execution_count": 57,
   "metadata": {},
   "outputs": [
    {
     "name": "stdout",
     "output_type": "stream",
     "text": [
      "10+2+4+5+6*7\n"
     ]
    }
   ],
   "source": [
    "# \\의 또다른 기능: 줄 바꿈\n",
    "a = \"10+2+4+5\\\n",
    "+6*7\"\n",
    "print(a)"
   ]
  },
  {
   "cell_type": "code",
   "execution_count": 2,
   "metadata": {},
   "outputs": [
    {
     "name": "stdout",
     "output_type": "stream",
     "text": [
      "('python', 'is fun', 'and great')\n",
      "pythonis funand great\n"
     ]
    }
   ],
   "source": [
    "#문자열 연결\n",
    "a = \"python\"\n",
    "b = \"is fun\"\n",
    "c = \"and great\"\n",
    "\n",
    "str1= a, b, c\n",
    "print(str1)\n",
    "\n",
    "str2 = a + b + c\n",
    "print(str2)"
   ]
  },
  {
   "cell_type": "code",
   "execution_count": 63,
   "metadata": {},
   "outputs": [
    {
     "name": "stdout",
     "output_type": "stream",
     "text": [
      "pythonpythonpython\n"
     ]
    }
   ],
   "source": [
    "#문자열 곱하기(같은 문자열 반복)\n",
    "print(a * 3)"
   ]
  },
  {
   "cell_type": "code",
   "execution_count": 66,
   "metadata": {},
   "outputs": [
    {
     "name": "stdout",
     "output_type": "stream",
     "text": [
      "3\n",
      "21\n"
     ]
    }
   ],
   "source": [
    "#문자열의 길이 len()\n",
    "print(len(str1))\n",
    "print(len(str2))"
   ]
  },
  {
   "cell_type": "code",
   "execution_count": 68,
   "metadata": {},
   "outputs": [],
   "source": [
    "# Indexing: [인덱스 번호]\n",
    "a = 'Life is too short, You need Python'"
   ]
  },
  {
   "cell_type": "code",
   "execution_count": 72,
   "metadata": {},
   "outputs": [
    {
     "data": {
      "text/plain": [
       "'e'"
      ]
     },
     "execution_count": 72,
     "metadata": {},
     "output_type": "execute_result"
    }
   ],
   "source": [
    "a[3]"
   ]
  },
  {
   "cell_type": "code",
   "execution_count": 73,
   "metadata": {},
   "outputs": [
    {
     "data": {
      "text/plain": [
       "'o'"
      ]
     },
     "execution_count": 73,
     "metadata": {},
     "output_type": "execute_result"
    }
   ],
   "source": [
    "a[10]"
   ]
  },
  {
   "cell_type": "code",
   "execution_count": 74,
   "metadata": {},
   "outputs": [
    {
     "data": {
      "text/plain": [
       "' '"
      ]
     },
     "execution_count": 74,
     "metadata": {},
     "output_type": "execute_result"
    }
   ],
   "source": [
    "a[11]"
   ]
  },
  {
   "cell_type": "code",
   "execution_count": 75,
   "metadata": {},
   "outputs": [
    {
     "data": {
      "text/plain": [
       "'n'"
      ]
     },
     "execution_count": 75,
     "metadata": {},
     "output_type": "execute_result"
    }
   ],
   "source": [
    "a[-1]"
   ]
  },
  {
   "cell_type": "code",
   "execution_count": 76,
   "metadata": {},
   "outputs": [
    {
     "data": {
      "text/plain": [
       "'o'"
      ]
     },
     "execution_count": 76,
     "metadata": {},
     "output_type": "execute_result"
    }
   ],
   "source": [
    "a[-2]"
   ]
  },
  {
   "cell_type": "code",
   "execution_count": 86,
   "metadata": {},
   "outputs": [
    {
     "name": "stdout",
     "output_type": "stream",
     "text": [
      "Life \n",
      "is too short, You need Python\n",
      "Life is too short, You need Python\n",
      "You need\n",
      "ho\n"
     ]
    }
   ],
   "source": [
    "#slicing: [시작위치:끝위치]\n",
    "a[0:4]\n",
    "a[0:6]\n",
    "print(a[:5])\n",
    "print(a[5:])\n",
    "print(a[:])\n",
    "print(a[19:-7])\n",
    "print(a[-3:-1])"
   ]
  },
  {
   "cell_type": "code",
   "execution_count": 87,
   "metadata": {
    "scrolled": false
   },
   "outputs": [
    {
     "ename": "TypeError",
     "evalue": "'str' object does not support item assignment",
     "output_type": "error",
     "traceback": [
      "\u001b[1;31m---------------------------------------------------------------------------\u001b[0m",
      "\u001b[1;31mTypeError\u001b[0m                                 Traceback (most recent call last)",
      "\u001b[1;32m<ipython-input-87-085c486c29af>\u001b[0m in \u001b[0;36m<module>\u001b[1;34m\u001b[0m\n\u001b[0;32m      1\u001b[0m \u001b[0ma\u001b[0m \u001b[1;33m=\u001b[0m \u001b[1;34m\"pithon\"\u001b[0m\u001b[1;33m\u001b[0m\u001b[1;33m\u001b[0m\u001b[0m\n\u001b[1;32m----> 2\u001b[1;33m \u001b[0ma\u001b[0m\u001b[1;33m[\u001b[0m\u001b[1;36m1\u001b[0m\u001b[1;33m]\u001b[0m \u001b[1;33m=\u001b[0m\u001b[1;34m'Y'\u001b[0m\u001b[1;33m\u001b[0m\u001b[1;33m\u001b[0m\u001b[0m\n\u001b[0m",
      "\u001b[1;31mTypeError\u001b[0m: 'str' object does not support item assignment"
     ]
    }
   ],
   "source": [
    "a = \"pithon\"\n",
    "a[1] ='Y' #기본적으로 데이터값은 수정되지 않는다.(immutable)"
   ]
  },
  {
   "cell_type": "code",
   "execution_count": 97,
   "metadata": {
    "scrolled": false
   },
   "outputs": [
    {
     "name": "stdout",
     "output_type": "stream",
     "text": [
      "Life is too short, You need Python\n",
      "Lf stosot o edPto\n",
      "nohtyP deen uoY ,trohs oot si efiL\n",
      "nt eu rsoseL\n",
      "\n",
      "si efi\n"
     ]
    }
   ],
   "source": [
    "#step : [시작위치: 끝위치: 스텝]\n",
    "\n",
    "a = 'Life is too short, You need Python'\n",
    "print(a[::1])\n",
    "print(a[::2])\n",
    "print(a[::-1])   # 음수는 역순 \n",
    "print(a[::-3])\n",
    "print(a[0:6:-1]) # 값이 출력되지 않음-> why? 역순이기 때문에 시작위치는 끝위치보다 커야함\n",
    "print(a[6:0:-1]) "
   ]
  },
  {
   "cell_type": "code",
   "execution_count": 140,
   "metadata": {},
   "outputs": [
    {
     "name": "stdout",
     "output_type": "stream",
     "text": [
      "23\n",
      "3\n",
      "------------------------------------\n",
      "a,b,c,d,e,f,g\n",
      "------------------------------------\n",
      "['홍길동', ' 홍경래', ' 홍준표', ' 양경업', ' 신돌석']\n",
      "['홍길동', ' 홍경래, 홍준표, 양경업, 신돌석']\n",
      "------------------------------------\n",
      "1 -1\n",
      "21\n",
      "0\n",
      "1\n",
      "------------------------------------\n",
      "            python\n",
      "python\n",
      ",.python\n",
      "python\n",
      "------------------------------------\n",
      "hello, Python\n",
      "------------------------------------\n",
      "일이삼사오육칠팔구\n",
      "1이3사5육칠팔구\n",
      "------------------------------------\n"
     ]
    }
   ],
   "source": [
    "#문자열 관련 함수\n",
    "\n",
    "#count()\n",
    "\n",
    "str1='홍길동, 홍경래, 홍준표, 양경업, 신돌석'\n",
    "print(len(str1))\n",
    "print(str1.count('홍')) #문자열 전용 함수\n",
    "\n",
    "print('------------------------------------')\n",
    "\n",
    "# join()\n",
    "\n",
    "str1 = 'abcdefg'\n",
    "str2 = ','\n",
    "str3 = str2.join(str1)\n",
    "print(str3)\n",
    "\n",
    "print('------------------------------------')\n",
    "\n",
    "# split() -> 한 개의 문자열데이터를 여러개의 문자열데이터로 변환\n",
    "\n",
    "str1='홍길동, 홍경래, 홍준표, 양경업, 신돌석' \n",
    "print(str1.split(','))\n",
    "print(str1.split(',', maxsplit=1))\n",
    "\n",
    "print('------------------------------------')\n",
    "\n",
    "# find(), index() -> 데이터의 존재유무, 위치를 알려줌 \n",
    "# 차이점 데이터의 존재유무에 따라 처리하는 방법이 다름\n",
    "# find()는 -1의 결과값으로 처리하고 index()는 error 처리함.\n",
    "\n",
    "print(str1.find('길'), str1.find('별'))\n",
    "print(str1.find('돌'))\n",
    "print(str1.find('홍'))\n",
    "print(str1.index('길'))# str1.index('별')\n",
    "\n",
    "print('------------------------------------')\n",
    "\n",
    "# lstrip(), rstrip(), strip() ->공백을 지우는 함수,불필요한 문자 제거 가능\n",
    "\n",
    "str1 = '            python'\n",
    "print(str1)\n",
    "print(str1.lstrip())\n",
    "\n",
    "str2 =',.python'\n",
    "print(str2.lstrip('.'))\n",
    "print(str2.lstrip(',.'))\n",
    "\n",
    "print('------------------------------------')\n",
    "\n",
    "# replace(), [maketrans(), translate()] -> 문자열 바꾸기\n",
    "# repalce() -> 한개의 연속된 문자열만 바꿀 수 있음\n",
    "# str.translate(str2.maketrans()) -> 각각 하나의 문자열을 바꿈\n",
    "\n",
    "str1 = \"hello, world\"\n",
    "print(str1.replace(\"world\", \"Python\"))\n",
    "\n",
    "print('------------------------------------')\n",
    "\n",
    "str2= \"일이삼사오육칠팔구\"\n",
    "print(str2.replace(\"일삼오\", \"135\")) #-> 무반응\n",
    "print(str2.translate(str2.maketrans(\"일삼오\", \"135\")))\n",
    "\n",
    "print('------------------------------------')"
   ]
  },
  {
   "cell_type": "code",
   "execution_count": 182,
   "metadata": {},
   "outputs": [
    {
     "name": "stdout",
     "output_type": "stream",
     "text": [
      "현재 온도는 18도 입니다.\n",
      "나눗셈       의 결과: 3/5=0.60 입니다.\n",
      "------------------------------------\n",
      "나눗셈의 결과: 3 / 5 = 0.6 입니다.\n",
      "나눗셈의 결과: 5 / 3 = 1.6666666666666667 입니다.\n",
      "------------------------------------\n",
      "나눗셈의 결과: 3 / 5 = 0.6 입니다.\n",
      "나눗셈의 결과: 3 / 5 = 0.6 입니다.\n",
      "!!!!나눗셈!!!!의 결과: 5 / 3 =  1.67 입니다.\n"
     ]
    }
   ],
   "source": [
    "# 문자열 포매팅: %, format()\n",
    "\n",
    "# %를 이용한 포매팅\n",
    "print(\"현재 온도는 %d도 입니다.\"%18)\n",
    "\n",
    "print(\"%-10s의 결과: %d%c%d=%0.2f 입니다.\"%(\"나눗셈\", 3, \"/\", 5, (3/5)))\n",
    "# %0.2f , %0.3f -> 소수점의 자리수 결정 or %10s, %5s -> 글자수\n",
    "# 양수로 표현시 왼쪽정렬,음수로 표현시 오른쪽 정렬\n",
    "print('------------------------------------')\n",
    "\n",
    "# format()을 이용한 포매팅\n",
    "print(\"나눗셈의 결과: {} / {} = {} 입니다.\".format(3, 5, (3/5)))\n",
    "# 순서는 생략됨\n",
    "\n",
    "print(\"나눗셈의 결과: {1} / {0} = {2} 입니다.\".format(3, 5, (5/3)))\n",
    "print('------------------------------------')\n",
    "\n",
    "print(\"{}의 결과: {} / {} = {} 입니다.\".format(\"나눗셈\", 3, 5, (3/5)))\n",
    "print(\"{title}의 결과: {} / {} = {} 입니다.\".format(3, 5, (3/5), title=\"나눗셈\"))\n",
    "#title 작성시 순서는 상관없음. 변수의 이름만 알면됨\n",
    "\n",
    "print(\"{3:!^11}의 결과: {1} / {0} = {2:5.2f} 입니다.\".format(3, 5, (5/3), \"나눗셈\"))"
   ]
  },
  {
   "cell_type": "code",
   "execution_count": 188,
   "metadata": {},
   "outputs": [
    {
     "data": {
      "text/plain": [
       "'1+2=3'"
      ]
     },
     "execution_count": 188,
     "metadata": {},
     "output_type": "execute_result"
    }
   ],
   "source": [
    "str1 = \"{0}+{1}={2}\"\n",
    "str1.format(1, 2, 1+2)"
   ]
  },
  {
   "cell_type": "markdown",
   "metadata": {},
   "source": [
    "---\n",
    "## (2). List\n",
    "\n",
    "+ `[ ]`를 사용\n",
    "+ 임의에 객체를 순차적으로 저장하는 집합적 자료\n",
    "+ index 사용가능\n",
    "+ 데이터 변경가능"
   ]
  },
  {
   "cell_type": "markdown",
   "metadata": {},
   "source": [
    "#### List 원리\n",
    "\n",
    "+ 데이터 출력원리: stack에는 변수, heap에는 데이터(주소) -> stack 에서 주소를 지정하고 출력\n",
    "+ list를 사용함으로써 stack에서 변수 한개에 여러개의 데이터(주소)를 가질 수 있음  \n",
    "+ 따라서 각각의 변수가 각각의 데이터에 할당 되어 있는 것이 아니라 변수하나에 여러개의 데이터가 할당되어 있어 index를 사용가능케함"
   ]
  },
  {
   "cell_type": "code",
   "execution_count": 18,
   "metadata": {},
   "outputs": [
    {
     "name": "stdout",
     "output_type": "stream",
     "text": [
      "<class 'int'> <class 'list'>\n",
      "10 [10, 11, 12]\n",
      "10 11 12\n",
      "['james', 180, 3.14, True]\n"
     ]
    }
   ],
   "source": [
    "a = 10\n",
    "b = 11\n",
    "c = 12\n",
    "a, b, c = 10, 11, 12\n",
    "\n",
    "list1 =[10, 11,12]\n",
    "\n",
    "print(type(a),type(list1))\n",
    "print(a, list1)\n",
    "\n",
    "print(list1[0], list1[1], list1[2])\n",
    "\n",
    "list2 = ['james', 200, 3.14, True]\n",
    "list2[1] = 180  #index를 통한 데이터 수정\n",
    "print(list2) "
   ]
  },
  {
   "cell_type": "code",
   "execution_count": 26,
   "metadata": {},
   "outputs": [
    {
     "name": "stdout",
     "output_type": "stream",
     "text": [
      "[1, 2, 3, '가', 3.14, ['a', 'b', 'c']]\n",
      "['a', 'b', 'c']\n",
      "b\n",
      "b\n"
     ]
    }
   ],
   "source": [
    "# indexing\n",
    "\n",
    "a = [1,2,3,'가',3.14, ['a','b','c']]\n",
    "print(a)\n",
    "print(a[5])\n",
    "print(a[5][1]) # 이중list의 indexing\n",
    "print(a[-1][1])"
   ]
  },
  {
   "cell_type": "code",
   "execution_count": 114,
   "metadata": {},
   "outputs": [
    {
     "name": "stdout",
     "output_type": "stream",
     "text": [
      "[10, 2, 3, 4, 5]\n",
      "[10, 2, 3, 4, 5]\n",
      "===============================================================================================\n",
      "[1, 2, 3, 4, 5]\n",
      "[10, 2, 3, 4, 5]\n",
      "True\n",
      "False\n"
     ]
    }
   ],
   "source": [
    "#### 복사(얕은 복사, 깊은 복사)\n",
    "#### 얕은 복사: 데이터는 한개, 주소값만 복사\n",
    "#### 깊은 복사: 같은 데이터를 복사\n",
    "\n",
    "a =[1,2,3,4,5]  #shallow copy\n",
    "b = a\n",
    "b[0]= 10\n",
    "print(a)\n",
    "print(b)\n",
    "\n",
    "print('===============================================================================================')\n",
    "\n",
    "a1 = [1,2,3,4,5] #deep copy\n",
    "b1 = a[:]\n",
    "b[0] = 10\n",
    "print(a1)\n",
    "print(b1)\n",
    "\n",
    "print(a is b)\n",
    "print(a1 is b1)\n"
   ]
  },
  {
   "cell_type": "code",
   "execution_count": 76,
   "metadata": {},
   "outputs": [
    {
     "name": "stdout",
     "output_type": "stream",
     "text": [
      "<class 'list'> <class 'list'> <class 'list'>\n",
      "===============================================================================================\n",
      "10\n",
      "<class 'int'>\n",
      "10 <class 'str'>\n",
      "===============================================================================================\n",
      "[0, 1, 2, 3]\n",
      "[0, 1, 2, 3, 4, 5, 6, 7, 8, 9]\n",
      "[5, 6, 7, 8, 9, 10, 11]\n",
      "[10, 9, 8, 7, 6, 5, 4, 3, 2, 1]\n"
     ]
    }
   ],
   "source": [
    "# list 생성\n",
    "a = [] # a=list()와 같은 의미\n",
    "a1 = list()\n",
    "a2 = [1,2,3]\n",
    "print(type(a),type(a1),type(a2))\n",
    "\n",
    "print('===============================================================================================')\n",
    "\n",
    "int1 = int()     # 모든 data type은 자기 자신을 함수로 가지고 있음, 형식 변환에도 사용가능\n",
    "float1 = float()\n",
    "str1 = str()\n",
    "bool1 = bool()\n",
    "\n",
    "int2 = int(\"10\") # 문자열로 데이터를 입력 하였지만 int()로 출력함으로써 형식이 변환됨.\n",
    "print(int2)\n",
    "print(type(int2))\n",
    "\n",
    "str2 = str(int2) \n",
    "print(str2, type(str2))\n",
    "\n",
    "print('===============================================================================================')\n",
    "\n",
    "my_list = list([0,1,2,3])\n",
    "print(my_list)\n",
    "\n",
    "my_list2 = list(range(10)) #range(): ( )만큼의 데이터를 자동적으로 만들어줌\n",
    "print(my_list2)\n",
    "\n",
    "my_list3 = list(range(5,12))\n",
    "print(my_list3)\n",
    "\n",
    "my_list4 = list(range(10,0,-1)) #range(start, end, step)\n",
    "print(my_list4)"
   ]
  },
  {
   "cell_type": "code",
   "execution_count": 238,
   "metadata": {},
   "outputs": [
    {
     "ename": "SyntaxError",
     "evalue": "invalid syntax (<ipython-input-238-2d8fbda805b9>, line 7)",
     "output_type": "error",
     "traceback": [
      "\u001b[1;36m  File \u001b[1;32m\"<ipython-input-238-2d8fbda805b9>\"\u001b[1;36m, line \u001b[1;32m7\u001b[0m\n\u001b[1;33m    print(stra{})\u001b[0m\n\u001b[1;37m              ^\u001b[0m\n\u001b[1;31mSyntaxError\u001b[0m\u001b[1;31m:\u001b[0m invalid syntax\n"
     ]
    }
   ],
   "source": [
    "# list연산 기능(연결의 기능) # +: (),() 연결 , *: ()만큼 반복\n",
    "a = [1,2,3]\n",
    "b = [4,5,6]\n",
    "print(a+b)\n",
    "print(a*3)\n",
    "#print(a[1]+\"hi\")  # 형식이 다르기 때문에 오류 발생\n",
    "print(stra{})"
   ]
  },
  {
   "cell_type": "code",
   "execution_count": 100,
   "metadata": {},
   "outputs": [
    {
     "name": "stdout",
     "output_type": "stream",
     "text": [
      "[1, 2, 3]\n",
      "[0, 1, 2, 3]\n",
      "[0, 1, 2, 3, 4]\n",
      "[0, 1, 2, 3, 4, 5, 6, 7, 8]\n",
      "[0, 1, 2, 3, 4, 5, 6, 7, 8, [9, 10, 11]]\n"
     ]
    }
   ],
   "source": [
    "# data 추가: insert() -> 위치를 지정, [append(), extend()] -> 무조건 뒤쪽\n",
    "\n",
    "pac1 = [1,2,3]\n",
    "print(pac1)\n",
    "pac1.insert(0,0) #insert(추가할 위치, 추가할 데이터)\n",
    "print(pac1)\n",
    "\n",
    "pac1.append(4)\n",
    "print(pac1)\n",
    "\n",
    "pac1.extend([5,6,7,8]) #데이터를 반드시 한개 이상 추가\n",
    "print(pac1)\n",
    "\n",
    "pac1.append([9, 10, 11])\n",
    "print(pac1)"
   ]
  },
  {
   "cell_type": "code",
   "execution_count": 111,
   "metadata": {},
   "outputs": [
    {
     "name": "stdout",
     "output_type": "stream",
     "text": [
      "[1, 2, 3, 4]\n",
      "[4, 3, 2, 1]\n"
     ]
    }
   ],
   "source": [
    "# 정렬\n",
    "pac2 = [1,4,3,2]\n",
    "pac2.sort() #원본heap에 영향\n",
    "print(pac2)\n",
    "\n",
    "#print(sorted(pac2)) #원본에 영향을 주지 않음, 별도에 다른 heap에 보관\n",
    "#print(pac2)\n",
    "\n",
    "pac2.reverse()\n",
    "print(pac2)"
   ]
  },
  {
   "cell_type": "code",
   "execution_count": 132,
   "metadata": {},
   "outputs": [
    {
     "name": "stdout",
     "output_type": "stream",
     "text": [
      "[1, 1, 2, 3]\n",
      "===============================================================================================\n",
      "[1, 2, 1, 2, 3]\n",
      "===============================================================================================\n",
      "[1, 2, 1, 2]\n",
      "===============================================================================================\n",
      "[1, 2] 3\n",
      "[1] 2\n"
     ]
    }
   ],
   "source": [
    "# 제거\n",
    "data1 = [1,2,3,1,2,3]\n",
    "data1[1:3] = []\n",
    "print(data1)\n",
    "\n",
    "print('===============================================================================================')\n",
    "\n",
    "# 값을 찾아서 삭제\n",
    "data2 = [1,2,3,1,2,3]\n",
    "data2.remove(3)  \n",
    "print(data2)\n",
    "\n",
    "print('===============================================================================================')\n",
    "\n",
    "#위치 지정후 삭제\n",
    "del data2[4]\n",
    "print(data2)\n",
    "\n",
    "print('===============================================================================================')\n",
    "\n",
    "\n",
    "#del data2 #변수 자체를 삭제\n",
    "#print(data2)\n",
    "\n",
    "data2 =[1,2,3] #끝에 있는 데이터만 삭제(꺼내옴)\n",
    "b = data2.pop()\n",
    "print(data2,b)\n",
    "b2 = data2.pop()\n",
    "print(data2, b2)\n"
   ]
  },
  {
   "cell_type": "markdown",
   "metadata": {},
   "source": [
    "###### cf. stack and heap\n",
    "\n",
    "+ stack = LIFO구조, push는 데이터 입력, pop을 통한 추출"
   ]
  },
  {
   "cell_type": "code",
   "execution_count": 134,
   "metadata": {},
   "outputs": [
    {
     "name": "stdout",
     "output_type": "stream",
     "text": [
      "True\n",
      "False\n"
     ]
    }
   ],
   "source": [
    "###검색 기능\n",
    "\n",
    "data3 = [1,2,3,4,5]\n",
    "\n",
    "print(2 in data3)  #있는지 없는지에 대한 bool형\n",
    "print(20 in data3)"
   ]
  },
  {
   "cell_type": "markdown",
   "metadata": {},
   "source": [
    "---\n",
    "## (3). tuple\n",
    "\n",
    "+ list와 유사\n",
    "+ tuple은 ()를 사용\n",
    "+ **요소값 변경불가(immutable)**\n"
   ]
  },
  {
   "cell_type": "code",
   "execution_count": 139,
   "metadata": {},
   "outputs": [
    {
     "name": "stdout",
     "output_type": "stream",
     "text": [
      "('a', 'b', 'c', 'd') <class 'tuple'>\n",
      "4\n",
      "1\n",
      "1\n"
     ]
    }
   ],
   "source": [
    "data4 = ('a','b','c','d')\n",
    "print(data4, type(data4))\n",
    "print(len(data4))\n",
    "print(data4.count('c'))\n",
    "print(data4.index('b'))"
   ]
  },
  {
   "cell_type": "code",
   "execution_count": 142,
   "metadata": {
    "scrolled": true
   },
   "outputs": [
    {
     "ename": "TypeError",
     "evalue": "'tuple' object does not support item assignment",
     "output_type": "error",
     "traceback": [
      "\u001b[1;31m---------------------------------------------------------------------------\u001b[0m",
      "\u001b[1;31mTypeError\u001b[0m                                 Traceback (most recent call last)",
      "\u001b[1;32m<ipython-input-142-e8c32d6e93e6>\u001b[0m in \u001b[0;36m<module>\u001b[1;34m\u001b[0m\n\u001b[1;32m----> 1\u001b[1;33m \u001b[0mdata4\u001b[0m\u001b[1;33m[\u001b[0m\u001b[1;36m1\u001b[0m\u001b[1;33m]\u001b[0m \u001b[1;33m=\u001b[0m \u001b[1;36m10\u001b[0m \u001b[1;31m#수정안됨\u001b[0m\u001b[1;33m\u001b[0m\u001b[1;33m\u001b[0m\u001b[0m\n\u001b[0m",
      "\u001b[1;31mTypeError\u001b[0m: 'tuple' object does not support item assignment"
     ]
    }
   ],
   "source": [
    "data4[1] = 10 #수정안됨"
   ]
  },
  {
   "cell_type": "code",
   "execution_count": 144,
   "metadata": {},
   "outputs": [
    {
     "name": "stdout",
     "output_type": "stream",
     "text": [
      "['a', 10, 'c', 'd']\n",
      "<class 'tuple'>\n",
      "('a', 10, 'c', 'd')\n"
     ]
    }
   ],
   "source": [
    "# tuple 수정\n",
    "list2 = list(data4)\n",
    "list2[1] = 10\n",
    "print(list2)\n",
    "\n",
    "tuple1 = tuple(list2)\n",
    "print(type(tuple1))\n",
    "print(tuple1)"
   ]
  },
  {
   "cell_type": "code",
   "execution_count": 149,
   "metadata": {},
   "outputs": [
    {
     "name": "stdout",
     "output_type": "stream",
     "text": [
      "(10, 20, 30) <class 'tuple'>\n",
      "10 20 30\n"
     ]
    }
   ],
   "source": [
    "# pakcing, unpacking \n",
    "#pakcing은 기본값으로 tuple로 -> 데이터를 안전하게 보관하기 위해\n",
    "\n",
    "a = 10, 20, 30  #packing\n",
    "print(a, type(a))\n",
    "\n",
    "a1, a2, a3 = a  #unpacking\n",
    "print(a1,a2,a3)\n",
    " "
   ]
  },
  {
   "cell_type": "markdown",
   "metadata": {},
   "source": [
    "***\n",
    "## (4). dict(dictionary)\n",
    "\n",
    "+ 순서X(index를 사용할 수 없음)(not sequential)\n",
    "+ list 나 tuple은 순차적으로 데이터를 요구\n",
    "+ dict는 key를 통해 value를 얻음\n",
    "+ 형태:{key,value}\n"
   ]
  },
  {
   "cell_type": "code",
   "execution_count": 153,
   "metadata": {},
   "outputs": [
    {
     "name": "stdout",
     "output_type": "stream",
     "text": [
      "{'name': '홍길동', 'phone': '111-1111', 'age': 25} <class 'dict'>\n"
     ]
    }
   ],
   "source": [
    "dict1 = {'name':'홍길동', 'phone': '111-1111', 'age':25}\n",
    "print(dict1, type(dict1))"
   ]
  },
  {
   "cell_type": "code",
   "execution_count": 159,
   "metadata": {},
   "outputs": [
    {
     "name": "stdout",
     "output_type": "stream",
     "text": [
      "홍길동 111-1111 25\n",
      "홍길동 111-1111 25\n"
     ]
    }
   ],
   "source": [
    "print(dict1['name'], dict1['phone'], dict1['age'])\n",
    "print(dict1.get('name'), dict1.get('phone'), dict1.get('age'))"
   ]
  },
  {
   "cell_type": "code",
   "execution_count": 164,
   "metadata": {},
   "outputs": [
    {
     "name": "stdout",
     "output_type": "stream",
     "text": [
      "dict_keys(['name', 'phone', 'age'])\n",
      "dict_values(['홍길동', '111-1111', 25])\n",
      "dict_items([('name', '홍길동'), ('phone', '111-1111'), ('age', 25)])\n"
     ]
    }
   ],
   "source": [
    "# list로 묶은뒤 tuple로 가져옴\n",
    "print(dict1.keys()) \n",
    "print(dict1.values())\n",
    "print(dict1.items()) # 각각의 값을 tuple->list로 가져옴"
   ]
  },
  {
   "cell_type": "code",
   "execution_count": 172,
   "metadata": {},
   "outputs": [
    {
     "name": "stdout",
     "output_type": "stream",
     "text": [
      "dict_items([('name', '홍길동'), ('phone', '111-1111'), ('age', 25)]) <class 'dict_items'>\n",
      "===============================================================================================\n",
      "[('name', '홍길동'), ('phone', '111-1111'), ('age', 25)]\n",
      "('name', '홍길동')\n"
     ]
    }
   ],
   "source": [
    "data2 = dict1.items()\n",
    "print(data2, type(data2))\n",
    "\n",
    "print('===============================================================================================')\n",
    "\n",
    "list1 = list(data2) # list로 변환\n",
    "print(list1)\n",
    "print(list1[0])"
   ]
  },
  {
   "cell_type": "code",
   "execution_count": 173,
   "metadata": {},
   "outputs": [
    {
     "name": "stdout",
     "output_type": "stream",
     "text": [
      "{'name': '임꺽정', 'phone': '111-1111', 'age': 25}\n"
     ]
    }
   ],
   "source": [
    "# dict 수정\n",
    "\n",
    "dict1['name'] = '임꺽정'\n",
    "print(dict1)"
   ]
  },
  {
   "cell_type": "code",
   "execution_count": 184,
   "metadata": {},
   "outputs": [
    {
     "name": "stdout",
     "output_type": "stream",
     "text": [
      "{'hobby': ['낚시', '여행']}\n"
     ]
    }
   ],
   "source": [
    "# dict 추가\n",
    "\n",
    "dict1['hobby']=['낚시','여행']\n",
    "print(dict1)"
   ]
  },
  {
   "cell_type": "code",
   "execution_count": 181,
   "metadata": {},
   "outputs": [
    {
     "name": "stdout",
     "output_type": "stream",
     "text": [
      "{'name': '임꺽정', 'phone': '111-1111', 'age': 25}\n"
     ]
    }
   ],
   "source": [
    "# dict 삭제\n",
    "del dict1['hobby']\n",
    "print(dict1)"
   ]
  },
  {
   "cell_type": "code",
   "execution_count": 182,
   "metadata": {},
   "outputs": [
    {
     "name": "stdout",
     "output_type": "stream",
     "text": [
      "{}\n"
     ]
    }
   ],
   "source": [
    "dict1.clear()\n",
    "print(dict1)"
   ]
  },
  {
   "cell_type": "markdown",
   "metadata": {},
   "source": [
    "## (5). set\n",
    "\n",
    "+ { } 사용 -> 하나의 데이터\n",
    "+ 순서가 없음(index 사용 불가)\n",
    "+ 중복불가\n"
   ]
  },
  {
   "cell_type": "code",
   "execution_count": 200,
   "metadata": {},
   "outputs": [
    {
     "name": "stdout",
     "output_type": "stream",
     "text": [
      "{1, 2, 3} <class 'set'>\n",
      "3\n",
      "===============================================================================================\n",
      "[1, 2, 3] <class 'list'>\n",
      "1\n",
      "===============================================================================================\n",
      "{1, 2, 3} <class 'set'>\n"
     ]
    }
   ],
   "source": [
    "set1 = {1,2,3,1}\n",
    "print(set1, type(set1))\n",
    "print(len(set1))\n",
    "\n",
    "print('===============================================================================================')\n",
    "\n",
    "list1 = list(set1) # list로 변환\n",
    "print(list1,type(list1))\n",
    "print(list1[0])\n",
    "\n",
    "print('===============================================================================================')\n",
    "\n",
    "set_1 = set(list1) # set로 변환\n",
    "print(set_1, type(set_1))"
   ]
  },
  {
   "cell_type": "code",
   "execution_count": 189,
   "metadata": {},
   "outputs": [
    {
     "ename": "TypeError",
     "evalue": "'set' object is not subscriptable",
     "output_type": "error",
     "traceback": [
      "\u001b[1;31m---------------------------------------------------------------------------\u001b[0m",
      "\u001b[1;31mTypeError\u001b[0m                                 Traceback (most recent call last)",
      "\u001b[1;32m<ipython-input-189-190b5477ff03>\u001b[0m in \u001b[0;36m<module>\u001b[1;34m\u001b[0m\n\u001b[1;32m----> 1\u001b[1;33m \u001b[0mprint\u001b[0m\u001b[1;33m(\u001b[0m\u001b[0mset1\u001b[0m\u001b[1;33m[\u001b[0m\u001b[1;36m0\u001b[0m\u001b[1;33m]\u001b[0m\u001b[1;33m)\u001b[0m \u001b[1;31m#indexing 사용 불가\u001b[0m\u001b[1;33m\u001b[0m\u001b[1;33m\u001b[0m\u001b[0m\n\u001b[0m",
      "\u001b[1;31mTypeError\u001b[0m: 'set' object is not subscriptable"
     ]
    }
   ],
   "source": [
    "print(set1[0]) # indexing 사용 불가"
   ]
  },
  {
   "cell_type": "code",
   "execution_count": 207,
   "metadata": {},
   "outputs": [
    {
     "name": "stdout",
     "output_type": "stream",
     "text": [
      "{4, 5, 6}\n",
      "{4, 5, 6}\n",
      "{1, 2, 3, 4, 5, 6, 7, 8, 9}\n",
      "{1, 2, 3, 4, 5, 6, 7, 8, 9}\n",
      "{1, 2, 3}\n",
      "{1, 2, 3}\n"
     ]
    }
   ],
   "source": [
    "s1 = {1,2,3,4,5,6}\n",
    "s2 = {4,5,6,7,8,9}\n",
    "\n",
    "# 교집합\n",
    "print(s1 & s2)\n",
    "print(s1.intersection(s2))\n",
    "\n",
    "# 합집합\n",
    "print(s1|s2)\n",
    "print(s1.union(s2))\n",
    "\n",
    "# 차집합\n",
    "print(s1-s2)\n",
    "print(s1.difference(s2))"
   ]
  },
  {
   "cell_type": "code",
   "execution_count": 215,
   "metadata": {},
   "outputs": [
    {
     "name": "stdout",
     "output_type": "stream",
     "text": [
      "{1, 2, 3, 4, 5, 6, 7, 8, 10}\n",
      "{1, 2, 3, 4, 5, 6, 7, 8, 10}\n",
      "{1, 2, 3, 4, 5, 6, 7, 10}\n",
      "{1, 2, 3, 4, 5, 6, 7, 10}\n"
     ]
    }
   ],
   "source": [
    "# 관련 함수\n",
    "\n",
    "## 여러 개 추가\n",
    "s1.update({7,8})\n",
    "print(s1)\n",
    "\n",
    "## 한 개 추가\n",
    "s1.add(10)\n",
    "print(s1)\n",
    "\n",
    "## 제거\n",
    "s1.remove(8)\n",
    "print(s1)\n",
    "\n",
    "s1.discard(8)\n",
    "print(s1)\n",
    "\n",
    "#s1.remove(9)\n",
    "s1.discard(9) "
   ]
  },
  {
   "cell_type": "code",
   "execution_count": 221,
   "metadata": {},
   "outputs": [
    {
     "name": "stdout",
     "output_type": "stream",
     "text": [
      "[1, 2, 3, 4]\n"
     ]
    }
   ],
   "source": [
    "a = [1,2,3,4,4,2]\n",
    "b = set(a)\n",
    "c = list(b)\n",
    "print(c)"
   ]
  },
  {
   "cell_type": "markdown",
   "metadata": {},
   "source": [
    "---\n",
    "# 3. Operator   \n",
    "\n",
    "    1) 산술연산자\n",
    "    \n",
    "        *, / , +, -, %(나머지만), %%(몫), **(거듭제곱)\n",
    "    \n",
    "    2) 비교연산자\n",
    "    \n",
    "        >, <, >=, <=, ==(같음), !=(같지않음)\n",
    "        \n",
    "    3) 논리 연산자(단락 회로 -> 불필요한 연산을 줄임)\n",
    "    \n",
    "        and, or, not(단항 연산자, 토글연산자)\n",
    "        \n",
    "        x y  x and y  x or y  not x  x^y\n",
    "        ----------------------------------\n",
    "        T T     T       T      F      F\n",
    "        T F     F       T      F      T\n",
    "        F T     F       T      T      T\n",
    "        F F     F       F      T      F\n",
    "     \n",
    "    4) 대입(치환, 할당) 연산자\n",
    "         \n",
    "         =, +=, -=, *=, /=, ......\n",
    "         \n",
    "         1) -> 2) -> 3) -> 4) => 연산의 우선순위\n",
    "         \n",
    "  **우선순위를 암기보단 ( ) 애용**\n",
    "  \n",
    "==================================================\n",
    "    \n",
    "    5) 포함여부 연산자\n",
    "    \n",
    "        in, not in\n",
    "    \n",
    "    6) 비트 연산자(이진수로 처리, 기계가 처리 용이, 진법변환)\n",
    "        \n",
    "        &(and), |(or), ^(xor), ~, >>, << \n",
    "        \n",
    "            ^(xor): 서로 다를 때만 True(exclusive or 축약- >xor), 암호화/복호화를 할때 많이 쓰임\n",
    "            \n",
    "            ex)    A                     B\n",
    "               10110101              01100110\n",
    "              ^11010011(key)        ^11010011\n",
    "              ----------            ---------\n",
    "               01100110              10110101\n",
    "        \n",
    "    \n",
    "        \n",
    "    "
   ]
  },
  {
   "cell_type": "code",
   "execution_count": 228,
   "metadata": {},
   "outputs": [
    {
     "name": "stdout",
     "output_type": "stream",
     "text": [
      "3\n",
      "9\n"
     ]
    }
   ],
   "source": [
    "# 대입 연산자\n",
    "\n",
    "a = 1\n",
    "a = 5\n",
    "a = 3\n",
    "print(3)\n",
    "\n",
    "b = 1\n",
    "b += 5  # b= b+5 라는 의미\n",
    "b += 3\n",
    "print(b)"
   ]
  },
  {
   "cell_type": "code",
   "execution_count": 232,
   "metadata": {},
   "outputs": [
    {
     "name": "stdout",
     "output_type": "stream",
     "text": [
      "False\n",
      "False\n",
      "6\n",
      "4\n"
     ]
    }
   ],
   "source": [
    "# 비트 연산자\n",
    "\n",
    "print(12<5 and 6>3)\n",
    "print(12<5 & 6>3)\n",
    "\n",
    "print(12 and 6)\n",
    "print(12 & 6) # 이진수 변환 12: 01100 , 6: 00100 -> 01100 & 00100 => 00100 => 십진수 변환 => 4"
   ]
  },
  {
   "cell_type": "code",
   "execution_count": 235,
   "metadata": {
    "scrolled": true
   },
   "outputs": [
    {
     "name": "stdout",
     "output_type": "stream",
     "text": [
      "35402823\n",
      "648723\n"
     ]
    }
   ],
   "source": [
    "password = 648723\n",
    "key = 34984532\n",
    "\n",
    "encode = password ^ key\n",
    "print(encode)  #암호화된 값\n",
    "\n",
    "encode1 = encode ^ key\n",
    "print(encode1)"
   ]
  },
  {
   "cell_type": "code",
   "execution_count": null,
   "metadata": {},
   "outputs": [],
   "source": []
  }
 ],
 "metadata": {
  "kernelspec": {
   "display_name": "Python 3",
   "language": "python",
   "name": "python3"
  },
  "language_info": {
   "codemirror_mode": {
    "name": "ipython",
    "version": 3
   },
   "file_extension": ".py",
   "mimetype": "text/x-python",
   "name": "python",
   "nbconvert_exporter": "python",
   "pygments_lexer": "ipython3",
   "version": "3.7.6"
  }
 },
 "nbformat": 4,
 "nbformat_minor": 4
}
