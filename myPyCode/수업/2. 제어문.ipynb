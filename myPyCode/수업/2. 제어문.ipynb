{
 "cells": [
  {
   "cell_type": "markdown",
   "metadata": {},
   "source": [
    "# 1. 입력기능"
   ]
  },
  {
   "cell_type": "code",
   "execution_count": 3,
   "metadata": {
    "scrolled": false
   },
   "outputs": [
    {
     "name": "stdout",
     "output_type": "stream",
     "text": [
      "당신의 이름은?메오우\n",
      "안녕하세요 메오우님 어서오세요\n"
     ]
    }
   ],
   "source": [
    "name = input(\"당신의 이름은?\")\n",
    "print(\"안녕하세요 {}님 어서오세요\".format(name))"
   ]
  },
  {
   "cell_type": "code",
   "execution_count": 38,
   "metadata": {},
   "outputs": [
    {
     "name": "stdout",
     "output_type": "stream",
     "text": [
      "첫번째 숫자:1\n",
      "두번째 숫자:2\n",
      "결과: 3\n"
     ]
    }
   ],
   "source": [
    "num1 = int(input(\"첫번째 숫자:\"))\n",
    "num2 = int(input(\"두번째 숫자:\"))\n",
    "print(\"결과:\", num1 + num2)"
   ]
  },
  {
   "cell_type": "code",
   "execution_count": 20,
   "metadata": {},
   "outputs": [
    {
     "name": "stdout",
     "output_type": "stream",
     "text": [
      "숫자 두개를 입력하세요:100,200\n",
      "결과: 300\n"
     ]
    }
   ],
   "source": [
    "num1, num2 = map(int,input(\"숫자 두개를 입력하세요:\").split(','))\n",
    "print(\"결과:\",num1+num2)"
   ]
  },
  {
   "cell_type": "markdown",
   "metadata": {},
   "source": [
    "***\n",
    "####동전 교환 프로그램\n",
    "\n",
    "================\n",
    "\n",
    "교환할 돈은 얼마입니까? 2763\n",
    "\n",
    "결과:\n",
    "오백원짜리\n",
    "백원짜리\n",
    "오십원짜리\n",
    "십원짜리\n",
    "나머지못한잔돈"
   ]
  },
  {
   "cell_type": "code",
   "execution_count": 25,
   "metadata": {},
   "outputs": [
    {
     "name": "stdout",
     "output_type": "stream",
     "text": [
      "교환할 돈은 얼마?:2763\n",
      "오백원: 5개\n",
      "백원: 2개\n",
      "십원: 6개\n",
      "잔돈: 63원\n"
     ]
    }
   ],
   "source": [
    "# 변수\n",
    "\n",
    "money = 0\n",
    "\n",
    "money = int(input(\"교환할 돈은 얼마?:\")) #정수형 자료로 변환\n",
    "\n",
    "a500 = money//500  # 몫만 출력\n",
    "money %= 500       # = money%500\n",
    "\n",
    "a100 = money//100\n",
    "money %= 100\n",
    "\n",
    "a50 = money//50\n",
    "\n",
    "a10 = money//10\n",
    "\n",
    "# 결과\n",
    "\n",
    "print('500원: %d개' %a500)  #formating을 이용한 갯수 구하기\n",
    "print('100원: %d개'%a100)\n",
    "print('10원: %d개' %a10)\n",
    "print('잔돈: %d원'%money)\n"
   ]
  },
  {
   "cell_type": "markdown",
   "metadata": {},
   "source": [
    "# 2. 제어문\n",
    "\n",
    "1) 조건문\n",
    "\n",
    "    - if(항상 조건이 참이라면..)\n",
    "        \n",
    "       +if 조건식:\n",
    "             Code1\n",
    "             code2\n",
    "             code3\n",
    "       +else:\n",
    "            code4\n",
    "            cod\n",
    "        \n",
    "        \n",
    "        if 조건식: code1 code2\n",
    "\n",
    "                                         \n",
    "         if 조건문:\n",
    "             code\n",
    "          elif 조건문:\n",
    "             code\n",
    "          else:\n",
    "             code\n",
    "         \n",
    "\n",
    "\n",
    "2) 반복문\n",
    "\n",
    "    - while\n",
    "    \n",
    "    - for\n",
    "        \n",
    "3) 조건문의 중첩(nested)\n",
    "     \n",
    "     if 조건식:\n",
    "         code\n",
    "             if 조건식:\n",
    "                 code\n",
    "                     if 조건식:\n",
    "                         code\n"
   ]
  },
  {
   "cell_type": "markdown",
   "metadata": {},
   "source": [
    "## 1. IF"
   ]
  },
  {
   "cell_type": "code",
   "execution_count": 7,
   "metadata": {},
   "outputs": [
    {
     "name": "stdout",
     "output_type": "stream",
     "text": [
      "정수 x =13\n",
      "홀수\n"
     ]
    }
   ],
   "source": [
    "# 입력받은 숫자가 짝수인지 홀수 인지?\n",
    "\n",
    "x = int(input(\"정수 x =\"))\n",
    "    \n",
    "if (x %2 == 1):\n",
    "    print(\"홀수\")\n",
    "        \n",
    "else:\n",
    "    print(\"짝수\")"
   ]
  },
  {
   "cell_type": "code",
   "execution_count": null,
   "metadata": {},
   "outputs": [],
   "source": []
  },
  {
   "cell_type": "code",
   "execution_count": 19,
   "metadata": {
    "scrolled": true
   },
   "outputs": [
    {
     "name": "stdout",
     "output_type": "stream",
     "text": [
      "숫자:13\n",
      "홀수\n"
     ]
    }
   ],
   "source": [
    "num1 = int(input(\"숫자:\"))\n",
    "\n",
    "if (num1 % 2 == 0):\n",
    "    print(\"짝수\")\n",
    "    \n",
    "else:\n",
    "    print(\"홀수\")"
   ]
  },
  {
   "cell_type": "markdown",
   "metadata": {},
   "source": [
    "cf. 순서도에 따라 데이터 먼저 입력(알고리즘의 이해)"
   ]
  },
  {
   "cell_type": "code",
   "execution_count": 32,
   "metadata": {},
   "outputs": [
    {
     "name": "stdout",
     "output_type": "stream",
     "text": [
      "값:a\n",
      "정답\n"
     ]
    }
   ],
   "source": [
    "# 입력 받은 값이 a,b,c,d,이면 답\" 출력, 아니면 \"오답\"으로 출력\n",
    "#list() 이용\n",
    "\n",
    "x = input('값:')\n",
    "if x in ['a','b','c','d']:\n",
    "    print(\"정답\")\n",
    "else:\n",
    "    print(\"오답\")"
   ]
  },
  {
   "cell_type": "code",
   "execution_count": 37,
   "metadata": {
    "scrolled": true
   },
   "outputs": [
    {
     "name": "stdout",
     "output_type": "stream",
     "text": [
      "답:a\n",
      "정답\n"
     ]
    }
   ],
   "source": [
    "#count()를 이용\n",
    "\n",
    "ans = input(\"답:\")\n",
    "text = ['a','b','c','d']\n",
    "\n",
    "\n",
    "if text.count(ans) == 1:\n",
    "    print(\"정답\")\n",
    "else:\n",
    "    print(\"오답\")\n"
   ]
  },
  {
   "cell_type": "code",
   "execution_count": 40,
   "metadata": {},
   "outputs": [
    {
     "name": "stdout",
     "output_type": "stream",
     "text": [
      "답:a\n",
      "정답\n"
     ]
    }
   ],
   "source": [
    "ans = input(\"답:\")\n",
    "text = ['a','b','c','d']\n",
    "\n",
    "\n",
    "if text.count(ans) != 0:\n",
    "    print(\"정답\")\n",
    "else:\n",
    "    print(\"오답\")"
   ]
  },
  {
   "cell_type": "markdown",
   "metadata": {},
   "source": [
    "cf. ##### 클라우드 \n",
    "+ SaaS: 소프트웨어 서비스(MS오피스, Goolge 문서도구)\n",
    "+ PaaS: google colab\n",
    "+ IaaS: 인프라가 모두 설치되어 \n",
    "\n",
    "---\n",
    "ASC2 코드: 이진수를 십진수로 변환하여 사용할 수 있게 하는 코드, 128개의 문자가 등록, 문자를 통해 대소 비교가 가능해짐\n"
   ]
  },
  {
   "cell_type": "code",
   "execution_count": 41,
   "metadata": {},
   "outputs": [
    {
     "name": "stdout",
     "output_type": "stream",
     "text": [
      "답:a\n",
      "정답\n"
     ]
    }
   ],
   "source": [
    "ans = input(\"답:\")\n",
    "text = ['a','b','c','d']\n",
    "\n",
    "if ans >= 'a' and ans <= 'd':\n",
    "    print('정답')\n",
    "else: \n",
    "    print('오답')"
   ]
  },
  {
   "cell_type": "code",
   "execution_count": 45,
   "metadata": {},
   "outputs": [
    {
     "name": "stdout",
     "output_type": "stream",
     "text": [
      "97 98 65\n",
      "a b A\n"
     ]
    }
   ],
   "source": [
    "print(ord(\"a\"), ord(\"b\"), ord(\"A\"))\n",
    "print(chr(97), chr(98), chr(65))"
   ]
  },
  {
   "cell_type": "markdown",
   "metadata": {},
   "source": [
    "##### 윤년 계산\n",
    "-------------\n",
    "1) 기본년수가 4로 나누어 떨어지는 해는 우선 윤년으로 한다.\n",
    "2) 그 중 100으로 나누어 떨어지는 해는 평년이다.\n",
    "3) 다만 400으로 나누어 떨어지는 해는 다시 윤년으로 정한다.\n",
    "\n",
    "연도를 입력: 2020(엔터)\n",
    "결과: 윤년입니다(윤년이 아닙니다)"
   ]
  },
  {
   "cell_type": "code",
   "execution_count": 53,
   "metadata": {},
   "outputs": [
    {
     "name": "stdout",
     "output_type": "stream",
     "text": [
      "연도를 입력하세요:2020\n",
      "윤년입니다\n"
     ]
    }
   ],
   "source": [
    "year = int(input('연도를 입력하세요:'))\n",
    "\n",
    "if (year % 4 == 0 and (year % 100 != 0 or year % 400 == 0)):\n",
    "    print('윤년입니다')\n",
    "else:\n",
    "    print('윤년이 아닙니다')"
   ]
  },
  {
   "cell_type": "code",
   "execution_count": 48,
   "metadata": {},
   "outputs": [
    {
     "name": "stdout",
     "output_type": "stream",
     "text": [
      "점수:70\n",
      "C학점\n"
     ]
    }
   ],
   "source": [
    "# 다중 if 구문\n",
    "\n",
    "avg = int(input(\"점수:\"))\n",
    "\n",
    "if avg >= 90:\n",
    "    print(\"A학점\")\n",
    "    \n",
    "elif avg >= 80:\n",
    "    print(\"B학점\")\n",
    "    \n",
    "elif avg >= 70:\n",
    "    print(\"C학점\")\n",
    "    \n",
    "elif avg >= 60:\n",
    "    print(\"D학점\")\n",
    "    \n",
    "else:\n",
    "    print(\"F학점\")"
   ]
  },
  {
   "cell_type": "markdown",
   "metadata": {},
   "source": [
    "##### 전자계산기\n",
    "-----------------------\n",
    "연산자: +\n",
    "숫자: 10\n",
    "숫자:  5\n",
    "출력: 10 + 5 = 15"
   ]
  },
  {
   "cell_type": "code",
   "execution_count": 49,
   "metadata": {},
   "outputs": [
    {
     "name": "stdout",
     "output_type": "stream",
     "text": [
      "b가 제일 크다\n"
     ]
    }
   ],
   "source": [
    "# 조건문 중첩\n",
    "\n",
    "a, b ,c = 8, 10, 3\n",
    "\n",
    "if a>b: \n",
    "    if a>c:\n",
    "        print('a가 제일 크다')\n",
    "    else:\n",
    "        print('C가 제일 크다')\n",
    "        \n",
    "else:\n",
    "    if b>c:\n",
    "        print('b가 제일 크다')\n",
    "    else:\n",
    "        print('c가 제일 크다')"
   ]
  },
  {
   "cell_type": "code",
   "execution_count": 61,
   "metadata": {},
   "outputs": [
    {
     "name": "stdout",
     "output_type": "stream",
     "text": [
      "아이디:123123\n",
      "패스워드:1111\n",
      "아이디가 틀렸습니다.\n"
     ]
    }
   ],
   "source": [
    "id1 = input(\"아이디:\")  #tiger\n",
    "pw = input(\"패스워드:\") #1111\n",
    "\n",
    "if id1 != 'tiger':\n",
    "    if pw != '1111':\n",
    "        print('둘다 틀렸습니다.')\n",
    "    else:\n",
    "        print('아이디가 틀렸습니다.')\n",
    "else:\n",
    "    if pw != '1111':\n",
    "        print('아이디가 맞았습니다.')\n",
    "    else:\n",
    "        print('둘다 맞았습니다.')"
   ]
  },
  {
   "cell_type": "code",
   "execution_count": 69,
   "metadata": {},
   "outputs": [
    {
     "name": "stdout",
     "output_type": "stream",
     "text": [
      "9\n"
     ]
    }
   ],
   "source": [
    "import random as rd\n",
    "print(rd.randint(0, 10))"
   ]
  },
  {
   "cell_type": "markdown",
   "metadata": {},
   "source": [
    "#### 가위바위보 게임프로그램\n",
    "\n",
    "(가위, 바위, 보) 중에서 하나를 선택: 가위(엔터)\n",
    "\n",
    "컴퓨터 : 보, 사용자 : 가위\n",
    "사용자가 이겼습니다."
   ]
  },
  {
   "cell_type": "markdown",
   "metadata": {},
   "source": [
    "## 2. while\n",
    "\n",
    " 1) 문법\n",
    "     while 조건식:\n",
    "         문장\n",
    "         \n",
    "        - 주의사항: 무한반복\n",
    "                    반복횟수\n",
    "          \n",
    "반복문의 구조\n",
    "+ 초기화\n",
    "+ 조건식\n",
    "+ 카운터"
   ]
  },
  {
   "cell_type": "code",
   "execution_count": 84,
   "metadata": {},
   "outputs": [
    {
     "name": "stdout",
     "output_type": "stream",
     "text": [
      "**********"
     ]
    }
   ],
   "source": [
    "cnt = 0 #초기화\n",
    "\n",
    "while cnt<10:      # 조건식 \n",
    "    print('*', end=\"\")    \n",
    "    cnt = cnt + 1 # 카운터\n"
   ]
  },
  {
   "cell_type": "code",
   "execution_count": 87,
   "metadata": {},
   "outputs": [
    {
     "name": "stdout",
     "output_type": "stream",
     "text": [
      "결과: 55\n"
     ]
    }
   ],
   "source": [
    "# 1부터 10까지의 합\n",
    "\n",
    "cnt = 0\n",
    "sum = 0\n",
    "while cnt<=10:\n",
    "    sum = sum + cnt  # sum += cnt\n",
    "    cnt = cnt + 1    # cnt += 1\n",
    "    \n",
    "print(\"결과:\", sum)"
   ]
  },
  {
   "cell_type": "code",
   "execution_count": 105,
   "metadata": {},
   "outputs": [
    {
     "name": "stdout",
     "output_type": "stream",
     "text": [
      "결과: 1024\n"
     ]
    }
   ],
   "source": [
    "# 2의 10승\n",
    "\n",
    "cnt = 0\n",
    "\n",
    "while cnt<=10:\n",
    "    time = 2**cnt\n",
    "    cnt += 1\n",
    "    \n",
    "print(\"결과:\", time)"
   ]
  },
  {
   "cell_type": "code",
   "execution_count": 102,
   "metadata": {},
   "outputs": [
    {
     "name": "stdout",
     "output_type": "stream",
     "text": [
      "결과: 1024\n"
     ]
    }
   ],
   "source": [
    "cnt = 0\n",
    "sum = 1\n",
    "\n",
    "while cnt<10:\n",
    "    sum = sum*2\n",
    "    cnt += 1\n",
    "print(\"결과:\", sum)"
   ]
  },
  {
   "cell_type": "markdown",
   "metadata": {},
   "source": [
    "## 3. for\n",
    " \n",
    "    1) 문법\n",
    "        for 변수 in 집합자료형:\n",
    "            문장\n",
    "            ....\n",
    "            "
   ]
  },
  {
   "cell_type": "code",
   "execution_count": 114,
   "metadata": {},
   "outputs": [
    {
     "name": "stdout",
     "output_type": "stream",
     "text": [
      "10\n",
      "20\n",
      "홍길동\n",
      "3.14\n",
      "True\n",
      "---------------------------------\n",
      "10\n",
      "20\n",
      "홍길동\n",
      "3.14\n",
      "True\n",
      "---------------------------------\n",
      "**********"
     ]
    }
   ],
   "source": [
    "data1 = [10, 20 , '홍길동', 3.14, True]\n",
    "\n",
    "cnt = 0\n",
    "\n",
    "while cnt < len(data1):\n",
    "    print(data1[cnt])\n",
    "    cnt += 1    \n",
    "\n",
    "print('---------------------------------')\n",
    "\n",
    "for v in data1:\n",
    "\n",
    "    print(v)\n",
    "    \n",
    "    \n",
    "print('---------------------------------')\n",
    "\n",
    "#for star in [1,1,1,1,1,1,1,1,1]:\n",
    "#    print(\"*\", end=\"\")\n",
    "\n",
    "for star in range(10):\n",
    "    print(\"*\", end=\"\")"
   ]
  },
  {
   "cell_type": "markdown",
   "metadata": {},
   "source": [
    "## 4. 반복문의 강제 종료\n",
    "\n",
    "    1) break: 완전 종료\n",
    "    2) continue: 일시 중지\n",
    "    "
   ]
  },
  {
   "cell_type": "code",
   "execution_count": 117,
   "metadata": {},
   "outputs": [
    {
     "name": "stdout",
     "output_type": "stream",
     "text": [
      "0\n",
      "1\n",
      "2\n",
      "3\n",
      "4\n"
     ]
    }
   ],
   "source": [
    "for v in range(10):\n",
    "    if v == 5:\n",
    "        break\n",
    "        \n",
    "    print(v)"
   ]
  },
  {
   "cell_type": "code",
   "execution_count": 119,
   "metadata": {},
   "outputs": [
    {
     "name": "stdout",
     "output_type": "stream",
     "text": [
      "0\n",
      "1\n",
      "2\n",
      "3\n",
      "4\n",
      "6\n",
      "7\n",
      "8\n",
      "9\n"
     ]
    }
   ],
   "source": [
    "for v in range(10):\n",
    "    if v == 5:\n",
    "        continue # 5는 출력되지 않지만, 나머지는 반복문을 실행.\n",
    "        \n",
    "    print(v)"
   ]
  },
  {
   "cell_type": "markdown",
   "metadata": {},
   "source": [
    "###### 전자 계산기 프로그램을 반복문을 이용하여 업그레이드\n",
    "    끝나는 조건은 연산자에 x를 입력하면 종료\n",
    "    \n",
    "###### 가위바위보게임을 반복문을 이용하여 업그레이드\n",
    "    X나 Q를 입력하면 종료, 결과에 몇승 몇패 출력\n",
    "    \n",
    "###### 숫자를 입력받아 짝수의 합과 홀수의 합을 구하시오(0을 입력하면 종료)\n",
    "\n",
    "    짝수의 합:\n",
    "    홀수의 합:\n",
    "\n",
    "###### 1~100 사이에 숫자를 맞추시오.(up & down game)\n",
    "\n",
    "    정답: 89\n",
    "    숫자입력:  50\n",
    "    결과: 낮음\n",
    "    정답입니다\n",
    "    횟수입력"
   ]
  },
  {
   "cell_type": "code",
   "execution_count": null,
   "metadata": {},
   "outputs": [],
   "source": [
    "#\"\"\"\n",
    "친구 관리 프로그램\n",
    "====================\n",
    "\n",
    "\n",
    "1.친구 리스트 출력\n",
    "2.친구 추가\n",
    "3.친구 삭제\n",
    "4.이름 변경\n",
    "9.종료\n",
    "메뉴를 선택 : 2 (엔터)\n",
    "이름을 입력 : 홍길동 (엔터)\n",
    "-----------------------\n",
    "1.친구 리스트 출력\n",
    "2.친구 추가\n",
    "3.친구 삭제\n",
    "4.이름 변경\n",
    "9.종료\n",
    "메뉴를 선택 : 2 (엔터)\n",
    "이름을 입력 : 임꺽정 (엔터)\n",
    "-----------------------\n",
    "1.친구 리스트 출력\n",
    "2.친구 추가\n",
    "3.친구 삭제\n",
    "4.이름 변경\n",
    "9.종료\n",
    "메뉴를 선택 : 1 (엔터)\n",
    "[\"홍길동\", \"임꺽정\"]\n",
    "----------------------\n",
    "1.친구 리스트 출력\n",
    "2.친구 추가\n",
    "3.친구 삭제\n",
    "4.이름 변경\n",
    "9.종료\n",
    "메뉴를 선택 : 4 (엔터)\n",
    "변경할 이름 선택 : 홍길동 (엔터)\n",
    "변경하고 싶은 이름 입력 : 홍길순 (엔터)\n",
    "-------------------------------\n",
    "1.친구 리스트 출력\n",
    "2.친구 추가\n",
    "3.친구 삭제\n",
    "4.이름 변경\n",
    "9.종료\n",
    "메뉴를 선택 : 1 (엔터)\n",
    "[\"홍길순\", \"임꺽정\"]\n",
    "-------------------------------\n",
    "1.친구 리스트 출력\n",
    "2.친구 추가\n",
    "3.친구 삭제\n",
    "4.이름 변경\n",
    "9.종료\n",
    "메뉴를 선택 : 3 (엔터)\n",
    "삭제할 이름 입력 : 홍길순\n",
    "------------------------------\n",
    "\"\"\""
   ]
  },
  {
   "cell_type": "markdown",
   "metadata": {},
   "source": [
    "## 5. 반복문의 중첩"
   ]
  },
  {
   "cell_type": "code",
   "execution_count": 4,
   "metadata": {},
   "outputs": [
    {
     "name": "stdout",
     "output_type": "stream",
     "text": [
      "**********\n",
      "**********\n",
      "**********\n"
     ]
    }
   ],
   "source": [
    "'''                                              #행과열의 반복 -> 행우선 원칙\n",
    "**********\n",
    "**********\n",
    "**********\n",
    "'''\n",
    "\n",
    "for v in range(3):   # 행의 반복\n",
    "    for v1 in range(10):  #열의 반복\n",
    "        print('*', end=\"\") # 행의 반복은 끝나지 않아 첫번째 반복문으로\n",
    "    print() #줄바꿈을 위한 print()"
   ]
  },
  {
   "cell_type": "code",
   "execution_count": 11,
   "metadata": {},
   "outputs": [
    {
     "name": "stdout",
     "output_type": "stream",
     "text": [
      "*\n",
      "**\n",
      "***\n",
      "****\n",
      "*****\n"
     ]
    }
   ],
   "source": [
    "'''\n",
    "*\n",
    "**\n",
    "***\n",
    "****\n",
    "*****\n",
    "'''\n",
    "for v1 in range(1,6):\n",
    "    for v2 in range(v1):  #열의 반복을 행의 반복과 맞추어주기 위해\n",
    "        print('*', end=\"\")\n",
    "    print()"
   ]
  },
  {
   "cell_type": "code",
   "execution_count": 109,
   "metadata": {},
   "outputs": [
    {
     "name": "stdout",
     "output_type": "stream",
     "text": [
      "     *\n",
      "    ***\n",
      "   *****\n",
      "  *******\n",
      " *********\n"
     ]
    }
   ],
   "source": [
    "\"\"\"\n",
    "    *\n",
    "   ***\n",
    "  *****\n",
    " *******\n",
    "*********\n",
    "\"\"\"\n",
    "\n",
    "for n in range(1,6):\n",
    "    print(' '*(6-n) + '*'*(2*n-1))"
   ]
  },
  {
   "cell_type": "markdown",
   "metadata": {},
   "source": [
    "## 6. List comprehension"
   ]
  },
  {
   "cell_type": "code",
   "execution_count": 100,
   "metadata": {},
   "outputs": [
    {
     "name": "stdout",
     "output_type": "stream",
     "text": [
      "[0, 1, 2, 3, 4, 5, 6, 7, 8, 9]\n",
      "[0, 1, 2, 3, 4, 5, 6, 7, 8, 9]\n",
      "[0, 2, 4, 6, 8]\n",
      "['AO', 'AE', 'AA', 'BO', 'BE', 'BA', 'CO', 'CE', 'CA']\n",
      "['AO', 'AE', 'AA', 'BO', 'BE', 'BA', 'CO', 'CE', 'CA']\n",
      "==============================================\n",
      "['AO', 'AE', 'BO', 'BE', 'BA', 'CO', 'CE', 'CA']\n",
      "[['AO', 'AE', 'AA'], ['BO', 'BE', 'BA'], ['CO', 'CE', 'CA']]\n"
     ]
    }
   ],
   "source": [
    "result = []\n",
    "\n",
    "for i in range(10):\n",
    "    result.append(i)\n",
    "    \n",
    "print(result)\n",
    "\n",
    "################################\n",
    "\n",
    "result = [i for i in range(10)]    # for 문 앞에 i를 추가하여 0~9까지 입력하게끔 함 # List 안에 코드가 포함되어 있다.\n",
    "\n",
    "print(result) \n",
    "\n",
    "\n",
    "###############################\n",
    "\n",
    "result = [i for i in range(10) if i%2==0] # 조건문을 추가적으로 작성가능함    \n",
    "\n",
    "print(result) \n",
    "\n",
    "##############################\n",
    "\n",
    "c1 = ['A','B','C']\n",
    "c2 = ['O','E','A']\n",
    "\n",
    "\n",
    "\n",
    "#['AO','AE','AA','BO','BE','BA','CO','CE','CA']\n",
    "\n",
    "result = []\n",
    "for row in c1:\n",
    "    for col in c2:\n",
    "        result.append(row+col)\n",
    "\n",
    "print(result)\n",
    "\n",
    "#########################\n",
    "result = [row+col for row in c1 for col in c2 ]\n",
    "\n",
    "print(result)\n",
    "print('==============================================')\n",
    "#['AO','AE','BO','BE','BA','CO','CE','CA'] # 'AA'만 제거\n",
    "\n",
    "result = [row+col for row in c1 for col in c2 if not row == col]\n",
    "print(result)\n",
    "\n",
    "#[['AO','AE','AA'],['BO','BE','BA'],['CO','CE','CA']]\n",
    "\n",
    "result = [[col+row for row in c2] for col in c1]\n",
    "\n",
    "print(result)"
   ]
  },
  {
   "cell_type": "code",
   "execution_count": 89,
   "metadata": {},
   "outputs": [
    {
     "ename": "SyntaxError",
     "evalue": "invalid syntax (<ipython-input-89-69730c7c1139>, line 3)",
     "output_type": "error",
     "traceback": [
      "\u001b[1;36m  File \u001b[1;32m\"<ipython-input-89-69730c7c1139>\"\u001b[1;36m, line \u001b[1;32m3\u001b[0m\n\u001b[1;33m    ***\u001b[0m\n\u001b[1;37m    ^\u001b[0m\n\u001b[1;31mSyntaxError\u001b[0m\u001b[1;31m:\u001b[0m invalid syntax\n"
     ]
    }
   ],
   "source": [
    "word = 'some where over the raindow way up high'\n",
    "\n",
    "***\n",
    "[\"SOME\", \"some\" , 4]\n",
    "[\"WHERE\", \"where\", 5]\n",
    "***\n",
    "\n",
    "\n",
    "word = 'some where over the raindow way up high'\n",
    "result = []\n",
    "for c in word:\n",
    "    word.split[]\n",
    "\n"
   ]
  },
  {
   "cell_type": "code",
   "execution_count": 97,
   "metadata": {
    "scrolled": true
   },
   "outputs": [
    {
     "name": "stdout",
     "output_type": "stream",
     "text": [
      "\n",
      "=================================\n",
      "[['SOME', 'some', 4], ['WHERE', 'where', 5], ['OVER', 'over', 4], ['THE', 'the', 3], ['RAINDOW', 'raindow', 7], ['WAY', 'way', 3], ['UP', 'up', 2], ['HIGH', 'high', 4]]\n",
      "['SOME', 'some', 4]\n",
      "['WHERE', 'where', 5]\n",
      "['OVER', 'over', 4]\n",
      "['THE', 'the', 3]\n",
      "['RAINDOW', 'raindow', 7]\n",
      "['WAY', 'way', 3]\n",
      "['UP', 'up', 2]\n",
      "['HIGH', 'high', 4]\n"
     ]
    }
   ],
   "source": [
    "word = 'some where over the raindow way up high'\n",
    "result = []\n",
    "\n",
    "words = word.split()\n",
    "words\n",
    "\n",
    "print('\\n=================================')\n",
    "\n",
    "result = [[w.upper(), w.lower(), len(w)] for w in words]\n",
    "print(result)\n",
    "\n",
    "for i in result:\n",
    "    print(i)"
   ]
  },
  {
   "cell_type": "markdown",
   "metadata": {},
   "source": [
    "## 7. 실행파일만들기\n",
    "\n",
    " * pyinstaller, py2.exe\n",
    " * pip\n",
    " * https://media.readthedocs.org/pdf/pyinstaller/cross-compiling/pyinstaller.pdf\n",
    " * pyinstaller 파일명.py\n",
    " * pyinstaller -F 파일명.py"
   ]
  },
  {
   "cell_type": "code",
   "execution_count": null,
   "metadata": {},
   "outputs": [],
   "source": []
  }
 ],
 "metadata": {
  "kernelspec": {
   "display_name": "Python 3",
   "language": "python",
   "name": "python3"
  },
  "language_info": {
   "codemirror_mode": {
    "name": "ipython",
    "version": 3
   },
   "file_extension": ".py",
   "mimetype": "text/x-python",
   "name": "python",
   "nbconvert_exporter": "python",
   "pygments_lexer": "ipython3",
   "version": "3.7.6"
  }
 },
 "nbformat": 4,
 "nbformat_minor": 4
}
