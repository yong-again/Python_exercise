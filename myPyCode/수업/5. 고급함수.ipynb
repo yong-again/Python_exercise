{
 "cells": [
  {
   "cell_type": "markdown",
   "metadata": {},
   "source": [
    "## 1. 변수의 생존범위(global, nonlocal)\n",
    "\n",
    "\n"
   ]
  },
  {
   "cell_type": "code",
   "execution_count": 5,
   "metadata": {},
   "outputs": [
    {
     "name": "stdout",
     "output_type": "stream",
     "text": [
      "전국 대표\n",
      "지역 대표\n"
     ]
    }
   ],
   "source": [
    "player = \"전국 대표\"\n",
    "\n",
    "def funcSoccer():\n",
    "    global player\n",
    "    \n",
    "    name = \"홍길동\"\n",
    "    player = \"지역 대표\"\n",
    "    \n",
    "#########################################\n",
    "\n",
    "\n",
    "print(player)     # global 적용 전\n",
    "funcSoccer()    \n",
    "print(player)     # global 적용"
   ]
  },
  {
   "cell_type": "code",
   "execution_count": 10,
   "metadata": {},
   "outputs": [
    {
     "name": "stdout",
     "output_type": "stream",
     "text": [
      "kbs2 함수 내부: 1\n",
      "kbs1 함수 내부: 1\n"
     ]
    }
   ],
   "source": [
    "a = 100\n",
    "\n",
    "def kbs1():\n",
    "    a = 1\n",
    "    \n",
    "    def kbs2():\n",
    "        nonlocal a                                          \n",
    "        \n",
    "        #a = 2\n",
    "        print(\"kbs2 함수 내부:\", a)\n",
    "        \n",
    "    kbs2()\n",
    "    print('kbs1 함수 내부:', a)\n",
    "######################################\n",
    "\n",
    "#main\n",
    "\n",
    "kbs1()"
   ]
  },
  {
   "cell_type": "markdown",
   "metadata": {},
   "source": [
    "## 2. 클로저(closer) 기법\n",
    "\n",
    "    함수 밖에서 임의의 함수 안에 선언된 지역변수를 계속 참조할 수 있게 하는 방법"
   ]
  },
  {
   "cell_type": "code",
   "execution_count": 13,
   "metadata": {},
   "outputs": [
    {
     "name": "stdout",
     "output_type": "stream",
     "text": [
      "1\n",
      "2\n",
      "3\n"
     ]
    }
   ],
   "source": [
    "count = 0\n",
    "\n",
    "def out():\n",
    "    count = 0\n",
    "    \n",
    "    def inn():\n",
    "        #nonlocal count\n",
    "        global count\n",
    "        \n",
    "        count += 1\n",
    "        print(count)\n",
    "\n",
    "    inn()\n",
    "    \n",
    "############################\n",
    "\n",
    "out()\n",
    "out()\n",
    "out()\n"
   ]
  },
  {
   "cell_type": "code",
   "execution_count": 19,
   "metadata": {},
   "outputs": [
    {
     "name": "stdout",
     "output_type": "stream",
     "text": [
      "1\n",
      "2\n",
      "3\n",
      "1\n",
      "2\n",
      "3\n"
     ]
    }
   ],
   "source": [
    "count = 0\n",
    "\n",
    "def out():\n",
    "    count = 0\n",
    "    \n",
    "    def inn():\n",
    "        nonlocal count\n",
    "        \n",
    "        \n",
    "        count += 1\n",
    "        print(count)\n",
    "\n",
    "    inn()\n",
    "    return inn                    #  지역변수는 출력되면 사라지므로 계속 1, 1, 1 이 출력됨. \n",
    "                                   #  그래서 지역변수를 살려주기 위해 return 값을 본인이 원하는 함수의 주소값으로 설정\n",
    "############################    \n",
    "\n",
    "a = out()\n",
    "a()             # inn 함수의 주소 값을 호출 return 을 만나면서 다시 주소값을 호출\n",
    "a()\n",
    "\n",
    "b = out()\n",
    "b()\n",
    "b()"
   ]
  },
  {
   "cell_type": "code",
   "execution_count": 25,
   "metadata": {},
   "outputs": [
    {
     "name": "stdout",
     "output_type": "stream",
     "text": [
      "2500.0\n",
      "36000.0\n",
      "1250.0\n"
     ]
    }
   ],
   "source": [
    "def outer(tax):\n",
    "    def inner(su, dan):\n",
    "        amount = su * dan * tax\n",
    "        return amount \n",
    "    \n",
    "    return inner\n",
    "    \n",
    "    \n",
    "####################################\n",
    "\n",
    "#main\n",
    "\n",
    "tax_rate = outer(0.1)\n",
    "mouse = tax_rate(5, 5000)\n",
    "print(mouse)\n",
    "\n",
    "usb = tax_rate(3, 120000)\n",
    "print(usb)\n",
    "\n",
    "tax_rate2 = outer(0.05)\n",
    "mouse = tax_rate2(5, 5000)\n",
    "print(mouse)"
   ]
  },
  {
   "cell_type": "markdown",
   "metadata": {},
   "source": [
    "---\n",
    "## 3. Lambda 함수\n"
   ]
  },
  {
   "cell_type": "code",
   "execution_count": null,
   "metadata": {},
   "outputs": [],
   "source": []
  },
  {
   "cell_type": "code",
   "execution_count": 2,
   "metadata": {},
   "outputs": [
    {
     "name": "stdout",
     "output_type": "stream",
     "text": [
      "15\n"
     ]
    }
   ],
   "source": [
    "def hap(x,y):\n",
    "    return x+y\n",
    "\n",
    "##################################\n",
    "\n",
    "result = hap(10, 5)\n",
    "print(result)"
   ]
  },
  {
   "cell_type": "code",
   "execution_count": 9,
   "metadata": {},
   "outputs": [
    {
     "name": "stdout",
     "output_type": "stream",
     "text": [
      "15\n"
     ]
    }
   ],
   "source": [
    "print((lambda x , y: x+y)(10, 5))"
   ]
  },
  {
   "cell_type": "code",
   "execution_count": 11,
   "metadata": {},
   "outputs": [
    {
     "name": "stdout",
     "output_type": "stream",
     "text": [
      "15\n"
     ]
    }
   ],
   "source": [
    "hap2 = (lambda x , y: x+y)\n",
    "\n",
    "print(hap2(10, 5))"
   ]
  },
  {
   "cell_type": "code",
   "execution_count": 13,
   "metadata": {},
   "outputs": [
    {
     "name": "stdout",
     "output_type": "stream",
     "text": [
      "14\n",
      "5\n"
     ]
    }
   ],
   "source": [
    "hap3 = (lambda x , y = 10: x+y)\n",
    "print(hap3(4))\n",
    "print(hap3(4, 1))"
   ]
  },
  {
   "cell_type": "code",
   "execution_count": 17,
   "metadata": {},
   "outputs": [
    {
     "name": "stdout",
     "output_type": "stream",
     "text": [
      "1 (2, 3, 4, 5) {'m': 6, 'n': 7, 'o': 8}\n"
     ]
    }
   ],
   "source": [
    "def lambda_test(a, *b, **c):\n",
    "    print(a, b, c)\n",
    "    \n",
    "###############################\n",
    "\n",
    "lambda_test(1, 2, 3, 4, 5, m = 6, n = 7, o = 8)"
   ]
  },
  {
   "cell_type": "code",
   "execution_count": 26,
   "metadata": {},
   "outputs": [
    {
     "name": "stdout",
     "output_type": "stream",
     "text": [
      "1 (2, 3, 4, 5) {'m': 6, 'n': 7, 'o': 8}\n"
     ]
    }
   ],
   "source": [
    "(lambda a, *b, **c:print(a, b, c))(1, 2, 3, 4, 5, m = 6, n = 7, o = 8)"
   ]
  },
  {
   "cell_type": "code",
   "execution_count": 42,
   "metadata": {},
   "outputs": [
    {
     "name": "stdout",
     "output_type": "stream",
     "text": [
      "[1, 4, 3, 16, 5]\n",
      "[1, 4, 3, 16, 5]\n",
      "[1, 4, 3, 16, 5]\n"
     ]
    }
   ],
   "source": [
    "ex = [1,2,3,4,5]\n",
    "\n",
    "def test(x):\n",
    "    if x % 2 == 0:\n",
    "        return x ** 2\n",
    "    else:\n",
    "        return x\n",
    "################################\n",
    "\n",
    "result=[]\n",
    "\n",
    "for i in ex:\n",
    "    result.append(test(i))\n",
    "    \n",
    "print(result)\n",
    "\n",
    "#map을 이용\n",
    "\n",
    "print(list(map(test, ex)))\n",
    "\n",
    "# lambda로\n",
    "\n",
    "print(list(map(lambda x : x**2 if x % 2 ==0 else x, ex)))"
   ]
  },
  {
   "cell_type": "markdown",
   "metadata": {},
   "source": [
    "## 4. 함수 장식자(decorator)\n",
    "\n",
    "    - 일종의 함수 감싸기(wrapping)을 해주는 디자인 패턴\n",
    "    - 메타 프로그래밍 기법\n",
    "    - @classmethod, @staticmethod, @abstract......"
   ]
  },
  {
   "cell_type": "code",
   "execution_count": 60,
   "metadata": {
    "scrolled": false
   },
   "outputs": [
    {
     "name": "stdout",
     "output_type": "stream",
     "text": [
      "<function hello at 0x000002AE4FD8B550>\n",
      "<function make1 at 0x000002AE4FD8B670>\n",
      "<function make2 at 0x000002AE4FD8B430>\n",
      "<function make1.<locals>.<lambda> at 0x000002AE4FD990D0>\n",
      "<function make2.<locals>.<lambda> at 0x000002AE4FD99310>\n"
     ]
    },
    {
     "data": {
      "text/plain": [
       "'안녕반가워홍길동'"
      ]
     },
     "execution_count": 60,
     "metadata": {},
     "output_type": "execute_result"
    }
   ],
   "source": [
    "def make2(fn):\n",
    "    return lambda :\"안녕\" + fn()\n",
    "\n",
    "def make1(fn):\n",
    "    return lambda :\"반가워\" +fn()\n",
    "\n",
    "def hello():\n",
    "    return \"홍길동\"\n",
    "\n",
    "##################################\n",
    "print(hello)\n",
    "print(make1)\n",
    "print(make2)\n",
    "\n",
    "a = make1(hello) #함수 make1 변수에 hello의 주소 입력                \n",
    "a()\n",
    "print(a)\n",
    "\n",
    "b = make2(make1(hello)) \n",
    "print(b)\n",
    "b()"
   ]
  },
  {
   "cell_type": "code",
   "execution_count": 63,
   "metadata": {},
   "outputs": [
    {
     "name": "stdout",
     "output_type": "stream",
     "text": [
      "안녕반가워홍길동\n"
     ]
    }
   ],
   "source": [
    "def make2(fn):\n",
    "    return lambda :\"안녕\" + fn()\n",
    "\n",
    "def make1(fn):\n",
    "    return lambda :\"반가워\" +fn()\n",
    "\n",
    "@make2           #make2의 주소값\n",
    "@make1           # make1의 주소값 \n",
    "def hello():\n",
    "    return \"홍길동\"\n",
    "\n",
    "print(hello())\n"
   ]
  },
  {
   "cell_type": "code",
   "execution_count": 66,
   "metadata": {},
   "outputs": [
    {
     "name": "stdout",
     "output_type": "stream",
     "text": [
      "결과는 40입니다.\n"
     ]
    }
   ],
   "source": [
    "# closer 기법\n",
    "\n",
    "def outer(fn):\n",
    "    def inner(n1, n2): \n",
    "        print(\"결과는 {}입니다.\".format(fn(n1,n2)))\n",
    "        \n",
    "    return inner\n",
    "\n",
    "def func(n1, n2):\n",
    "    return n1 + n2\n",
    "\n",
    "##########################################\n",
    "\n",
    "result=outer(func)\n",
    "result(10, 30)"
   ]
  },
  {
   "cell_type": "code",
   "execution_count": 67,
   "metadata": {},
   "outputs": [
    {
     "name": "stdout",
     "output_type": "stream",
     "text": [
      "결과는 30입니다.\n"
     ]
    }
   ],
   "source": [
    "def outer(fn):\n",
    "    def inner(n1, n2): \n",
    "        print(\"결과는 {}입니다.\".format(fn(n1,n2)))\n",
    "        \n",
    "    return inner\n",
    "\n",
    "@outer\n",
    "def func(n1, n2):\n",
    "    return n1 + n2\n",
    "\n",
    "##########################################\n",
    "\n",
    "func(10, 20)"
   ]
  },
  {
   "cell_type": "code",
   "execution_count": null,
   "metadata": {},
   "outputs": [],
   "source": []
  }
 ],
 "metadata": {
  "kernelspec": {
   "display_name": "Python 3",
   "language": "python",
   "name": "python3"
  },
  "language_info": {
   "codemirror_mode": {
    "name": "ipython",
    "version": 3
   },
   "file_extension": ".py",
   "mimetype": "text/x-python",
   "name": "python",
   "nbconvert_exporter": "python",
   "pygments_lexer": "ipython3",
   "version": "3.8.3"
  }
 },
 "nbformat": 4,
 "nbformat_minor": 4
}
