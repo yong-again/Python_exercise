{
 "cells": [
  {
   "cell_type": "markdown",
   "metadata": {},
   "source": [
    "# 1. 변수의 특징\n",
    "\n",
    "+ 변수의 왼쪽-> 주기억 장치(장소)\n",
    "+ **\"=\"** 은 같다라는 뜻이 아니라 할당(치환, 저장)하는 의미, \n",
    "+ 다른 언어의 경우 int a(변수의 할당) 사용 but 파이썬이 알아서 해줌**(묵시적 선언)**\n",
    "+ 파이썬=**동적 바인딩**, 데이터의 형식은 미리 결정되지 않음. 다른 언어의 경우 따로지정 ex) 정수형->실수형, 문자->정수형\n",
    "+ 한번 저장한 값은 **immutalbe**(수정할 수 없음), a=10 이 아니라 a라는 변수가 메모리 자체 내에 생성된 주소(메모리값)가 지정되어짐\n",
    "* 따라서 'a' 변수는 값이 바뀐 것이 아니라 주소(메모리값)가 변경되는 것임. \n",
    "+ 기존의 메모리 데이터는 'Garbage' 라고 불림(데이터는 메모리에 저장되어 있지만 변수에 주소가 지정되어 있지 않아 출력되지 않음)\n",
    "---"
   ]
  },
  {
   "cell_type": "code",
   "execution_count": 13,
   "metadata": {},
   "outputs": [
    {
     "name": "stdout",
     "output_type": "stream",
     "text": [
      "10\n",
      "3.14\n",
      "가나다\n"
     ]
    }
   ],
   "source": [
    "a = 10\n",
    "print(a)\n",
    "\n",
    "a= 3.14\n",
    "print(a)\n",
    "\n",
    "a = '가나다'\n",
    "print(a)"
   ]
  },
  {
   "cell_type": "markdown",
   "metadata": {},
   "source": [
    "# 2. Data type\n",
    "\n",
    " 2.1 종류\n",
    "   1. 단일자료형: 하나의 데이터를 저장하는 형식\n",
    "     - int: 정수형\n",
    "      - float: 실수형\n",
    "      - bool: 참, 거짓\n",
    "      - **str: 문자열**\n",
    "      - complex: 복소수\n",
    "      - fuction: \n",
    "     \n",
    "   2. 집합자료형\n",
    "     - list\n",
    "     - tuple\n",
    "     - set\n",
    "     - dict"
   ]
  },
  {
   "cell_type": "markdown",
   "metadata": {},
   "source": [
    "---\n",
    "## 1. str"
   ]
  },
  {
   "cell_type": "code",
   "execution_count": 19,
   "metadata": {},
   "outputs": [
    {
     "data": {
      "text/plain": [
       "str"
      ]
     },
     "execution_count": 19,
     "metadata": {},
     "output_type": "execute_result"
    }
   ],
   "source": [
    "a = 10\n",
    "type(a)\n",
    "\n",
    "b = '10'\n",
    "type(b)"
   ]
  },
  {
   "cell_type": "code",
   "execution_count": 22,
   "metadata": {},
   "outputs": [
    {
     "name": "stdout",
     "output_type": "stream",
     "text": [
      "hello, sweet heart\n",
      "good bye my friends\n"
     ]
    }
   ],
   "source": [
    "a= \"\"\"hello, sweet heart\n",
    "good bye my friends\"\"\"\n",
    "print(a)"
   ]
  },
  {
   "cell_type": "code",
   "execution_count": 45,
   "metadata": {},
   "outputs": [
    {
     "name": "stdout",
     "output_type": "stream",
     "text": [
      "This is python.\n",
      "\n",
      "\n",
      "Just Do it!!\n",
      "현재 시간은 \t\t\t\t\t9시입니다.\n",
      "\"\\t는 탭키의 역할입니다.\"\n"
     ]
    }
   ],
   "source": [
    "#특수 문자(제어문자): 형태-> \\문자 (escape text)\n",
    "a = \"This is python.\\n\\n\\nJust Do it!!\"\n",
    "print(a)\n",
    "\n",
    "a = \"현재 시간은 \\t\\t\\t\\t\\t9시입니다.\"\n",
    "print(a)\n",
    "\n",
    "\n",
    "# \\t는 탭키의 역할입니다.\n",
    "print(\"\\\"\\\\t는 탭키의 역할입니다.\\\"\")\n"
   ]
  },
  {
   "cell_type": "code",
   "execution_count": 57,
   "metadata": {},
   "outputs": [
    {
     "name": "stdout",
     "output_type": "stream",
     "text": [
      "10+2+4+5+6*7\n"
     ]
    }
   ],
   "source": [
    "# \\의 또다른 기능: 줄 바꿈\n",
    "a = \"10+2+4+5\\\n",
    "+6*7\"\n",
    "print(a)"
   ]
  },
  {
   "cell_type": "code",
   "execution_count": null,
   "metadata": {},
   "outputs": [],
   "source": [
    "#문자열 연결\n",
    "a = \"python\"\n",
    "b = \"is fun\"\n",
    "c = \"and great\"\n",
    "\n",
    "str1= a, b, c\n",
    "print(str1)\n",
    "\n",
    "str2 = a + b + c\n",
    "print(str2)"
   ]
  },
  {
   "cell_type": "code",
   "execution_count": 63,
   "metadata": {},
   "outputs": [
    {
     "name": "stdout",
     "output_type": "stream",
     "text": [
      "pythonpythonpython\n"
     ]
    }
   ],
   "source": [
    "#문자열 곱하기\n",
    "print(a * 3)"
   ]
  },
  {
   "cell_type": "code",
   "execution_count": 66,
   "metadata": {},
   "outputs": [
    {
     "name": "stdout",
     "output_type": "stream",
     "text": [
      "3\n",
      "21\n"
     ]
    }
   ],
   "source": [
    "#문자열의 길이 len()\n",
    "print(len(str1))\n",
    "print(len(str2))"
   ]
  },
  {
   "cell_type": "code",
   "execution_count": 68,
   "metadata": {},
   "outputs": [],
   "source": [
    "# Indexing: [인덱스 번호]\n",
    "a = 'Life is too short, You need Python'"
   ]
  },
  {
   "cell_type": "code",
   "execution_count": 72,
   "metadata": {},
   "outputs": [
    {
     "data": {
      "text/plain": [
       "'e'"
      ]
     },
     "execution_count": 72,
     "metadata": {},
     "output_type": "execute_result"
    }
   ],
   "source": [
    "a[3]"
   ]
  },
  {
   "cell_type": "code",
   "execution_count": 73,
   "metadata": {},
   "outputs": [
    {
     "data": {
      "text/plain": [
       "'o'"
      ]
     },
     "execution_count": 73,
     "metadata": {},
     "output_type": "execute_result"
    }
   ],
   "source": [
    "a[10]"
   ]
  },
  {
   "cell_type": "code",
   "execution_count": 74,
   "metadata": {},
   "outputs": [
    {
     "data": {
      "text/plain": [
       "' '"
      ]
     },
     "execution_count": 74,
     "metadata": {},
     "output_type": "execute_result"
    }
   ],
   "source": [
    "a[11]"
   ]
  },
  {
   "cell_type": "code",
   "execution_count": 75,
   "metadata": {},
   "outputs": [
    {
     "data": {
      "text/plain": [
       "'n'"
      ]
     },
     "execution_count": 75,
     "metadata": {},
     "output_type": "execute_result"
    }
   ],
   "source": [
    "a[-1]"
   ]
  },
  {
   "cell_type": "code",
   "execution_count": 76,
   "metadata": {},
   "outputs": [
    {
     "data": {
      "text/plain": [
       "'o'"
      ]
     },
     "execution_count": 76,
     "metadata": {},
     "output_type": "execute_result"
    }
   ],
   "source": [
    "a[-2]"
   ]
  },
  {
   "cell_type": "code",
   "execution_count": 86,
   "metadata": {},
   "outputs": [
    {
     "name": "stdout",
     "output_type": "stream",
     "text": [
      "Life \n",
      "is too short, You need Python\n",
      "Life is too short, You need Python\n",
      "You need\n",
      "ho\n"
     ]
    }
   ],
   "source": [
    "#slicing: [시작위치:끝위치]\n",
    "a[0:4]\n",
    "a[0:6]\n",
    "print(a[:5])\n",
    "print(a[5:])\n",
    "print(a[:])\n",
    "print(a[19:-7])\n",
    "print(a[-3:-1])"
   ]
  },
  {
   "cell_type": "code",
   "execution_count": 87,
   "metadata": {
    "scrolled": false
   },
   "outputs": [
    {
     "ename": "TypeError",
     "evalue": "'str' object does not support item assignment",
     "output_type": "error",
     "traceback": [
      "\u001b[1;31m---------------------------------------------------------------------------\u001b[0m",
      "\u001b[1;31mTypeError\u001b[0m                                 Traceback (most recent call last)",
      "\u001b[1;32m<ipython-input-87-085c486c29af>\u001b[0m in \u001b[0;36m<module>\u001b[1;34m\u001b[0m\n\u001b[0;32m      1\u001b[0m \u001b[0ma\u001b[0m \u001b[1;33m=\u001b[0m \u001b[1;34m\"pithon\"\u001b[0m\u001b[1;33m\u001b[0m\u001b[1;33m\u001b[0m\u001b[0m\n\u001b[1;32m----> 2\u001b[1;33m \u001b[0ma\u001b[0m\u001b[1;33m[\u001b[0m\u001b[1;36m1\u001b[0m\u001b[1;33m]\u001b[0m \u001b[1;33m=\u001b[0m\u001b[1;34m'Y'\u001b[0m\u001b[1;33m\u001b[0m\u001b[1;33m\u001b[0m\u001b[0m\n\u001b[0m",
      "\u001b[1;31mTypeError\u001b[0m: 'str' object does not support item assignment"
     ]
    }
   ],
   "source": [
    "a = \"pithon\"\n",
    "a[1] ='Y' #기본적으로 데이터값은 수정되지 않는다.(immutable)"
   ]
  },
  {
   "cell_type": "code",
   "execution_count": 97,
   "metadata": {},
   "outputs": [
    {
     "name": "stdout",
     "output_type": "stream",
     "text": [
      "Life is too short, You need Python\n",
      "Lf stosot o edPto\n",
      "nohtyP deen uoY ,trohs oot si efiL\n",
      "nt eu rsoseL\n",
      "\n",
      "si efi\n"
     ]
    }
   ],
   "source": [
    "#step : [시작위치: 끝위치: 스텝]\n",
    "\n",
    "a = 'Life is too short, You need Python'\n",
    "print(a[::1])\n",
    "print(a[::2])\n",
    "print(a[::-1])   # 음수는 역순 \n",
    "print(a[::-3])\n",
    "print(a[0:6:-1]) # 값이 출력되지 않음-> why? 역순이기 때문에 시작위치는 끝위치보다 커야함\n",
    "print(a[6:0:-1]) "
   ]
  },
  {
   "cell_type": "code",
   "execution_count": 140,
   "metadata": {
    "collapsed": true
   },
   "outputs": [
    {
     "name": "stdout",
     "output_type": "stream",
     "text": [
      "23\n",
      "3\n",
      "------------------------------------\n",
      "a,b,c,d,e,f,g\n",
      "------------------------------------\n",
      "['홍길동', ' 홍경래', ' 홍준표', ' 양경업', ' 신돌석']\n",
      "['홍길동', ' 홍경래, 홍준표, 양경업, 신돌석']\n",
      "------------------------------------\n",
      "1 -1\n",
      "21\n",
      "0\n",
      "1\n",
      "------------------------------------\n",
      "            python\n",
      "python\n",
      ",.python\n",
      "python\n",
      "------------------------------------\n",
      "hello, Python\n",
      "------------------------------------\n",
      "일이삼사오육칠팔구\n",
      "1이3사5육칠팔구\n",
      "------------------------------------\n"
     ]
    }
   ],
   "source": [
    "#문자열 관련 함수\n",
    "\n",
    "#count()\n",
    "\n",
    "str1='홍길동, 홍경래, 홍준표, 양경업, 신돌석'\n",
    "print(len(str1))\n",
    "print(str1.count('홍')) #문자열 전용 함수\n",
    "print('------------------------------------')\n",
    "\n",
    "# join()\n",
    "\n",
    "str1 = 'abcdefg'\n",
    "str2 = ','\n",
    "str3 = str2.join(str1)\n",
    "print(str3)\n",
    "print('------------------------------------')\n",
    "\n",
    "# split() -> 한 개의 문자열데이터를 여러개의 문자열데이터로 변환\n",
    "\n",
    "str1='홍길동, 홍경래, 홍준표, 양경업, 신돌석' \n",
    "print(str1.split(','))\n",
    "print(str1.split(',', maxsplit=1))\n",
    "print('------------------------------------')\n",
    "\n",
    "# find(), index() -> 데이터의 존재유무, 위치를 알려줌 \n",
    "# 차이점 데이터의 존재유무에 따라 처리하는 방법이 다름\n",
    "# find()는 -1의 결과값으로 처리하고 index()는 error 처리함.\n",
    "\n",
    "print(str1.find('길'), str1.find('별'))\n",
    "print(str1.find('돌'))\n",
    "print(str1.find('홍'))\n",
    "print(str1.index('길'))# str1.index('별')\n",
    "print('------------------------------------')\n",
    "\n",
    "# lstrip(), rstrip(), strip() ->공백을 지우는 함수,불필요한 문자 제거 가능\n",
    "\n",
    "str1 = '            python'\n",
    "print(str1)\n",
    "print(str1.lstrip())\n",
    "\n",
    "str2 =',.python'\n",
    "print(str2.lstrip('.'))\n",
    "print(str2.lstrip(',.'))\n",
    "print('------------------------------------')\n",
    "\n",
    "# replace(), [maketrans(), translate()] -> 문자열 바꾸기\n",
    "# repalce() -> 한개의 연속된 문자열만 바꿀 수 있음\n",
    "# str.translate(str2.maketrans()) -> 각각 하나의 문자열을 바꿈\n",
    "\n",
    "str1 = \"hello, world\"\n",
    "print(str1.replace(\"world\", \"Python\"))\n",
    "print('------------------------------------')\n",
    "str2= \"일이삼사오육칠팔구\"\n",
    "print(str2.replace(\"일삼오\", \"135\")) #-> 무반응\n",
    "print(str2.translate(str2.maketrans(\"일삼오\", \"135\")))\n",
    "print('------------------------------------')"
   ]
  },
  {
   "cell_type": "code",
   "execution_count": 181,
   "metadata": {},
   "outputs": [
    {
     "name": "stdout",
     "output_type": "stream",
     "text": [
      "현재 온도는 18도 입니다.\n",
      "나눗셈       의 결과: 3/5=0.60 입니다.\n",
      "------------------------------------\n",
      "나눗셈의 결과: 3 / 5 = 0.6 입니다.\n",
      "나눗셈의 결과: 5 / 3 = 1.6666666666666667 입니다.\n",
      "나눗셈의 결과: 3 / 5 = 0.6 입니다.\n",
      "나눗셈의 결과: 3 / 5 = 0.6 입니다.\n",
      "!!!!나눗셈!!!!의 결과: 5 / 3 =  1.67 입니다.\n"
     ]
    }
   ],
   "source": [
    "# 문자열 포매팅: %, format()\n",
    "\n",
    "# %를 이용한 포매팅\n",
    "print(\"현재 온도는 %d도 입니다.\"%18)\n",
    "\n",
    "print(\"%-10s의 결과: %d%c%d=%0.2f 입니다.\"%(\"나눗셈\", 3, \"/\", 5, (3/5)))\n",
    "# %0.2f , %0.3f -> 소수점의 자리수 결정 or %10s, %5s -> 글자수\n",
    "# 양수로 표현시 왼쪽정렬,음수로 표현시 오른쪽 정렬\n",
    "print('------------------------------------')\n",
    "\n",
    "# format()을 이용한 포매팅\n",
    "print(\"나눗셈의 결과: {} / {} = {} 입니다.\".format(3, 5, (3/5)))\n",
    "# 순서는 생략됨\n",
    "\n",
    "print(\"나눗셈의 결과: {1} / {0} = {2} 입니다.\".format(3, 5, (5/3)))\n",
    "\n",
    "print(\"{}의 결과: {} / {} = {} 입니다.\".format(\"나눗셈\", 3, 5, (3/5)))\n",
    "print(\"{title}의 결과: {} / {} = {} 입니다.\".format(3, 5, (3/5), title=\"나눗셈\"))\n",
    "#title 작성시 순서는 상관없음. 변수의 이름만 알면됨\n",
    "\n",
    "print(\"{3:!^11}의 결과: {1} / {0} = {2:5.2f} 입니다.\".format(3, 5, (5/3), \"나눗셈\"))"
   ]
  },
  {
   "cell_type": "code",
   "execution_count": null,
   "metadata": {},
   "outputs": [],
   "source": []
  }
 ],
 "metadata": {
  "kernelspec": {
   "display_name": "Python 3",
   "language": "python",
   "name": "python3"
  },
  "language_info": {
   "codemirror_mode": {
    "name": "ipython",
    "version": 3
   },
   "file_extension": ".py",
   "mimetype": "text/x-python",
   "name": "python",
   "nbconvert_exporter": "python",
   "pygments_lexer": "ipython3",
   "version": "3.7.6"
  }
 },
 "nbformat": 4,
 "nbformat_minor": 4
}
