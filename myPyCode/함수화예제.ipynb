{
 "cells": [
  {
   "cell_type": "markdown",
   "metadata": {},
   "source": [
    "##### 제어문에서 했던 예제들을 함수화 시키기"
   ]
  },
  {
   "cell_type": "code",
   "execution_count": null,
   "metadata": {},
   "outputs": [],
   "source": [
    "import random as rd\n",
    "\n",
    "# 변수\n",
    "rsp = [\"가위\",\"바위\",\"보\"]\n",
    "com = rd.randint(0,2)\n",
    "c = rsp[0]\n",
    "i = input(\"가위,바위,보 중 하나를 입력하세요: \")\n",
    "win, lose = 0, 0\n",
    "\n",
    "# 함수\n",
    "def game(i,c):\n",
    "     while True:    \n",
    "        if i in ['x','q']:\n",
    "            print(\"종료\")\n",
    "            break \n",
    "            \n",
    "        if i == '가위' and c == '보':\n",
    "            global win\n",
    "            win += 1\n",
    "            return '승리'\n",
    "        \n",
    "        if i == '바위' and c == '가위':\n",
    "            win += 1\n",
    "            return '승리'\n",
    "    \n",
    "        if i == '보' and c == '바위':\n",
    "            win += 1\n",
    "            return '승리'\n",
    "        \n",
    "        elif i == c:\n",
    "            return '무승부'\n",
    "    \n",
    "        else:\n",
    "            global lose\n",
    "            lose += 1\n",
    "            return '패배'\n",
    "\n",
    "    \n",
    "    \n",
    "print('유저: ' +str(i),'vs', '컴퓨터:' +str(c))\n",
    "print('결과: ', game(i,c))\n",
    "print(\"{}승, {} 패\".format(win, lose))"
   ]
  },
  {
   "cell_type": "code",
   "execution_count": null,
   "metadata": {},
   "outputs": [],
   "source": []
  },
  {
   "cell_type": "code",
   "execution_count": null,
   "metadata": {},
   "outputs": [],
   "source": []
  }
 ],
 "metadata": {
  "kernelspec": {
   "display_name": "Python 3",
   "language": "python",
   "name": "python3"
  },
  "language_info": {
   "codemirror_mode": {
    "name": "ipython",
    "version": 3
   },
   "file_extension": ".py",
   "mimetype": "text/x-python",
   "name": "python",
   "nbconvert_exporter": "python",
   "pygments_lexer": "ipython3",
   "version": "3.8.3"
  }
 },
 "nbformat": 4,
 "nbformat_minor": 4
}
