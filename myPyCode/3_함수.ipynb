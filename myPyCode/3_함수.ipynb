{
 "cells": [
  {
   "cell_type": "markdown",
   "metadata": {},
   "source": [
    "+ pythoon language = 함수형 언어\n",
    "\n",
    "## 1. 함수의 정의\n",
    "    - 일정한 작업을 수행하는 코드 블럭\n",
    "    \n",
    "## 2. 함수의 장점\n",
    "    - 반복적인 코드를 없애주어 전체 코드의 길이를 짧게 만들어 준다.\n",
    "    - 프로그램에 유지 보수를 용이하게 한다.\n",
    "\n",
    "## 3. 함수의 구현\n",
    "     - def 함수이름(\"   \"):\n",
    "         코드 정의\n",
    "         .....\n",
    "         [return]=>생략가능\n",
    "         \n",
    "## 4. 함수의 호출 방식\n",
    "\n",
    "    1) 인자(인수)가 없는 방식 : def line() -> line()  jump시에 고려\n",
    "    2) 인자가 있는 방식: lin(35) -> ()의 숫자(인자): 실인자(argument)  jump시에 고려\n",
    "    3) 반환값(return값)이 있는 방식:\n",
    "        * return의 2가지 기능\n",
    "           - 값을 반환(값은 1개만 반환 가능)\n",
    "           - 함수의 강제 종료\n",
    "    \n",
    "        + 함수를 호출 할 때에는 반드시 같은 모양의 함수만을 출력해야함\n",
    "        + 매개변수와 실인자의 개수는 같아야 출력됨\n",
    "## 5. 함수의 설계\n",
    "    1) 재사용성\n",
    "    2) 단일 기능"
   ]
  },
  {
   "cell_type": "code",
   "execution_count": 27,
   "metadata": {},
   "outputs": [],
   "source": [
    "def line():\n",
    "    for i in range(35):\n",
    "        print(\"*\", end=\"\")\n",
    "    print()"
   ]
  },
  {
   "cell_type": "code",
   "execution_count": 18,
   "metadata": {},
   "outputs": [
    {
     "name": "stdout",
     "output_type": "stream",
     "text": [
      "****************************************\n",
      "             친구관리프로그램                  \n",
      "****************************************\n",
      "1. 친구 리스트 출력\n",
      "2. 친구 추가\n",
      "3. 종료\n",
      "****************************************\n"
     ]
    }
   ],
   "source": [
    "# 인자가 없는 방식\n",
    "line()\n",
    "print(\"             친구관리프로그램                  \")\n",
    "line()\n",
    "print(\"1. 친구 리스트 출력\")\n",
    "print(\"2. 친구 추가\")\n",
    "print(\"3. 종료\")\n",
    "line()"
   ]
  },
  {
   "cell_type": "code",
   "execution_count": 24,
   "metadata": {},
   "outputs": [],
   "source": [
    "def line(cnt, type):\n",
    "    for i in range(cnt):\n",
    "        print(type, end=\"\")\n",
    "    print()"
   ]
  },
  {
   "cell_type": "code",
   "execution_count": 26,
   "metadata": {},
   "outputs": [
    {
     "name": "stdout",
     "output_type": "stream",
     "text": [
      "***********************************\n",
      "             친구관리프로그램                  \n",
      "-----------------------------------\n",
      "1. 친구 리스트 출력\n",
      "2. 친구 추가\n",
      "3. 종료\n",
      "===================================\n"
     ]
    }
   ],
   "source": [
    "# 인자가 있는 방식\n",
    "line(35,'*')\n",
    "print(\"             친구관리프로그램                  \")\n",
    "line(35, '-')\n",
    "print(\"1. 친구 리스트 출력\")\n",
    "print(\"2. 친구 추가\")\n",
    "print(\"3. 종료\")\n",
    "line(35, '=')"
   ]
  },
  {
   "cell_type": "code",
   "execution_count": null,
   "metadata": {},
   "outputs": [],
   "source": [
    "# 반환값(return)이 있는 함수\n",
    "\n",
    "def swap(num1, num2):\n",
    "    #num3 = num1             #다른 언어에서 이렇게 처리해야함.\n",
    "    #num1 = num2\n",
    "    #num2 = num3\n",
    "    num1, num2 = num2, num1  #한번에 swap알고리즘 구현(병렬처리가능, 파이썬에서만)\n",
    "    \n",
    "    return num1, num2    # return은 함수는 그 즉시 중단됨(반복문의 break와 같은의미)\n",
    "\n",
    "    print('이 문장이 보이는가?')\n",
    "\n",
    "##################################################\n",
    "\n",
    "num1, num2 = 10, 5\n",
    "\n",
    "print(\"두 수의 교환\")\n",
    "#n1, n2 = swap(num1, num2)   #return 값을 출력\n",
    "\n",
    "#print(\"결과= \", n1,\",\", n2) \n",
    "print(\"결과= \", swap(num1, num2))"
   ]
  },
  {
   "cell_type": "markdown",
   "metadata": {},
   "source": [
    "###### cf. swap 알고리즘\n",
    " a = 10\n",
    " b = 5\n",
    "- a=b, b=a 로 출력하면 5만 출력\n",
    "- 기존에 있던 데이터를 다른 곳에 저장 후 출력\n",
    "- ex) c=a -> a=b -> b=c  "
   ]
  },
  {
   "cell_type": "markdown",
   "metadata": {},
   "source": [
    "##### 제어문에서 했던 예제들을 함수화 시키기"
   ]
  },
  {
   "cell_type": "markdown",
   "metadata": {},
   "source": [
    "## 6. 파이썬에서 함수를 지원하기 위한 문법"
   ]
  },
  {
   "cell_type": "code",
   "execution_count": 54,
   "metadata": {},
   "outputs": [
    {
     "name": "stdout",
     "output_type": "stream",
     "text": [
      "전국 대표\n",
      "홍길동 지역 대표\n",
      "지역 대표\n"
     ]
    }
   ],
   "source": [
    "# 변수의 유효(생존)범위: 지역 변수, 전역 변수\n",
    "\n",
    "\n",
    "player = '전국 대표'     # 전역 변수\n",
    "\n",
    "def funcSoccer():\n",
    "    global player       # 함수 밖에 있는 전역변수를 사용하는 문법(즉, 전역변수와 지역변수를 같은 변수로 만들어줌)\n",
    "    \n",
    "    name = '홍길동'      #함수 안에서만 선언된 변수(=지역변수)(유효범위는 함수)\n",
    "    player = '지역 대표' #위 player 변수와 다른 변수임(서로 다른 메모리 공간을 가지고 있음)\n",
    "    print(name, player) \n",
    "    \n",
    "##############################################\n",
    "\n",
    "# main\n",
    "#print(name)\n",
    "print(player)\n",
    "\n",
    "funcSoccer()\n",
    "print(player)"
   ]
  },
  {
   "cell_type": "code",
   "execution_count": 80,
   "metadata": {},
   "outputs": [
    {
     "name": "stdout",
     "output_type": "stream",
     "text": [
      "********************\n",
      "******************************\n",
      "******************************\n",
      "안녕하세요 홍길동님\n",
      "반드시 이름을 입력해야합니다.\n",
      "안녕하세요 홍길동에 사는 서울님... 당신의 나이는 20세 입니다.\n",
      "안녕하세요 서울에 사는 20님... 당신의 나이는 임꺽정세 입니다.\n",
      "안녕하세요 서울에 사는 임님... 당신의 나이는 30세 입니다.\n",
      "안녕하세요 서울에 사는 신돌석님... 당신의 나이는 35세 입니다.\n",
      "안녕하세요 경기도에 사는 강님... 당신의 나이는 45세 입니다.\n"
     ]
    }
   ],
   "source": [
    "# default 인수\n",
    "\n",
    "def line(cnt=30):                  # default 인수: 매개변수에 기본값을 정해줌\n",
    "    for i in range(cnt):\n",
    "        print(\"*\", end=\"\")\n",
    "    print()\n",
    "\n",
    "\n",
    "def hello(name = None):           # default 지정\n",
    "    if name == None:\n",
    "        print('반드시 이름을 입력해야합니다.')\n",
    "        return\n",
    "    \n",
    "    print('안녕하세요 %s님'% name)\n",
    "\n",
    "def hello2(name, age=30, addr='서울'):      # default 인수는 모두 할당하던지, 맨 마지막부터 할당 \n",
    "    print('안녕하세요 {}에 사는 {}님... 당신의 나이는 {}세 입니다.'.format(addr, name, age))\n",
    "    \n",
    "########################################\n",
    "\n",
    "line(20)\n",
    "line(30)\n",
    "line()                            # default  인수로 인해 실인자를 입력하지 않아도 출력가능 \n",
    "\n",
    "hello(\"홍길동\")\n",
    "hello()\n",
    "hello2('서울','20','홍길동')\n",
    "hello2('20','임꺽정')\n",
    "hello2('임')\n",
    "hello2(age='35', name='신돌석')  # 순서대로 지정 or  매개변수를 직접 지정\n",
    "hello2('강',addr='경기도',age=45)"
   ]
  },
  {
   "cell_type": "code",
   "execution_count": 101,
   "metadata": {},
   "outputs": [
    {
     "name": "stdout",
     "output_type": "stream",
     "text": [
      "('홍길동',)\n",
      "<class 'tuple'>\n",
      "홍길동\n",
      "('홍길동', '임꺽정')\n",
      "<class 'tuple'>\n",
      "홍길동\n",
      "('홍길동', '임꺽정', '신')\n",
      "<class 'tuple'>\n",
      "홍길동\n",
      "[1, 2] [3, 4] [5, 6]\n",
      "([1, 2], [3, 4], [5, 6])\n",
      "[1, 2] [3, 4] [5, 6]\n",
      "65 165 홍길동\n",
      "{}\n",
      "75 180 임꺽정\n",
      "{'age': 30, 'addr': '서울', 'blood': 'A'}\n"
     ]
    }
   ],
   "source": [
    "# 가변 인수\n",
    "# * : 곱셈, 가변인수(tuple로 처리), tuple에선 unpacking(line15)\n",
    "# **: 거듭제곱, 가변인수(dict로 처리)\n",
    "def greeting(*name):      # 매개 변수에 * 추가하면 실인자에 상관없이 값을 입력 가능\n",
    "    print(name)\n",
    "    print(type(name))\n",
    "    print(name[0])\n",
    "\n",
    "    \n",
    "    \n",
    "    \n",
    "def info(weight, height, name, **other):\n",
    "    print(weight, height, name)\n",
    "    print(other)\n",
    "###############################\n",
    "\n",
    "greeting('홍길동')\n",
    "greeting('홍길동', '임꺽정')\n",
    "greeting('홍길동','임꺽정','신')\n",
    "\n",
    "# unpacking\n",
    "a, b, c = ([1,2],[3,4],[5,6])\n",
    "print(a,b,c)\n",
    "\n",
    "d = ([1,2],[3,4],[5,6])\n",
    "print(d)\n",
    "print(*d)\n",
    "\n",
    "#dict\n",
    "\n",
    "info(65, 165, '홍길동')\n",
    "info(75, 180, '임꺽정', age=30, addr='서울', blood='A')"
   ]
  },
  {
   "cell_type": "code",
   "execution_count": null,
   "metadata": {},
   "outputs": [],
   "source": []
  }
 ],
 "metadata": {
  "kernelspec": {
   "display_name": "Python 3",
   "language": "python",
   "name": "python3"
  },
  "language_info": {
   "codemirror_mode": {
    "name": "ipython",
    "version": 3
   },
   "file_extension": ".py",
   "mimetype": "text/x-python",
   "name": "python",
   "nbconvert_exporter": "python",
   "pygments_lexer": "ipython3",
   "version": "3.8.3"
  }
 },
 "nbformat": 4,
 "nbformat_minor": 4
}
